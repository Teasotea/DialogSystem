{
  "nbformat": 4,
  "nbformat_minor": 0,
  "metadata": {
    "colab": {
      "name": "ConversationalAI.ipynb",
      "provenance": [],
      "include_colab_link": true
    },
    "kernelspec": {
      "name": "python3",
      "display_name": "Python 3"
    },
    "language_info": {
      "name": "python"
    },
    "widgets": {
      "application/vnd.jupyter.widget-state+json": {
        "54cbb71928334c3d8880ff1f67189ea7": {
          "model_module": "@jupyter-widgets/controls",
          "model_name": "HBoxModel",
          "model_module_version": "1.5.0",
          "state": {
            "_dom_classes": [],
            "_model_module": "@jupyter-widgets/controls",
            "_model_module_version": "1.5.0",
            "_model_name": "HBoxModel",
            "_view_count": null,
            "_view_module": "@jupyter-widgets/controls",
            "_view_module_version": "1.5.0",
            "_view_name": "HBoxView",
            "box_style": "",
            "children": [
              "IPY_MODEL_661a20abf53d4900b88d4a1a3e638aed",
              "IPY_MODEL_d004a50e25a04f0b9b0256bacc5e52ff",
              "IPY_MODEL_eb2d5af4e4a54c8da4fe8e022a8ce860"
            ],
            "layout": "IPY_MODEL_c1d4cef9da194cf5bee114a2f70725aa"
          }
        },
        "661a20abf53d4900b88d4a1a3e638aed": {
          "model_module": "@jupyter-widgets/controls",
          "model_name": "HTMLModel",
          "model_module_version": "1.5.0",
          "state": {
            "_dom_classes": [],
            "_model_module": "@jupyter-widgets/controls",
            "_model_module_version": "1.5.0",
            "_model_name": "HTMLModel",
            "_view_count": null,
            "_view_module": "@jupyter-widgets/controls",
            "_view_module_version": "1.5.0",
            "_view_name": "HTMLView",
            "description": "",
            "description_tooltip": null,
            "layout": "IPY_MODEL_9d887750c1cc4d2fb6f182131de0336c",
            "placeholder": "​",
            "style": "IPY_MODEL_c54b4466b2bc465193b17d3670628da4",
            "value": "100%"
          }
        },
        "d004a50e25a04f0b9b0256bacc5e52ff": {
          "model_module": "@jupyter-widgets/controls",
          "model_name": "FloatProgressModel",
          "model_module_version": "1.5.0",
          "state": {
            "_dom_classes": [],
            "_model_module": "@jupyter-widgets/controls",
            "_model_module_version": "1.5.0",
            "_model_name": "FloatProgressModel",
            "_view_count": null,
            "_view_module": "@jupyter-widgets/controls",
            "_view_module_version": "1.5.0",
            "_view_name": "ProgressView",
            "bar_style": "success",
            "description": "",
            "description_tooltip": null,
            "layout": "IPY_MODEL_d1d12887f2184ad7aeb2fd9d5c611e3e",
            "max": 2,
            "min": 0,
            "orientation": "horizontal",
            "style": "IPY_MODEL_9f5b0e89f0564b038278b8b7fb77d061",
            "value": 2
          }
        },
        "eb2d5af4e4a54c8da4fe8e022a8ce860": {
          "model_module": "@jupyter-widgets/controls",
          "model_name": "HTMLModel",
          "model_module_version": "1.5.0",
          "state": {
            "_dom_classes": [],
            "_model_module": "@jupyter-widgets/controls",
            "_model_module_version": "1.5.0",
            "_model_name": "HTMLModel",
            "_view_count": null,
            "_view_module": "@jupyter-widgets/controls",
            "_view_module_version": "1.5.0",
            "_view_name": "HTMLView",
            "description": "",
            "description_tooltip": null,
            "layout": "IPY_MODEL_1d18872682844cd88424b0b1cb083b34",
            "placeholder": "​",
            "style": "IPY_MODEL_b5a0b11855634dc1ab1563e9355e4001",
            "value": " 2/2 [00:00&lt;00:00, 33.60it/s]"
          }
        },
        "c1d4cef9da194cf5bee114a2f70725aa": {
          "model_module": "@jupyter-widgets/base",
          "model_name": "LayoutModel",
          "model_module_version": "1.2.0",
          "state": {
            "_model_module": "@jupyter-widgets/base",
            "_model_module_version": "1.2.0",
            "_model_name": "LayoutModel",
            "_view_count": null,
            "_view_module": "@jupyter-widgets/base",
            "_view_module_version": "1.2.0",
            "_view_name": "LayoutView",
            "align_content": null,
            "align_items": null,
            "align_self": null,
            "border": null,
            "bottom": null,
            "display": null,
            "flex": null,
            "flex_flow": null,
            "grid_area": null,
            "grid_auto_columns": null,
            "grid_auto_flow": null,
            "grid_auto_rows": null,
            "grid_column": null,
            "grid_gap": null,
            "grid_row": null,
            "grid_template_areas": null,
            "grid_template_columns": null,
            "grid_template_rows": null,
            "height": null,
            "justify_content": null,
            "justify_items": null,
            "left": null,
            "margin": null,
            "max_height": null,
            "max_width": null,
            "min_height": null,
            "min_width": null,
            "object_fit": null,
            "object_position": null,
            "order": null,
            "overflow": null,
            "overflow_x": null,
            "overflow_y": null,
            "padding": null,
            "right": null,
            "top": null,
            "visibility": null,
            "width": null
          }
        },
        "9d887750c1cc4d2fb6f182131de0336c": {
          "model_module": "@jupyter-widgets/base",
          "model_name": "LayoutModel",
          "model_module_version": "1.2.0",
          "state": {
            "_model_module": "@jupyter-widgets/base",
            "_model_module_version": "1.2.0",
            "_model_name": "LayoutModel",
            "_view_count": null,
            "_view_module": "@jupyter-widgets/base",
            "_view_module_version": "1.2.0",
            "_view_name": "LayoutView",
            "align_content": null,
            "align_items": null,
            "align_self": null,
            "border": null,
            "bottom": null,
            "display": null,
            "flex": null,
            "flex_flow": null,
            "grid_area": null,
            "grid_auto_columns": null,
            "grid_auto_flow": null,
            "grid_auto_rows": null,
            "grid_column": null,
            "grid_gap": null,
            "grid_row": null,
            "grid_template_areas": null,
            "grid_template_columns": null,
            "grid_template_rows": null,
            "height": null,
            "justify_content": null,
            "justify_items": null,
            "left": null,
            "margin": null,
            "max_height": null,
            "max_width": null,
            "min_height": null,
            "min_width": null,
            "object_fit": null,
            "object_position": null,
            "order": null,
            "overflow": null,
            "overflow_x": null,
            "overflow_y": null,
            "padding": null,
            "right": null,
            "top": null,
            "visibility": null,
            "width": null
          }
        },
        "c54b4466b2bc465193b17d3670628da4": {
          "model_module": "@jupyter-widgets/controls",
          "model_name": "DescriptionStyleModel",
          "model_module_version": "1.5.0",
          "state": {
            "_model_module": "@jupyter-widgets/controls",
            "_model_module_version": "1.5.0",
            "_model_name": "DescriptionStyleModel",
            "_view_count": null,
            "_view_module": "@jupyter-widgets/base",
            "_view_module_version": "1.2.0",
            "_view_name": "StyleView",
            "description_width": ""
          }
        },
        "d1d12887f2184ad7aeb2fd9d5c611e3e": {
          "model_module": "@jupyter-widgets/base",
          "model_name": "LayoutModel",
          "model_module_version": "1.2.0",
          "state": {
            "_model_module": "@jupyter-widgets/base",
            "_model_module_version": "1.2.0",
            "_model_name": "LayoutModel",
            "_view_count": null,
            "_view_module": "@jupyter-widgets/base",
            "_view_module_version": "1.2.0",
            "_view_name": "LayoutView",
            "align_content": null,
            "align_items": null,
            "align_self": null,
            "border": null,
            "bottom": null,
            "display": null,
            "flex": null,
            "flex_flow": null,
            "grid_area": null,
            "grid_auto_columns": null,
            "grid_auto_flow": null,
            "grid_auto_rows": null,
            "grid_column": null,
            "grid_gap": null,
            "grid_row": null,
            "grid_template_areas": null,
            "grid_template_columns": null,
            "grid_template_rows": null,
            "height": null,
            "justify_content": null,
            "justify_items": null,
            "left": null,
            "margin": null,
            "max_height": null,
            "max_width": null,
            "min_height": null,
            "min_width": null,
            "object_fit": null,
            "object_position": null,
            "order": null,
            "overflow": null,
            "overflow_x": null,
            "overflow_y": null,
            "padding": null,
            "right": null,
            "top": null,
            "visibility": null,
            "width": null
          }
        },
        "9f5b0e89f0564b038278b8b7fb77d061": {
          "model_module": "@jupyter-widgets/controls",
          "model_name": "ProgressStyleModel",
          "model_module_version": "1.5.0",
          "state": {
            "_model_module": "@jupyter-widgets/controls",
            "_model_module_version": "1.5.0",
            "_model_name": "ProgressStyleModel",
            "_view_count": null,
            "_view_module": "@jupyter-widgets/base",
            "_view_module_version": "1.2.0",
            "_view_name": "StyleView",
            "bar_color": null,
            "description_width": ""
          }
        },
        "1d18872682844cd88424b0b1cb083b34": {
          "model_module": "@jupyter-widgets/base",
          "model_name": "LayoutModel",
          "model_module_version": "1.2.0",
          "state": {
            "_model_module": "@jupyter-widgets/base",
            "_model_module_version": "1.2.0",
            "_model_name": "LayoutModel",
            "_view_count": null,
            "_view_module": "@jupyter-widgets/base",
            "_view_module_version": "1.2.0",
            "_view_name": "LayoutView",
            "align_content": null,
            "align_items": null,
            "align_self": null,
            "border": null,
            "bottom": null,
            "display": null,
            "flex": null,
            "flex_flow": null,
            "grid_area": null,
            "grid_auto_columns": null,
            "grid_auto_flow": null,
            "grid_auto_rows": null,
            "grid_column": null,
            "grid_gap": null,
            "grid_row": null,
            "grid_template_areas": null,
            "grid_template_columns": null,
            "grid_template_rows": null,
            "height": null,
            "justify_content": null,
            "justify_items": null,
            "left": null,
            "margin": null,
            "max_height": null,
            "max_width": null,
            "min_height": null,
            "min_width": null,
            "object_fit": null,
            "object_position": null,
            "order": null,
            "overflow": null,
            "overflow_x": null,
            "overflow_y": null,
            "padding": null,
            "right": null,
            "top": null,
            "visibility": null,
            "width": null
          }
        },
        "b5a0b11855634dc1ab1563e9355e4001": {
          "model_module": "@jupyter-widgets/controls",
          "model_name": "DescriptionStyleModel",
          "model_module_version": "1.5.0",
          "state": {
            "_model_module": "@jupyter-widgets/controls",
            "_model_module_version": "1.5.0",
            "_model_name": "DescriptionStyleModel",
            "_view_count": null,
            "_view_module": "@jupyter-widgets/base",
            "_view_module_version": "1.2.0",
            "_view_name": "StyleView",
            "description_width": ""
          }
        }
      }
    }
  },
  "cells": [
    {
      "cell_type": "markdown",
      "metadata": {
        "id": "view-in-github",
        "colab_type": "text"
      },
      "source": [
        "<a href=\"https://colab.research.google.com/github/Teasotea/DialogSystem/blob/main/ConversationalAI.ipynb\" target=\"_parent\"><img src=\"https://colab.research.google.com/assets/colab-badge.svg\" alt=\"Open In Colab\"/></a>"
      ]
    },
    {
      "cell_type": "markdown",
      "source": [
        "# Import Libraries"
      ],
      "metadata": {
        "id": "c3vjtjwQNakl"
      }
    },
    {
      "cell_type": "code",
      "source": [
        "!pip install transformers"
      ],
      "metadata": {
        "colab": {
          "base_uri": "https://localhost:8080/"
        },
        "id": "7xkvwa-_QmLt",
        "outputId": "ecb80da1-6fa6-4461-8308-74eabeb181f8"
      },
      "execution_count": 2,
      "outputs": [
        {
          "output_type": "stream",
          "name": "stdout",
          "text": [
            "Collecting transformers\n",
            "  Downloading transformers-4.18.0-py3-none-any.whl (4.0 MB)\n",
            "\u001b[K     |████████████████████████████████| 4.0 MB 27.0 MB/s \n",
            "\u001b[?25hRequirement already satisfied: regex!=2019.12.17 in /usr/local/lib/python3.7/dist-packages (from transformers) (2019.12.20)\n",
            "Requirement already satisfied: importlib-metadata in /usr/local/lib/python3.7/dist-packages (from transformers) (4.11.3)\n",
            "Requirement already satisfied: requests in /usr/local/lib/python3.7/dist-packages (from transformers) (2.23.0)\n",
            "Collecting tokenizers!=0.11.3,<0.13,>=0.11.1\n",
            "  Downloading tokenizers-0.12.1-cp37-cp37m-manylinux_2_12_x86_64.manylinux2010_x86_64.whl (6.6 MB)\n",
            "\u001b[K     |████████████████████████████████| 6.6 MB 50.6 MB/s \n",
            "\u001b[?25hCollecting pyyaml>=5.1\n",
            "  Downloading PyYAML-6.0-cp37-cp37m-manylinux_2_5_x86_64.manylinux1_x86_64.manylinux_2_12_x86_64.manylinux2010_x86_64.whl (596 kB)\n",
            "\u001b[K     |████████████████████████████████| 596 kB 52.6 MB/s \n",
            "\u001b[?25hCollecting huggingface-hub<1.0,>=0.1.0\n",
            "  Downloading huggingface_hub-0.5.1-py3-none-any.whl (77 kB)\n",
            "\u001b[K     |████████████████████████████████| 77 kB 8.7 MB/s \n",
            "\u001b[?25hRequirement already satisfied: filelock in /usr/local/lib/python3.7/dist-packages (from transformers) (3.6.0)\n",
            "Requirement already satisfied: numpy>=1.17 in /usr/local/lib/python3.7/dist-packages (from transformers) (1.21.6)\n",
            "Requirement already satisfied: packaging>=20.0 in /usr/local/lib/python3.7/dist-packages (from transformers) (21.3)\n",
            "Collecting sacremoses\n",
            "  Downloading sacremoses-0.0.53.tar.gz (880 kB)\n",
            "\u001b[K     |████████████████████████████████| 880 kB 55.4 MB/s \n",
            "\u001b[?25hRequirement already satisfied: tqdm>=4.27 in /usr/local/lib/python3.7/dist-packages (from transformers) (4.64.0)\n",
            "Requirement already satisfied: typing-extensions>=3.7.4.3 in /usr/local/lib/python3.7/dist-packages (from huggingface-hub<1.0,>=0.1.0->transformers) (4.2.0)\n",
            "Requirement already satisfied: pyparsing!=3.0.5,>=2.0.2 in /usr/local/lib/python3.7/dist-packages (from packaging>=20.0->transformers) (3.0.8)\n",
            "Requirement already satisfied: zipp>=0.5 in /usr/local/lib/python3.7/dist-packages (from importlib-metadata->transformers) (3.8.0)\n",
            "Requirement already satisfied: chardet<4,>=3.0.2 in /usr/local/lib/python3.7/dist-packages (from requests->transformers) (3.0.4)\n",
            "Requirement already satisfied: certifi>=2017.4.17 in /usr/local/lib/python3.7/dist-packages (from requests->transformers) (2021.10.8)\n",
            "Requirement already satisfied: idna<3,>=2.5 in /usr/local/lib/python3.7/dist-packages (from requests->transformers) (2.10)\n",
            "Requirement already satisfied: urllib3!=1.25.0,!=1.25.1,<1.26,>=1.21.1 in /usr/local/lib/python3.7/dist-packages (from requests->transformers) (1.24.3)\n",
            "Requirement already satisfied: six in /usr/local/lib/python3.7/dist-packages (from sacremoses->transformers) (1.15.0)\n",
            "Requirement already satisfied: click in /usr/local/lib/python3.7/dist-packages (from sacremoses->transformers) (7.1.2)\n",
            "Requirement already satisfied: joblib in /usr/local/lib/python3.7/dist-packages (from sacremoses->transformers) (1.1.0)\n",
            "Building wheels for collected packages: sacremoses\n",
            "  Building wheel for sacremoses (setup.py) ... \u001b[?25l\u001b[?25hdone\n",
            "  Created wheel for sacremoses: filename=sacremoses-0.0.53-py3-none-any.whl size=895260 sha256=711392dfea8311834feb043456cc6944ba4014e55347e3e8aeafd9d67fadf8e8\n",
            "  Stored in directory: /root/.cache/pip/wheels/87/39/dd/a83eeef36d0bf98e7a4d1933a4ad2d660295a40613079bafc9\n",
            "Successfully built sacremoses\n",
            "Installing collected packages: pyyaml, tokenizers, sacremoses, huggingface-hub, transformers\n",
            "  Attempting uninstall: pyyaml\n",
            "    Found existing installation: PyYAML 3.13\n",
            "    Uninstalling PyYAML-3.13:\n",
            "      Successfully uninstalled PyYAML-3.13\n",
            "Successfully installed huggingface-hub-0.5.1 pyyaml-6.0 sacremoses-0.0.53 tokenizers-0.12.1 transformers-4.18.0\n"
          ]
        }
      ]
    },
    {
      "cell_type": "code",
      "source": [
        "!pip install nltk"
      ],
      "metadata": {
        "colab": {
          "base_uri": "https://localhost:8080/"
        },
        "id": "x8AfIs3-V_BY",
        "outputId": "7a0801b2-3d25-4a14-88f3-0149c7c2e1c5"
      },
      "execution_count": 3,
      "outputs": [
        {
          "output_type": "stream",
          "name": "stdout",
          "text": [
            "Requirement already satisfied: nltk in /usr/local/lib/python3.7/dist-packages (3.2.5)\n",
            "Requirement already satisfied: six in /usr/local/lib/python3.7/dist-packages (from nltk) (1.15.0)\n"
          ]
        }
      ]
    },
    {
      "cell_type": "code",
      "execution_count": 4,
      "metadata": {
        "id": "QEwDK7HzQGzZ"
      },
      "outputs": [],
      "source": [
        "import numpy as np\n",
        "import pandas as pd\n",
        "import time\n",
        "import os\n",
        "from transformers import AutoModelForCausalLM, AutoTokenizer\n",
        "import torch\n",
        "import nltk\n",
        "from sklearn.svm import OneClassSVM\n",
        "import re"
      ]
    },
    {
      "cell_type": "markdown",
      "source": [
        "# Part I: Classification"
      ],
      "metadata": {
        "id": "dpkTWUHtQM8x"
      }
    },
    {
      "cell_type": "markdown",
      "source": [
        "## Greeting Classification"
      ],
      "metadata": {
        "id": "PncwCmo8bMzP"
      }
    },
    {
      "cell_type": "code",
      "source": [
        "training_data_greet, training_data_bye = [], []\n",
        "greetings =list(dict.fromkeys(['hi', \"hola\", 'hey', 'hello','morning', 'evening', 'good day', 'good morning', 'greetings', 'howdy', 'welcome', 'bonjour',\n",
        "             'buenas noches', 'buenos dias', 'salutation', 'salut', 'hail', 'salaam', 'aloha', 'good wishes',\n",
        "             'aloha', 'yoo-hoo', 'yawp', 'It’s always a pleasure to see you.', 'oh', 'ave', 'yo', 'hi there', \n",
        "             \"hi\", \"hello\", \"hey\", \"helloo\", \"hellooo\", \"g morining\", \"gmorning\", \"good morning\", \"morning\", \"good day\", \"good afternoon\", \"good evening\", \"greetings\", \"greeting\", \n",
        "             \"good to see you\", \"its good seeing you\", \"g’day\", \"howdy\"]))\n",
        "goodbyes = list(dict.fromkeys(['bye', 'exit', 'quit', 'I’m off', \n",
        "                               'goodbye', 'Goodnight', 'good night !', 'bye-bye',\n",
        "                               'See ya!', 'Ciao', 'Adios']))\n",
        "\n",
        "for i in greetings:\n",
        "  training_data_greet.append({\"class\":\"greeting\", \"sentence\":i})\n",
        "for i in goodbyes:\n",
        "  training_data_bye.append({'class':'goodbyes', 'sentence': i})\n",
        "  \n",
        "greet_df = pd.DataFrame(training_data_greet)\n",
        "bye_df = pd.DataFrame(training_data_bye)\n",
        "\n",
        "bye_df"
      ],
      "metadata": {
        "colab": {
          "base_uri": "https://localhost:8080/",
          "height": 394
        },
        "id": "09ZwJ8-8QDKG",
        "outputId": "5d84b566-45dc-46f0-bfa2-5683b7286938"
      },
      "execution_count": 5,
      "outputs": [
        {
          "output_type": "execute_result",
          "data": {
            "text/plain": [
              "       class      sentence\n",
              "0   goodbyes           bye\n",
              "1   goodbyes          exit\n",
              "2   goodbyes          quit\n",
              "3   goodbyes       I’m off\n",
              "4   goodbyes       goodbye\n",
              "5   goodbyes     Goodnight\n",
              "6   goodbyes  good night !\n",
              "7   goodbyes       bye-bye\n",
              "8   goodbyes       See ya!\n",
              "9   goodbyes          Ciao\n",
              "10  goodbyes         Adios"
            ],
            "text/html": [
              "\n",
              "  <div id=\"df-5b1a3262-0aed-4753-9590-e9909f3c83a2\">\n",
              "    <div class=\"colab-df-container\">\n",
              "      <div>\n",
              "<style scoped>\n",
              "    .dataframe tbody tr th:only-of-type {\n",
              "        vertical-align: middle;\n",
              "    }\n",
              "\n",
              "    .dataframe tbody tr th {\n",
              "        vertical-align: top;\n",
              "    }\n",
              "\n",
              "    .dataframe thead th {\n",
              "        text-align: right;\n",
              "    }\n",
              "</style>\n",
              "<table border=\"1\" class=\"dataframe\">\n",
              "  <thead>\n",
              "    <tr style=\"text-align: right;\">\n",
              "      <th></th>\n",
              "      <th>class</th>\n",
              "      <th>sentence</th>\n",
              "    </tr>\n",
              "  </thead>\n",
              "  <tbody>\n",
              "    <tr>\n",
              "      <th>0</th>\n",
              "      <td>goodbyes</td>\n",
              "      <td>bye</td>\n",
              "    </tr>\n",
              "    <tr>\n",
              "      <th>1</th>\n",
              "      <td>goodbyes</td>\n",
              "      <td>exit</td>\n",
              "    </tr>\n",
              "    <tr>\n",
              "      <th>2</th>\n",
              "      <td>goodbyes</td>\n",
              "      <td>quit</td>\n",
              "    </tr>\n",
              "    <tr>\n",
              "      <th>3</th>\n",
              "      <td>goodbyes</td>\n",
              "      <td>I’m off</td>\n",
              "    </tr>\n",
              "    <tr>\n",
              "      <th>4</th>\n",
              "      <td>goodbyes</td>\n",
              "      <td>goodbye</td>\n",
              "    </tr>\n",
              "    <tr>\n",
              "      <th>5</th>\n",
              "      <td>goodbyes</td>\n",
              "      <td>Goodnight</td>\n",
              "    </tr>\n",
              "    <tr>\n",
              "      <th>6</th>\n",
              "      <td>goodbyes</td>\n",
              "      <td>good night !</td>\n",
              "    </tr>\n",
              "    <tr>\n",
              "      <th>7</th>\n",
              "      <td>goodbyes</td>\n",
              "      <td>bye-bye</td>\n",
              "    </tr>\n",
              "    <tr>\n",
              "      <th>8</th>\n",
              "      <td>goodbyes</td>\n",
              "      <td>See ya!</td>\n",
              "    </tr>\n",
              "    <tr>\n",
              "      <th>9</th>\n",
              "      <td>goodbyes</td>\n",
              "      <td>Ciao</td>\n",
              "    </tr>\n",
              "    <tr>\n",
              "      <th>10</th>\n",
              "      <td>goodbyes</td>\n",
              "      <td>Adios</td>\n",
              "    </tr>\n",
              "  </tbody>\n",
              "</table>\n",
              "</div>\n",
              "      <button class=\"colab-df-convert\" onclick=\"convertToInteractive('df-5b1a3262-0aed-4753-9590-e9909f3c83a2')\"\n",
              "              title=\"Convert this dataframe to an interactive table.\"\n",
              "              style=\"display:none;\">\n",
              "        \n",
              "  <svg xmlns=\"http://www.w3.org/2000/svg\" height=\"24px\"viewBox=\"0 0 24 24\"\n",
              "       width=\"24px\">\n",
              "    <path d=\"M0 0h24v24H0V0z\" fill=\"none\"/>\n",
              "    <path d=\"M18.56 5.44l.94 2.06.94-2.06 2.06-.94-2.06-.94-.94-2.06-.94 2.06-2.06.94zm-11 1L8.5 8.5l.94-2.06 2.06-.94-2.06-.94L8.5 2.5l-.94 2.06-2.06.94zm10 10l.94 2.06.94-2.06 2.06-.94-2.06-.94-.94-2.06-.94 2.06-2.06.94z\"/><path d=\"M17.41 7.96l-1.37-1.37c-.4-.4-.92-.59-1.43-.59-.52 0-1.04.2-1.43.59L10.3 9.45l-7.72 7.72c-.78.78-.78 2.05 0 2.83L4 21.41c.39.39.9.59 1.41.59.51 0 1.02-.2 1.41-.59l7.78-7.78 2.81-2.81c.8-.78.8-2.07 0-2.86zM5.41 20L4 18.59l7.72-7.72 1.47 1.35L5.41 20z\"/>\n",
              "  </svg>\n",
              "      </button>\n",
              "      \n",
              "  <style>\n",
              "    .colab-df-container {\n",
              "      display:flex;\n",
              "      flex-wrap:wrap;\n",
              "      gap: 12px;\n",
              "    }\n",
              "\n",
              "    .colab-df-convert {\n",
              "      background-color: #E8F0FE;\n",
              "      border: none;\n",
              "      border-radius: 50%;\n",
              "      cursor: pointer;\n",
              "      display: none;\n",
              "      fill: #1967D2;\n",
              "      height: 32px;\n",
              "      padding: 0 0 0 0;\n",
              "      width: 32px;\n",
              "    }\n",
              "\n",
              "    .colab-df-convert:hover {\n",
              "      background-color: #E2EBFA;\n",
              "      box-shadow: 0px 1px 2px rgba(60, 64, 67, 0.3), 0px 1px 3px 1px rgba(60, 64, 67, 0.15);\n",
              "      fill: #174EA6;\n",
              "    }\n",
              "\n",
              "    [theme=dark] .colab-df-convert {\n",
              "      background-color: #3B4455;\n",
              "      fill: #D2E3FC;\n",
              "    }\n",
              "\n",
              "    [theme=dark] .colab-df-convert:hover {\n",
              "      background-color: #434B5C;\n",
              "      box-shadow: 0px 1px 3px 1px rgba(0, 0, 0, 0.15);\n",
              "      filter: drop-shadow(0px 1px 2px rgba(0, 0, 0, 0.3));\n",
              "      fill: #FFFFFF;\n",
              "    }\n",
              "  </style>\n",
              "\n",
              "      <script>\n",
              "        const buttonEl =\n",
              "          document.querySelector('#df-5b1a3262-0aed-4753-9590-e9909f3c83a2 button.colab-df-convert');\n",
              "        buttonEl.style.display =\n",
              "          google.colab.kernel.accessAllowed ? 'block' : 'none';\n",
              "\n",
              "        async function convertToInteractive(key) {\n",
              "          const element = document.querySelector('#df-5b1a3262-0aed-4753-9590-e9909f3c83a2');\n",
              "          const dataTable =\n",
              "            await google.colab.kernel.invokeFunction('convertToInteractive',\n",
              "                                                     [key], {});\n",
              "          if (!dataTable) return;\n",
              "\n",
              "          const docLinkHtml = 'Like what you see? Visit the ' +\n",
              "            '<a target=\"_blank\" href=https://colab.research.google.com/notebooks/data_table.ipynb>data table notebook</a>'\n",
              "            + ' to learn more about interactive tables.';\n",
              "          element.innerHTML = '';\n",
              "          dataTable['output_type'] = 'display_data';\n",
              "          await google.colab.output.renderOutput(dataTable, element);\n",
              "          const docLink = document.createElement('div');\n",
              "          docLink.innerHTML = docLinkHtml;\n",
              "          element.appendChild(docLink);\n",
              "        }\n",
              "      </script>\n",
              "    </div>\n",
              "  </div>\n",
              "  "
            ]
          },
          "metadata": {},
          "execution_count": 5
        }
      ]
    },
    {
      "cell_type": "code",
      "source": [
        "greet_df.to_csv('greet.csv',index=False)\n",
        "bye_df.to_csv('goodbyes.csv', index=False)"
      ],
      "metadata": {
        "id": "t2-kWAP8N05E"
      },
      "execution_count": 22,
      "outputs": []
    },
    {
      "cell_type": "code",
      "source": [
        "greetings_test = ['hi, there!','psst, can you tell me, which algorithm would work best if I have imbalanced dataset?','What\\'s your favourite music?','Hello? Somebody is here?', 'people often say welcome to guests','How many answers can you provide on this topic?',\"hola, hola!\", 'tell me about yourself','are you a bot','which movie would ypu suggest to watch this evening?', 'which laptop is the best for Data Science?', 'What about language generation task?','hey, bot:)', 'water']\n",
        "testy_greet = np.array([ 1, -1, -1, 1, -1, -1, 1, -1,  -1, -1, -1,  -1,  1, -1])\n",
        "\n",
        "bye_test = ['bye, bot:)', 'OK, then see you tomorrow', 'what does \\'exit\\' mean?', 'I\\'ll take off my hat behind you, bot', 'Let\\'s quit this conversation', 'How to translate \\'adios\\'?', 'Catch me, if you can!', 'Too boring( OK, see you later then']\n",
        "testy_bye = np.array([ 1, 1, -1, -1, 1, -1, -1, 1])\n",
        "# array([ 1, -1, -1, -1, -1, -1, -1, -1])"
      ],
      "metadata": {
        "id": "nX3-pL5D-0VG"
      },
      "execution_count": 6,
      "outputs": []
    },
    {
      "cell_type": "markdown",
      "source": [
        "### One-Class Classification with SVM"
      ],
      "metadata": {
        "id": "HRQQKHtr5Pbq"
      }
    },
    {
      "cell_type": "code",
      "source": [
        "from google.colab import drive\n",
        "drive.mount('/content/drive')"
      ],
      "metadata": {
        "colab": {
          "base_uri": "https://localhost:8080/"
        },
        "id": "IfD4NDIZR3b4",
        "outputId": "c8c25fe1-8a91-40aa-fd1d-ecfbaf731e41"
      },
      "execution_count": 7,
      "outputs": [
        {
          "output_type": "stream",
          "name": "stdout",
          "text": [
            "Mounted at /content/drive\n"
          ]
        }
      ]
    },
    {
      "cell_type": "code",
      "source": [
        "from tensorflow.keras.preprocessing.text import Tokenizer\n",
        "from tensorflow.keras.preprocessing.sequence import pad_sequences\n",
        "from sklearn.metrics import f1_score"
      ],
      "metadata": {
        "id": "vb0_TOEH5Vw7"
      },
      "execution_count": 8,
      "outputs": []
    },
    {
      "cell_type": "code",
      "source": [
        "num_words = 1000\n",
        "oov_token = '<UNK>'\n",
        "pad_type = 'post'\n",
        "trunc_type = 'post'"
      ],
      "metadata": {
        "id": "H35LmGn556Ya"
      },
      "execution_count": 9,
      "outputs": []
    },
    {
      "cell_type": "code",
      "source": [
        "tokenizer_greet = Tokenizer(num_words=num_words, oov_token=oov_token)\n",
        "tokenizer_greet.fit_on_texts(greetings)\n",
        "word_index_greet = tokenizer_greet.word_index\n",
        "train_sequences_greet = tokenizer_greet.texts_to_sequences(greetings)\n",
        "\n",
        "# Get max training sequence length\n",
        "maxlen_greet = 10 #max([len(x) for x in train_sequences_greet])\n",
        "\n",
        "# Pad the training sequences\n",
        "train_padded_greet = pad_sequences(train_sequences_greet, padding=pad_type, truncating=trunc_type, maxlen=maxlen_greet)\n",
        "\n",
        "# Output the results of our work\n",
        "print(\"Word index:\\n\", word_index_greet)\n",
        "print(\"\\nTraining sequences:\\n\", train_sequences_greet)\n",
        "# print(\"\\nPadded training sequences:\\n\", train_padded)\n",
        "print(\"\\nPadded training shape:\", train_padded_greet.shape)\n",
        "print(\"Training sequences data type:\", type(train_sequences_greet))\n",
        "print(\"Padded Training sequences data type:\", type(train_padded_greet))\n",
        "\n",
        "test_sequences_greet = tokenizer_greet.texts_to_sequences(greetings_test)\n",
        "test_padded_greet = pad_sequences(test_sequences_greet, padding=pad_type, truncating=trunc_type, maxlen=maxlen_greet)\n",
        "\n",
        "print(\"Testing sequences:\\n\", test_sequences_greet)\n",
        "print(\"\\nPadded testing sequences:\\n\", test_padded_greet)\n",
        "print(\"\\nPadded testing shape:\",test_padded_greet.shape)\n",
        "\n",
        "for x, y in zip(greetings_test, test_padded_greet):\n",
        "  print('{} -> {}'.format(x, y))"
      ],
      "metadata": {
        "id": "2e7CLftR59kQ",
        "outputId": "56a008a4-38de-4c45-e872-3019ccf954fc",
        "colab": {
          "base_uri": "https://localhost:8080/"
        }
      },
      "execution_count": 10,
      "outputs": [
        {
          "output_type": "stream",
          "name": "stdout",
          "text": [
            "Word index:\n",
            " {'<UNK>': 1, 'good': 2, 'you': 3, 'hi': 4, 'morning': 5, 'evening': 6, 'to': 7, 'see': 8, 'hola': 9, 'hey': 10, 'hello': 11, 'day': 12, 'greetings': 13, 'howdy': 14, 'welcome': 15, 'bonjour': 16, 'buenas': 17, 'noches': 18, 'buenos': 19, 'dias': 20, 'salutation': 21, 'salut': 22, 'hail': 23, 'salaam': 24, 'aloha': 25, 'wishes': 26, 'yoo': 27, 'hoo': 28, 'yawp': 29, 'it’s': 30, 'always': 31, 'a': 32, 'pleasure': 33, 'oh': 34, 'ave': 35, 'yo': 36, 'there': 37, 'helloo': 38, 'hellooo': 39, 'g': 40, 'morining': 41, 'gmorning': 42, 'afternoon': 43, 'greeting': 44, 'its': 45, 'seeing': 46, 'g’day': 47}\n",
            "\n",
            "Training sequences:\n",
            " [[4], [9], [10], [11], [5], [6], [2, 12], [2, 5], [13], [14], [15], [16], [17, 18], [19, 20], [21], [22], [23], [24], [25], [2, 26], [27, 28], [29], [30, 31, 32, 33, 7, 8, 3], [34], [35], [36], [4, 37], [38], [39], [40, 41], [42], [2, 43], [2, 6], [44], [2, 7, 8, 3], [45, 2, 46, 3], [47]]\n",
            "\n",
            "Padded training shape: (37, 10)\n",
            "Training sequences data type: <class 'list'>\n",
            "Padded Training sequences data type: <class 'numpy.ndarray'>\n",
            "Testing sequences:\n",
            " [[4, 37], [1, 1, 3, 1, 1, 1, 1, 1, 1, 1, 1, 1, 1, 1, 1], [1, 1, 1, 1], [11, 1, 1, 1], [1, 1, 1, 15, 7, 1], [1, 1, 1, 1, 3, 1, 1, 1, 1], [9, 9], [1, 1, 1, 1], [1, 3, 32, 1], [1, 1, 1, 1, 1, 7, 1, 1, 6], [1, 1, 1, 1, 1, 1, 1, 1], [1, 1, 1, 1, 1], [10, 1], [1]]\n",
            "\n",
            "Padded testing sequences:\n",
            " [[ 4 37  0  0  0  0  0  0  0  0]\n",
            " [ 1  1  3  1  1  1  1  1  1  1]\n",
            " [ 1  1  1  1  0  0  0  0  0  0]\n",
            " [11  1  1  1  0  0  0  0  0  0]\n",
            " [ 1  1  1 15  7  1  0  0  0  0]\n",
            " [ 1  1  1  1  3  1  1  1  1  0]\n",
            " [ 9  9  0  0  0  0  0  0  0  0]\n",
            " [ 1  1  1  1  0  0  0  0  0  0]\n",
            " [ 1  3 32  1  0  0  0  0  0  0]\n",
            " [ 1  1  1  1  1  7  1  1  6  0]\n",
            " [ 1  1  1  1  1  1  1  1  0  0]\n",
            " [ 1  1  1  1  1  0  0  0  0  0]\n",
            " [10  1  0  0  0  0  0  0  0  0]\n",
            " [ 1  0  0  0  0  0  0  0  0  0]]\n",
            "\n",
            "Padded testing shape: (14, 10)\n",
            "hi, there! -> [ 4 37  0  0  0  0  0  0  0  0]\n",
            "psst, can you tell me, which algorithm would work best if I have imbalanced dataset? -> [1 1 3 1 1 1 1 1 1 1]\n",
            "What's your favourite music? -> [1 1 1 1 0 0 0 0 0 0]\n",
            "Hello? Somebody is here? -> [11  1  1  1  0  0  0  0  0  0]\n",
            "people often say welcome to guests -> [ 1  1  1 15  7  1  0  0  0  0]\n",
            "How many answers can you provide on this topic? -> [1 1 1 1 3 1 1 1 1 0]\n",
            "hola, hola! -> [9 9 0 0 0 0 0 0 0 0]\n",
            "tell me about yourself -> [1 1 1 1 0 0 0 0 0 0]\n",
            "are you a bot -> [ 1  3 32  1  0  0  0  0  0  0]\n",
            "which movie would ypu suggest to watch this evening? -> [1 1 1 1 1 7 1 1 6 0]\n",
            "which laptop is the best for Data Science? -> [1 1 1 1 1 1 1 1 0 0]\n",
            "What about language generation task? -> [1 1 1 1 1 0 0 0 0 0]\n",
            "hey, bot:) -> [10  1  0  0  0  0  0  0  0  0]\n",
            "water -> [1 0 0 0 0 0 0 0 0 0]\n"
          ]
        }
      ]
    },
    {
      "cell_type": "code",
      "source": [
        "tokenizer_bye= Tokenizer(num_words=num_words, oov_token=oov_token)\n",
        "tokenizer_bye.fit_on_texts(goodbyes)\n",
        "word_index_bye = tokenizer_bye.word_index\n",
        "train_sequences_bye = tokenizer_bye.texts_to_sequences(goodbyes)\n",
        "\n",
        "# Get max training sequence length\n",
        "maxlen_bye = 10 #max([len(x) for x in train_sequences_bye])\n",
        "\n",
        "# Pad the training sequences\n",
        "train_padded_bye = pad_sequences(train_sequences_bye, padding=pad_type, truncating=trunc_type, maxlen=maxlen_bye)\n",
        "\n",
        "# Output the results of our work\n",
        "print(\"Word index:\\n\", word_index_bye)\n",
        "print(\"\\nTraining sequences:\\n\", train_sequences_bye)\n",
        "# print(\"\\nPadded training sequences:\\n\", train_padded)\n",
        "print(\"\\nPadded training shape:\", train_padded_bye.shape)\n",
        "print(\"Training sequences data type:\", type(train_sequences_bye))\n",
        "print(\"Padded Training sequences data type:\", type(train_padded_bye))\n",
        "\n",
        "test_sequences_bye = tokenizer_bye.texts_to_sequences(bye_test)\n",
        "test_padded_bye = pad_sequences(test_sequences_bye, padding=pad_type, truncating=trunc_type, maxlen=maxlen_bye)\n",
        "\n",
        "print(\"Testing sequences:\\n\", test_sequences_bye)\n",
        "print(\"\\nPadded testing sequences:\\n\", test_padded_bye)\n",
        "print(\"\\nPadded testing shape:\",test_padded_bye.shape)\n",
        "\n",
        "for x, y in zip(bye_test, test_padded_bye):\n",
        "  print('{} -> {}'.format(x, y))"
      ],
      "metadata": {
        "id": "qmvd1PRBrV18",
        "outputId": "3cb8e558-3d14-4647-99e4-ddb143f950eb",
        "colab": {
          "base_uri": "https://localhost:8080/"
        }
      },
      "execution_count": 11,
      "outputs": [
        {
          "output_type": "stream",
          "name": "stdout",
          "text": [
            "Word index:\n",
            " {'<UNK>': 1, 'bye': 2, 'exit': 3, 'quit': 4, 'i’m': 5, 'off': 6, 'goodbye': 7, 'goodnight': 8, 'good': 9, 'night': 10, 'see': 11, 'ya': 12, 'ciao': 13, 'adios': 14}\n",
            "\n",
            "Training sequences:\n",
            " [[2], [3], [4], [5, 6], [7], [8], [9, 10], [2, 2], [11, 12], [13], [14]]\n",
            "\n",
            "Padded training shape: (11, 10)\n",
            "Training sequences data type: <class 'list'>\n",
            "Padded Training sequences data type: <class 'numpy.ndarray'>\n",
            "Testing sequences:\n",
            " [[2, 1], [1, 1, 11, 1, 1], [1, 1, 1, 1], [1, 1, 6, 1, 1, 1, 1, 1], [1, 4, 1, 1], [1, 1, 1, 1], [1, 1, 1, 1, 1], [1, 1, 1, 11, 1, 1, 1]]\n",
            "\n",
            "Padded testing sequences:\n",
            " [[ 2  1  0  0  0  0  0  0  0  0]\n",
            " [ 1  1 11  1  1  0  0  0  0  0]\n",
            " [ 1  1  1  1  0  0  0  0  0  0]\n",
            " [ 1  1  6  1  1  1  1  1  0  0]\n",
            " [ 1  4  1  1  0  0  0  0  0  0]\n",
            " [ 1  1  1  1  0  0  0  0  0  0]\n",
            " [ 1  1  1  1  1  0  0  0  0  0]\n",
            " [ 1  1  1 11  1  1  1  0  0  0]]\n",
            "\n",
            "Padded testing shape: (8, 10)\n",
            "bye, bot:) -> [2 1 0 0 0 0 0 0 0 0]\n",
            "OK, then see you tomorrow -> [ 1  1 11  1  1  0  0  0  0  0]\n",
            "what does 'exit' mean? -> [1 1 1 1 0 0 0 0 0 0]\n",
            "I'll take off my hat behind you, bot -> [1 1 6 1 1 1 1 1 0 0]\n",
            "Let's quit this conversation -> [1 4 1 1 0 0 0 0 0 0]\n",
            "How to translate 'adios'? -> [1 1 1 1 0 0 0 0 0 0]\n",
            "Catch me, if you can! -> [1 1 1 1 1 0 0 0 0 0]\n",
            "Too boring( OK, see you later then -> [ 1  1  1 11  1  1  1  0  0  0]\n"
          ]
        }
      ]
    },
    {
      "cell_type": "markdown",
      "source": [
        "### Greetings"
      ],
      "metadata": {
        "id": "7DdfkklKvFgr"
      }
    },
    {
      "cell_type": "code",
      "source": [
        "model = OneClassSVM(gamma='scale', nu=0.01)\n",
        "model.fit(train_padded_greet)"
      ],
      "metadata": {
        "id": "eb7UqXT37vEF",
        "outputId": "7e8bec3e-b321-4e51-c9a0-481c515030df",
        "colab": {
          "base_uri": "https://localhost:8080/"
        }
      },
      "execution_count": 12,
      "outputs": [
        {
          "output_type": "execute_result",
          "data": {
            "text/plain": [
              "OneClassSVM(nu=0.01)"
            ]
          },
          "metadata": {},
          "execution_count": 12
        }
      ]
    },
    {
      "cell_type": "code",
      "source": [
        "#+1 for normal examples, so-called inliers, and a -1 for outliers.\n",
        "yhat_greet = model.predict(test_padded_greet)"
      ],
      "metadata": {
        "id": "5gsn6d3c-UoE"
      },
      "execution_count": 13,
      "outputs": []
    },
    {
      "cell_type": "code",
      "source": [
        "yhat_greet"
      ],
      "metadata": {
        "id": "ww8-v2DHB1FZ",
        "outputId": "c431ded6-e95d-4a91-d180-2aed6675d5d0",
        "colab": {
          "base_uri": "https://localhost:8080/"
        }
      },
      "execution_count": 14,
      "outputs": [
        {
          "output_type": "execute_result",
          "data": {
            "text/plain": [
              "array([ 1, -1, -1,  1, -1, -1,  1, -1, -1, -1, -1, -1,  1, -1])"
            ]
          },
          "metadata": {},
          "execution_count": 14
        }
      ]
    },
    {
      "cell_type": "code",
      "source": [
        "score = f1_score(testy_greet, yhat_greet, pos_label=-1)\n",
        "print('F1 Score: %.3f' % score)"
      ],
      "metadata": {
        "id": "eTyrubiFCmnr",
        "outputId": "569b80cf-a123-4487-ee87-e8bc2a28d2cf",
        "colab": {
          "base_uri": "https://localhost:8080/"
        }
      },
      "execution_count": 15,
      "outputs": [
        {
          "output_type": "stream",
          "name": "stdout",
          "text": [
            "F1 Score: 1.000\n"
          ]
        }
      ]
    },
    {
      "cell_type": "code",
      "source": [
        "def classify_greet(sent):\n",
        "  l = [sent]\n",
        "  test_sequences = tokenizer_greet.texts_to_sequences(l)\n",
        "  test_padded= pad_sequences(test_sequences, padding=pad_type, truncating=trunc_type, maxlen=maxlen_greet)\n",
        "  pred_class_greet = model.predict(test_padded)\n",
        "  cl = int(*pred_class_greet)\n",
        "  return  cl\n",
        "  \n",
        "print(classify_greet('Hey! Lets talk, bot'))"
      ],
      "metadata": {
        "id": "6QRupywXHAqw",
        "outputId": "7e6b6af9-0475-4a12-bed9-ce432de6d837",
        "colab": {
          "base_uri": "https://localhost:8080/"
        }
      },
      "execution_count": 16,
      "outputs": [
        {
          "output_type": "stream",
          "name": "stdout",
          "text": [
            "1\n"
          ]
        }
      ]
    },
    {
      "cell_type": "markdown",
      "source": [
        "### Gooodbyes"
      ],
      "metadata": {
        "id": "Xjj0qaWhvKZc"
      }
    },
    {
      "cell_type": "code",
      "source": [
        "model_bye = OneClassSVM(gamma='scale', nu=0.01)\n",
        "model_bye.fit(train_padded_bye)"
      ],
      "metadata": {
        "id": "a5MKUNGavaAt",
        "colab": {
          "base_uri": "https://localhost:8080/"
        },
        "outputId": "b977f7f6-fb31-4dc5-d6e7-6b8d03e666b7"
      },
      "execution_count": 17,
      "outputs": [
        {
          "output_type": "execute_result",
          "data": {
            "text/plain": [
              "OneClassSVM(nu=0.01)"
            ]
          },
          "metadata": {},
          "execution_count": 17
        }
      ]
    },
    {
      "cell_type": "code",
      "source": [
        "yhat_bye = model_bye.predict(test_padded_bye)\n",
        "yhat_bye"
      ],
      "metadata": {
        "colab": {
          "base_uri": "https://localhost:8080/"
        },
        "id": "YpJHv5xu3smI",
        "outputId": "43acb266-c2e8-40a4-b028-6dd130fead85"
      },
      "execution_count": 18,
      "outputs": [
        {
          "output_type": "execute_result",
          "data": {
            "text/plain": [
              "array([ 1, -1, -1, -1, -1, -1, -1, -1])"
            ]
          },
          "metadata": {},
          "execution_count": 18
        }
      ]
    },
    {
      "cell_type": "code",
      "source": [
        "score = f1_score(testy_bye, yhat_bye, pos_label=-1)\n",
        "print('F1 Score: %.3f' % score)"
      ],
      "metadata": {
        "colab": {
          "base_uri": "https://localhost:8080/"
        },
        "id": "iEqmZ0zX4Air",
        "outputId": "9157fdc3-7ef3-4dc4-a714-43efd028de65"
      },
      "execution_count": 19,
      "outputs": [
        {
          "output_type": "stream",
          "name": "stdout",
          "text": [
            "F1 Score: 0.727\n"
          ]
        }
      ]
    },
    {
      "cell_type": "markdown",
      "source": [
        "*I need to gather bigger dataset (or use better algirothm) in order to improve the model* \n",
        "\n"
      ],
      "metadata": {
        "id": "9cOLORmZTtLY"
      }
    },
    {
      "cell_type": "code",
      "source": [
        "def classify_goodbyes(sent):\n",
        "  l = [sent]\n",
        "  test_sequences = tokenizer_bye.texts_to_sequences(l)\n",
        "  test_padded= pad_sequences(test_sequences, padding=pad_type, truncating=trunc_type, maxlen=maxlen_bye)\n",
        "  pred_class = model_bye.predict(test_padded)\n",
        "  cl = int(*pred_class)\n",
        "  return  cl\n",
        "  \n",
        "print(classify_goodbyes('Bye, bot'))"
      ],
      "metadata": {
        "colab": {
          "base_uri": "https://localhost:8080/"
        },
        "id": "C9Cu6DUh4ZEK",
        "outputId": "28747d16-1bde-4825-a1b0-badb260d4faa"
      },
      "execution_count": 20,
      "outputs": [
        {
          "output_type": "stream",
          "name": "stdout",
          "text": [
            "1\n"
          ]
        }
      ]
    },
    {
      "cell_type": "markdown",
      "source": [
        "# Part II: Question Answering"
      ],
      "metadata": {
        "id": "bqc-tw4XQL2T"
      }
    },
    {
      "cell_type": "code",
      "source": [
        "!pip install datasets"
      ],
      "metadata": {
        "id": "RVOiMcK5O1p6",
        "colab": {
          "base_uri": "https://localhost:8080/"
        },
        "outputId": "a77a2b90-3d18-4429-c25f-49e7980df71b"
      },
      "execution_count": null,
      "outputs": [
        {
          "output_type": "stream",
          "name": "stdout",
          "text": [
            "Requirement already satisfied: datasets in /usr/local/lib/python3.7/dist-packages (2.1.0)\n",
            "Requirement already satisfied: multiprocess in /usr/local/lib/python3.7/dist-packages (from datasets) (0.70.12.2)\n",
            "Requirement already satisfied: pyarrow>=5.0.0 in /usr/local/lib/python3.7/dist-packages (from datasets) (6.0.1)\n",
            "Requirement already satisfied: aiohttp in /usr/local/lib/python3.7/dist-packages (from datasets) (3.8.1)\n",
            "Requirement already satisfied: dill in /usr/local/lib/python3.7/dist-packages (from datasets) (0.3.4)\n",
            "Requirement already satisfied: xxhash in /usr/local/lib/python3.7/dist-packages (from datasets) (3.0.0)\n",
            "Requirement already satisfied: packaging in /usr/local/lib/python3.7/dist-packages (from datasets) (21.3)\n",
            "Requirement already satisfied: fsspec[http]>=2021.05.0 in /usr/local/lib/python3.7/dist-packages (from datasets) (2022.3.0)\n",
            "Requirement already satisfied: responses<0.19 in /usr/local/lib/python3.7/dist-packages (from datasets) (0.18.0)\n",
            "Requirement already satisfied: numpy>=1.17 in /usr/local/lib/python3.7/dist-packages (from datasets) (1.21.6)\n",
            "Requirement already satisfied: tqdm>=4.62.1 in /usr/local/lib/python3.7/dist-packages (from datasets) (4.64.0)\n",
            "Requirement already satisfied: pandas in /usr/local/lib/python3.7/dist-packages (from datasets) (1.3.5)\n",
            "Requirement already satisfied: huggingface-hub<1.0.0,>=0.1.0 in /usr/local/lib/python3.7/dist-packages (from datasets) (0.5.1)\n",
            "Requirement already satisfied: requests>=2.19.0 in /usr/local/lib/python3.7/dist-packages (from datasets) (2.23.0)\n",
            "Requirement already satisfied: importlib-metadata in /usr/local/lib/python3.7/dist-packages (from datasets) (4.11.3)\n",
            "Requirement already satisfied: filelock in /usr/local/lib/python3.7/dist-packages (from huggingface-hub<1.0.0,>=0.1.0->datasets) (3.6.0)\n",
            "Requirement already satisfied: pyyaml in /usr/local/lib/python3.7/dist-packages (from huggingface-hub<1.0.0,>=0.1.0->datasets) (6.0)\n",
            "Requirement already satisfied: typing-extensions>=3.7.4.3 in /usr/local/lib/python3.7/dist-packages (from huggingface-hub<1.0.0,>=0.1.0->datasets) (4.2.0)\n",
            "Requirement already satisfied: pyparsing!=3.0.5,>=2.0.2 in /usr/local/lib/python3.7/dist-packages (from packaging->datasets) (3.0.8)\n",
            "Requirement already satisfied: chardet<4,>=3.0.2 in /usr/local/lib/python3.7/dist-packages (from requests>=2.19.0->datasets) (3.0.4)\n",
            "Requirement already satisfied: urllib3!=1.25.0,!=1.25.1,<1.26,>=1.21.1 in /usr/local/lib/python3.7/dist-packages (from requests>=2.19.0->datasets) (1.25.11)\n",
            "Requirement already satisfied: certifi>=2017.4.17 in /usr/local/lib/python3.7/dist-packages (from requests>=2.19.0->datasets) (2021.10.8)\n",
            "Requirement already satisfied: idna<3,>=2.5 in /usr/local/lib/python3.7/dist-packages (from requests>=2.19.0->datasets) (2.10)\n",
            "Requirement already satisfied: multidict<7.0,>=4.5 in /usr/local/lib/python3.7/dist-packages (from aiohttp->datasets) (6.0.2)\n",
            "Requirement already satisfied: asynctest==0.13.0 in /usr/local/lib/python3.7/dist-packages (from aiohttp->datasets) (0.13.0)\n",
            "Requirement already satisfied: frozenlist>=1.1.1 in /usr/local/lib/python3.7/dist-packages (from aiohttp->datasets) (1.3.0)\n",
            "Requirement already satisfied: charset-normalizer<3.0,>=2.0 in /usr/local/lib/python3.7/dist-packages (from aiohttp->datasets) (2.0.12)\n",
            "Requirement already satisfied: attrs>=17.3.0 in /usr/local/lib/python3.7/dist-packages (from aiohttp->datasets) (21.4.0)\n",
            "Requirement already satisfied: aiosignal>=1.1.2 in /usr/local/lib/python3.7/dist-packages (from aiohttp->datasets) (1.2.0)\n",
            "Requirement already satisfied: yarl<2.0,>=1.0 in /usr/local/lib/python3.7/dist-packages (from aiohttp->datasets) (1.7.2)\n",
            "Requirement already satisfied: async-timeout<5.0,>=4.0.0a3 in /usr/local/lib/python3.7/dist-packages (from aiohttp->datasets) (4.0.2)\n",
            "Requirement already satisfied: zipp>=0.5 in /usr/local/lib/python3.7/dist-packages (from importlib-metadata->datasets) (3.8.0)\n",
            "Requirement already satisfied: python-dateutil>=2.7.3 in /usr/local/lib/python3.7/dist-packages (from pandas->datasets) (2.8.2)\n",
            "Requirement already satisfied: pytz>=2017.3 in /usr/local/lib/python3.7/dist-packages (from pandas->datasets) (2022.1)\n",
            "Requirement already satisfied: six>=1.5 in /usr/local/lib/python3.7/dist-packages (from python-dateutil>=2.7.3->pandas->datasets) (1.15.0)\n"
          ]
        }
      ]
    },
    {
      "cell_type": "code",
      "source": [
        "import datasets\n",
        "import requests\n",
        "\n",
        "[ds for ds in datasets.list_datasets() if 'science' in ds.lower()]"
      ],
      "metadata": {
        "id": "t9b584AubuXy",
        "colab": {
          "base_uri": "https://localhost:8080/"
        },
        "outputId": "edbf488f-d0b3-4d50-a5ce-e556e1189bc4"
      },
      "execution_count": null,
      "outputs": [
        {
          "output_type": "execute_result",
          "data": {
            "text/plain": [
              "['multi_x_science_sum',\n",
              " 'web_of_science',\n",
              " 'bigscience/LanguageResourceCatalogue',\n",
              " 'bigscience/P3',\n",
              " 'bigscience/mc4-sampled',\n",
              " 'bigscience/open_subtitles_monolingual',\n",
              " 'bigscience-catalogue-data-dev/lm_code_github-eval_subset',\n",
              " 'bigscience-catalogue-lm-data/lm_ar_wikibooks',\n",
              " 'bigscience-catalogue-lm-data/lm_ar_wikibooks_filtered',\n",
              " 'bigscience-catalogue-lm-data/lm_ar_wikinews_filtered',\n",
              " 'bigscience-catalogue-lm-data/lm_ar_wikiquote_filtered',\n",
              " 'bigscience-catalogue-lm-data/lm_ar_wikisource',\n",
              " 'bigscience-catalogue-lm-data/lm_ar_wikisource_filtered',\n",
              " 'bigscience-catalogue-lm-data/lm_ar_wikiversity_filtered',\n",
              " 'bigscience-catalogue-lm-data/lm_ar_wiktionary_filtered',\n",
              " 'bigscience-catalogue-lm-data/lm_ca_wikibooks_filtered',\n",
              " 'bigscience-catalogue-lm-data/lm_ca_wikimedia_filtered',\n",
              " 'bigscience-catalogue-lm-data/lm_ca_wikinews_filtered',\n",
              " 'bigscience-catalogue-lm-data/lm_ca_wikiquote_filtered',\n",
              " 'bigscience-catalogue-lm-data/lm_ca_wikisource_filtered',\n",
              " 'bigscience-catalogue-lm-data/lm_ca_wiktionary_filtered',\n",
              " 'bigscience-catalogue-lm-data/lm_code_stackexchange',\n",
              " 'bigscience-catalogue-lm-data/lm_en_no_code_stackexchange',\n",
              " 'bigscience-catalogue-lm-data/lm_en_wikibooks_filtered',\n",
              " 'bigscience-catalogue-lm-data/lm_en_wikinews_filtered',\n",
              " 'bigscience-catalogue-lm-data/lm_en_wikiquote_filtered',\n",
              " 'bigscience-catalogue-lm-data/lm_en_wikivoyage_filtered',\n",
              " 'bigscience-catalogue-lm-data/lm_en_wiktionary_filtered',\n",
              " 'bigscience-catalogue-lm-data/lm_es_wikibooks_filtered',\n",
              " 'bigscience-catalogue-lm-data/lm_es_wikihow_human_instructions',\n",
              " 'bigscience-catalogue-lm-data/lm_es_wikinews_filtered',\n",
              " 'bigscience-catalogue-lm-data/lm_es_wikiquote_filtered',\n",
              " 'bigscience-catalogue-lm-data/lm_es_wikisource_filtered',\n",
              " 'bigscience-catalogue-lm-data/lm_es_wikiversity_filtered',\n",
              " 'bigscience-catalogue-lm-data/lm_es_wikivoyage_filtered',\n",
              " 'bigscience-catalogue-lm-data/lm_es_wiktionary_filtered',\n",
              " 'bigscience-catalogue-lm-data/lm_eu_wikibooks_filtered',\n",
              " 'bigscience-catalogue-lm-data/lm_eu_wikiquote_filtered',\n",
              " 'bigscience-catalogue-lm-data/lm_eu_wikisource_filtered',\n",
              " 'bigscience-catalogue-lm-data/lm_eu_wiktionary',\n",
              " 'bigscience-catalogue-lm-data/lm_eu_wiktionary_filtered',\n",
              " 'bigscience-catalogue-lm-data/lm_fr_wikibooks',\n",
              " 'bigscience-catalogue-lm-data/lm_fr_wikibooks_filtered',\n",
              " 'bigscience-catalogue-lm-data/lm_fr_wikihow_human_instructionslm_es_wikihow_human_instructions',\n",
              " 'bigscience-catalogue-lm-data/lm_fr_wikinews',\n",
              " 'bigscience-catalogue-lm-data/lm_fr_wikinews_filtered',\n",
              " 'bigscience-catalogue-lm-data/lm_fr_wikiquote',\n",
              " 'bigscience-catalogue-lm-data/lm_fr_wikiquote_filtered',\n",
              " 'bigscience-catalogue-lm-data/lm_fr_wikiversity_filtered',\n",
              " 'bigscience-catalogue-lm-data/lm_fr_wikivoyage',\n",
              " 'bigscience-catalogue-lm-data/lm_fr_wikivoyage_filtered',\n",
              " 'bigscience-catalogue-lm-data/lm_fr_wiktionary_filtered',\n",
              " 'bigscience-catalogue-lm-data/lm_id_wikibooks_filtered',\n",
              " 'bigscience-catalogue-lm-data/lm_id_wikimedia_filtered',\n",
              " 'bigscience-catalogue-lm-data/lm_id_wikiquote_filtered',\n",
              " 'bigscience-catalogue-lm-data/lm_id_wikisource_filtered',\n",
              " 'bigscience-catalogue-lm-data/lm_id_wiktionary_filtered',\n",
              " 'bigscience-catalogue-lm-data/lm_indic-as_wiktionary_filtered',\n",
              " 'bigscience-catalogue-lm-data/lm_indic-bn_wikibooks_filtered',\n",
              " 'bigscience-catalogue-lm-data/lm_indic-bn_wikivoyage_filtered',\n",
              " 'bigscience-catalogue-lm-data/lm_indic-bn_wiktionary_filtered',\n",
              " 'bigscience-catalogue-lm-data/lm_indic-gu_wikiquote_filtered',\n",
              " 'bigscience-catalogue-lm-data/lm_indic-gu_wiktionary_filtered',\n",
              " 'bigscience-catalogue-lm-data/lm_indic-hi_wikibooks_filtered',\n",
              " 'bigscience-catalogue-lm-data/lm_indic-hi_wikimedia_filtered',\n",
              " 'bigscience-catalogue-lm-data/lm_indic-hi_wikiquote_filtered',\n",
              " 'bigscience-catalogue-lm-data/lm_indic-hi_wikiversity_filtered',\n",
              " 'bigscience-catalogue-lm-data/lm_indic-hi_wikivoyage_filtered',\n",
              " 'bigscience-catalogue-lm-data/lm_indic-hi_wiktionary_filtered',\n",
              " 'bigscience-catalogue-lm-data/lm_indic-kn_wikiquote_filtered',\n",
              " 'bigscience-catalogue-lm-data/lm_indic-kn_wiktionary_filtered',\n",
              " 'bigscience-catalogue-lm-data/lm_indic-ml_wikibooks_filtered',\n",
              " 'bigscience-catalogue-lm-data/lm_indic-ml_wikiquote_filtered',\n",
              " 'bigscience-catalogue-lm-data/lm_indic-ml_wikisource_filtered',\n",
              " 'bigscience-catalogue-lm-data/lm_indic-ml_wiktionary_filtered',\n",
              " 'bigscience-catalogue-lm-data/lm_indic-mr_wikibooks_filtered',\n",
              " 'bigscience-catalogue-lm-data/lm_indic-mr_wikiquote_filtered',\n",
              " 'bigscience-catalogue-lm-data/lm_indic-mr_wiktionary_filtered',\n",
              " 'bigscience-catalogue-lm-data/lm_indic-or_wiktionary_filtered',\n",
              " 'bigscience-catalogue-lm-data/lm_indic-pa_wikibooks_filtered',\n",
              " 'bigscience-catalogue-lm-data/lm_indic-pa_wiktionary_filtered',\n",
              " 'bigscience-catalogue-lm-data/lm_indic-ta_wikibooks_filtered',\n",
              " 'bigscience-catalogue-lm-data/lm_indic-ta_wikinews_filtered',\n",
              " 'bigscience-catalogue-lm-data/lm_indic-ta_wikiquote_filtered',\n",
              " 'bigscience-catalogue-lm-data/lm_indic-ta_wiktionary_filtered',\n",
              " 'bigscience-catalogue-lm-data/lm_indic-te_wikibooks_filtered',\n",
              " 'bigscience-catalogue-lm-data/lm_indic-te_wikiquote_filtered',\n",
              " 'bigscience-catalogue-lm-data/lm_indic-te_wiktionary_filtered',\n",
              " 'bigscience-catalogue-lm-data/lm_indic-ur_wikibooks_filtered',\n",
              " 'bigscience-catalogue-lm-data/lm_indic-ur_wikiquote_filtered',\n",
              " 'bigscience-catalogue-lm-data/lm_indic-ur_wiktionary_filtered',\n",
              " 'bigscience-catalogue-lm-data/lm_ml_wikisource',\n",
              " 'bigscience-catalogue-lm-data/lm_nigercongo-bm_wikibooks_filtered',\n",
              " 'bigscience-catalogue-lm-data/lm_nigercongo-ln_wiktionary_filtered',\n",
              " 'bigscience-catalogue-lm-data/lm_nigercongo-rw_wiktionary_filtered',\n",
              " 'bigscience-catalogue-lm-data/lm_nigercongo-st_wiktionary_filtered',\n",
              " 'bigscience-catalogue-lm-data/lm_nigercongo-sw_wikibooks_filtered',\n",
              " 'bigscience-catalogue-lm-data/lm_nigercongo-sw_wiktionary_filtered',\n",
              " 'bigscience-catalogue-lm-data/lm_nigercongo-tn_wiktionary_filtered',\n",
              " 'bigscience-catalogue-lm-data/lm_nigercongo-ts_wiktionary_filtered',\n",
              " 'bigscience-catalogue-lm-data/lm_nigercongo-wo_wikiquote_filtered',\n",
              " 'bigscience-catalogue-lm-data/lm_nigercongo-wo_wiktionary_filtered',\n",
              " 'bigscience-catalogue-lm-data/lm_nigercongo-zu_wiktionary_filtered',\n",
              " 'bigscience-catalogue-lm-data/lm_pt_wikibooks_filtered',\n",
              " 'bigscience-catalogue-lm-data/lm_pt_wikimedia_filtered',\n",
              " 'bigscience-catalogue-lm-data/lm_pt_wikinews_filtered',\n",
              " 'bigscience-catalogue-lm-data/lm_pt_wikiquote_filtered',\n",
              " 'bigscience-catalogue-lm-data/lm_pt_wikisource_filtered',\n",
              " 'bigscience-catalogue-lm-data/lm_pt_wikiversity_filtered',\n",
              " 'bigscience-catalogue-lm-data/lm_pt_wikivoyage_filtered',\n",
              " 'bigscience-catalogue-lm-data/lm_pt_wiktionary_filtered',\n",
              " 'bigscience-catalogue-lm-data/lm_vi_wikibooks_filtered',\n",
              " 'bigscience-catalogue-lm-data/lm_vi_wikiquote_filtered',\n",
              " 'bigscience-catalogue-lm-data/lm_vi_wikisource_filtered',\n",
              " 'bigscience-catalogue-lm-data/lm_vi_wikivoyage_filtered',\n",
              " 'bigscience-catalogue-lm-data/lm_vi_wiktionary_filtered',\n",
              " 'bigscience-catalogue-lm-data/lm_zh_wikibooks_filtered',\n",
              " 'bigscience-catalogue-lm-data/lm_zh_wikinews_filtered',\n",
              " 'bigscience-catalogue-lm-data/lm_zh_wikiquote_filtered',\n",
              " 'bigscience-catalogue-lm-data/lm_zh_wikiversity_filtered',\n",
              " 'bigscience-catalogue-lm-data/lm_zh_wikivoyage_filtered',\n",
              " 'bigscience-catalogue-lm-data/lm_zh_wiktionary_filtered',\n",
              " 'bigscience-catalogue-lm-data/lm_zu_wiktionary',\n",
              " 'bigscience-catalogue-lm-data/tokenization_nigercongo',\n",
              " 'bigscience-historical-texts/HIPE2020_sent-split',\n",
              " 'bigscience-historical-texts/hipe2020',\n",
              " 'lucien/sciencemission',\n",
              " 'bigscience-catalogue-lm-data/lm_bn_wikisource',\n",
              " 'bigscience-catalogue-lm-data/lm_indic-bn_wikisource_filtered',\n",
              " 'FinScience/FS-distilroberta-fine-tuned',\n",
              " 'bigscience-biomedical/biosses',\n",
              " 'bigscience-historical-texts/Open_Medieval_French',\n",
              " 'Pavithree/askScience',\n",
              " 'janck/bigscience-lama',\n",
              " 'bigscience-catalogue-data/bias-shades',\n",
              " 'BigScienceBiasEval/bias-shades']"
            ]
          },
          "metadata": {},
          "execution_count": 399
        }
      ]
    },
    {
      "cell_type": "code",
      "source": [
        "qa_ds = datasets.load_dataset('squad', streaming = False)\n",
        "# qa_ds = datasets.load_dataset('web_of_science','WOS5736')\n",
        "qa_ds"
      ],
      "metadata": {
        "id": "lOUBTz1KQOkM",
        "colab": {
          "base_uri": "https://localhost:8080/",
          "height": 271,
          "referenced_widgets": [
            "54cbb71928334c3d8880ff1f67189ea7",
            "661a20abf53d4900b88d4a1a3e638aed",
            "d004a50e25a04f0b9b0256bacc5e52ff",
            "eb2d5af4e4a54c8da4fe8e022a8ce860",
            "c1d4cef9da194cf5bee114a2f70725aa",
            "9d887750c1cc4d2fb6f182131de0336c",
            "c54b4466b2bc465193b17d3670628da4",
            "d1d12887f2184ad7aeb2fd9d5c611e3e",
            "9f5b0e89f0564b038278b8b7fb77d061",
            "1d18872682844cd88424b0b1cb083b34",
            "b5a0b11855634dc1ab1563e9355e4001"
          ]
        },
        "outputId": "f0ad8b13-5792-4b02-8e6e-d958e7d34742"
      },
      "execution_count": null,
      "outputs": [
        {
          "output_type": "stream",
          "name": "stderr",
          "text": [
            "Reusing dataset squad (/root/.cache/huggingface/datasets/squad/plain_text/1.0.0/d6ec3ceb99ca480ce37cdd35555d6cb2511d223b9150cce08a837ef62ffea453)\n"
          ]
        },
        {
          "output_type": "display_data",
          "data": {
            "text/plain": [
              "  0%|          | 0/2 [00:00<?, ?it/s]"
            ],
            "application/vnd.jupyter.widget-view+json": {
              "version_major": 2,
              "version_minor": 0,
              "model_id": "54cbb71928334c3d8880ff1f67189ea7"
            }
          },
          "metadata": {}
        },
        {
          "output_type": "execute_result",
          "data": {
            "text/plain": [
              "DatasetDict({\n",
              "    train: Dataset({\n",
              "        features: ['id', 'title', 'context', 'question', 'answers'],\n",
              "        num_rows: 87599\n",
              "    })\n",
              "    validation: Dataset({\n",
              "        features: ['id', 'title', 'context', 'question', 'answers'],\n",
              "        num_rows: 10570\n",
              "    })\n",
              "})"
            ]
          },
          "metadata": {},
          "execution_count": 400
        }
      ]
    },
    {
      "cell_type": "code",
      "source": [
        "qa_ds['train'].description"
      ],
      "metadata": {
        "id": "fS-kZpaASXwT",
        "colab": {
          "base_uri": "https://localhost:8080/",
          "height": 74
        },
        "outputId": "57518eab-c399-43fe-a47c-76f784fbd29b"
      },
      "execution_count": null,
      "outputs": [
        {
          "output_type": "execute_result",
          "data": {
            "text/plain": [
              "'Stanford Question Answering Dataset (SQuAD) is a reading comprehension dataset, consisting of questions posed by crowdworkers on a set of Wikipedia articles, where the answer to every question is a segment of text, or span, from the corresponding reading passage, or the question might be unanswerable.\\n'"
            ],
            "application/vnd.google.colaboratory.intrinsic+json": {
              "type": "string"
            }
          },
          "metadata": {},
          "execution_count": 401
        }
      ]
    },
    {
      "cell_type": "code",
      "source": [
        "print(qa_ds['train'].dataset_size)\n",
        "qa_ds['train'].features"
      ],
      "metadata": {
        "id": "joklgTTXQono",
        "colab": {
          "base_uri": "https://localhost:8080/"
        },
        "outputId": "649b0768-e9e7-4327-b09f-e510dca09ff6"
      },
      "execution_count": null,
      "outputs": [
        {
          "output_type": "stream",
          "name": "stdout",
          "text": [
            "89846964\n"
          ]
        },
        {
          "output_type": "execute_result",
          "data": {
            "text/plain": [
              "{'answers': Sequence(feature={'text': Value(dtype='string', id=None), 'answer_start': Value(dtype='int32', id=None)}, length=-1, id=None),\n",
              " 'context': Value(dtype='string', id=None),\n",
              " 'id': Value(dtype='string', id=None),\n",
              " 'question': Value(dtype='string', id=None),\n",
              " 'title': Value(dtype='string', id=None)}"
            ]
          },
          "metadata": {},
          "execution_count": 402
        }
      ]
    },
    {
      "cell_type": "code",
      "source": [
        "qa_ds['train'].to_pandas().head()"
      ],
      "metadata": {
        "id": "zGit477NSxF1",
        "colab": {
          "base_uri": "https://localhost:8080/",
          "height": 424
        },
        "outputId": "f20f68ae-21cf-4664-c658-aa3d658e5bf4"
      },
      "execution_count": null,
      "outputs": [
        {
          "output_type": "execute_result",
          "data": {
            "text/plain": [
              "                         id                     title  \\\n",
              "0  5733be284776f41900661182  University_of_Notre_Dame   \n",
              "1  5733be284776f4190066117f  University_of_Notre_Dame   \n",
              "2  5733be284776f41900661180  University_of_Notre_Dame   \n",
              "3  5733be284776f41900661181  University_of_Notre_Dame   \n",
              "4  5733be284776f4190066117e  University_of_Notre_Dame   \n",
              "\n",
              "                                             context  \\\n",
              "0  Architecturally, the school has a Catholic cha...   \n",
              "1  Architecturally, the school has a Catholic cha...   \n",
              "2  Architecturally, the school has a Catholic cha...   \n",
              "3  Architecturally, the school has a Catholic cha...   \n",
              "4  Architecturally, the school has a Catholic cha...   \n",
              "\n",
              "                                            question  \\\n",
              "0  To whom did the Virgin Mary allegedly appear i...   \n",
              "1  What is in front of the Notre Dame Main Building?   \n",
              "2  The Basilica of the Sacred heart at Notre Dame...   \n",
              "3                  What is the Grotto at Notre Dame?   \n",
              "4  What sits on top of the Main Building at Notre...   \n",
              "\n",
              "                                             answers  \n",
              "0  {'text': ['Saint Bernadette Soubirous'], 'answ...  \n",
              "1  {'text': ['a copper statue of Christ'], 'answe...  \n",
              "2  {'text': ['the Main Building'], 'answer_start'...  \n",
              "3  {'text': ['a Marian place of prayer and reflec...  \n",
              "4  {'text': ['a golden statue of the Virgin Mary'...  "
            ],
            "text/html": [
              "\n",
              "  <div id=\"df-4f22030d-bc87-4644-a5d5-532e4b2d0f8d\">\n",
              "    <div class=\"colab-df-container\">\n",
              "      <div>\n",
              "<style scoped>\n",
              "    .dataframe tbody tr th:only-of-type {\n",
              "        vertical-align: middle;\n",
              "    }\n",
              "\n",
              "    .dataframe tbody tr th {\n",
              "        vertical-align: top;\n",
              "    }\n",
              "\n",
              "    .dataframe thead th {\n",
              "        text-align: right;\n",
              "    }\n",
              "</style>\n",
              "<table border=\"1\" class=\"dataframe\">\n",
              "  <thead>\n",
              "    <tr style=\"text-align: right;\">\n",
              "      <th></th>\n",
              "      <th>id</th>\n",
              "      <th>title</th>\n",
              "      <th>context</th>\n",
              "      <th>question</th>\n",
              "      <th>answers</th>\n",
              "    </tr>\n",
              "  </thead>\n",
              "  <tbody>\n",
              "    <tr>\n",
              "      <th>0</th>\n",
              "      <td>5733be284776f41900661182</td>\n",
              "      <td>University_of_Notre_Dame</td>\n",
              "      <td>Architecturally, the school has a Catholic cha...</td>\n",
              "      <td>To whom did the Virgin Mary allegedly appear i...</td>\n",
              "      <td>{'text': ['Saint Bernadette Soubirous'], 'answ...</td>\n",
              "    </tr>\n",
              "    <tr>\n",
              "      <th>1</th>\n",
              "      <td>5733be284776f4190066117f</td>\n",
              "      <td>University_of_Notre_Dame</td>\n",
              "      <td>Architecturally, the school has a Catholic cha...</td>\n",
              "      <td>What is in front of the Notre Dame Main Building?</td>\n",
              "      <td>{'text': ['a copper statue of Christ'], 'answe...</td>\n",
              "    </tr>\n",
              "    <tr>\n",
              "      <th>2</th>\n",
              "      <td>5733be284776f41900661180</td>\n",
              "      <td>University_of_Notre_Dame</td>\n",
              "      <td>Architecturally, the school has a Catholic cha...</td>\n",
              "      <td>The Basilica of the Sacred heart at Notre Dame...</td>\n",
              "      <td>{'text': ['the Main Building'], 'answer_start'...</td>\n",
              "    </tr>\n",
              "    <tr>\n",
              "      <th>3</th>\n",
              "      <td>5733be284776f41900661181</td>\n",
              "      <td>University_of_Notre_Dame</td>\n",
              "      <td>Architecturally, the school has a Catholic cha...</td>\n",
              "      <td>What is the Grotto at Notre Dame?</td>\n",
              "      <td>{'text': ['a Marian place of prayer and reflec...</td>\n",
              "    </tr>\n",
              "    <tr>\n",
              "      <th>4</th>\n",
              "      <td>5733be284776f4190066117e</td>\n",
              "      <td>University_of_Notre_Dame</td>\n",
              "      <td>Architecturally, the school has a Catholic cha...</td>\n",
              "      <td>What sits on top of the Main Building at Notre...</td>\n",
              "      <td>{'text': ['a golden statue of the Virgin Mary'...</td>\n",
              "    </tr>\n",
              "  </tbody>\n",
              "</table>\n",
              "</div>\n",
              "      <button class=\"colab-df-convert\" onclick=\"convertToInteractive('df-4f22030d-bc87-4644-a5d5-532e4b2d0f8d')\"\n",
              "              title=\"Convert this dataframe to an interactive table.\"\n",
              "              style=\"display:none;\">\n",
              "        \n",
              "  <svg xmlns=\"http://www.w3.org/2000/svg\" height=\"24px\"viewBox=\"0 0 24 24\"\n",
              "       width=\"24px\">\n",
              "    <path d=\"M0 0h24v24H0V0z\" fill=\"none\"/>\n",
              "    <path d=\"M18.56 5.44l.94 2.06.94-2.06 2.06-.94-2.06-.94-.94-2.06-.94 2.06-2.06.94zm-11 1L8.5 8.5l.94-2.06 2.06-.94-2.06-.94L8.5 2.5l-.94 2.06-2.06.94zm10 10l.94 2.06.94-2.06 2.06-.94-2.06-.94-.94-2.06-.94 2.06-2.06.94z\"/><path d=\"M17.41 7.96l-1.37-1.37c-.4-.4-.92-.59-1.43-.59-.52 0-1.04.2-1.43.59L10.3 9.45l-7.72 7.72c-.78.78-.78 2.05 0 2.83L4 21.41c.39.39.9.59 1.41.59.51 0 1.02-.2 1.41-.59l7.78-7.78 2.81-2.81c.8-.78.8-2.07 0-2.86zM5.41 20L4 18.59l7.72-7.72 1.47 1.35L5.41 20z\"/>\n",
              "  </svg>\n",
              "      </button>\n",
              "      \n",
              "  <style>\n",
              "    .colab-df-container {\n",
              "      display:flex;\n",
              "      flex-wrap:wrap;\n",
              "      gap: 12px;\n",
              "    }\n",
              "\n",
              "    .colab-df-convert {\n",
              "      background-color: #E8F0FE;\n",
              "      border: none;\n",
              "      border-radius: 50%;\n",
              "      cursor: pointer;\n",
              "      display: none;\n",
              "      fill: #1967D2;\n",
              "      height: 32px;\n",
              "      padding: 0 0 0 0;\n",
              "      width: 32px;\n",
              "    }\n",
              "\n",
              "    .colab-df-convert:hover {\n",
              "      background-color: #E2EBFA;\n",
              "      box-shadow: 0px 1px 2px rgba(60, 64, 67, 0.3), 0px 1px 3px 1px rgba(60, 64, 67, 0.15);\n",
              "      fill: #174EA6;\n",
              "    }\n",
              "\n",
              "    [theme=dark] .colab-df-convert {\n",
              "      background-color: #3B4455;\n",
              "      fill: #D2E3FC;\n",
              "    }\n",
              "\n",
              "    [theme=dark] .colab-df-convert:hover {\n",
              "      background-color: #434B5C;\n",
              "      box-shadow: 0px 1px 3px 1px rgba(0, 0, 0, 0.15);\n",
              "      filter: drop-shadow(0px 1px 2px rgba(0, 0, 0, 0.3));\n",
              "      fill: #FFFFFF;\n",
              "    }\n",
              "  </style>\n",
              "\n",
              "      <script>\n",
              "        const buttonEl =\n",
              "          document.querySelector('#df-4f22030d-bc87-4644-a5d5-532e4b2d0f8d button.colab-df-convert');\n",
              "        buttonEl.style.display =\n",
              "          google.colab.kernel.accessAllowed ? 'block' : 'none';\n",
              "\n",
              "        async function convertToInteractive(key) {\n",
              "          const element = document.querySelector('#df-4f22030d-bc87-4644-a5d5-532e4b2d0f8d');\n",
              "          const dataTable =\n",
              "            await google.colab.kernel.invokeFunction('convertToInteractive',\n",
              "                                                     [key], {});\n",
              "          if (!dataTable) return;\n",
              "\n",
              "          const docLinkHtml = 'Like what you see? Visit the ' +\n",
              "            '<a target=\"_blank\" href=https://colab.research.google.com/notebooks/data_table.ipynb>data table notebook</a>'\n",
              "            + ' to learn more about interactive tables.';\n",
              "          element.innerHTML = '';\n",
              "          dataTable['output_type'] = 'display_data';\n",
              "          await google.colab.output.renderOutput(dataTable, element);\n",
              "          const docLink = document.createElement('div');\n",
              "          docLink.innerHTML = docLinkHtml;\n",
              "          element.appendChild(docLink);\n",
              "        }\n",
              "      </script>\n",
              "    </div>\n",
              "  </div>\n",
              "  "
            ]
          },
          "metadata": {},
          "execution_count": 403
        }
      ]
    },
    {
      "cell_type": "markdown",
      "source": [
        "## Data Science Interview Dataset"
      ],
      "metadata": {
        "id": "9Q8MZVVZSnyM"
      }
    },
    {
      "cell_type": "code",
      "source": [
        "qa_data = pd.read_csv('https://raw.githubusercontent.com/Kizuna-Cheng/Data_Science_Interviews_NLP/main/data.csv')\n",
        "qa_data"
      ],
      "metadata": {
        "id": "iKS3WdgOStnu",
        "colab": {
          "base_uri": "https://localhost:8080/",
          "height": 468
        },
        "outputId": "c422e815-1d74-4b4c-91d1-7539e4f30481"
      },
      "execution_count": null,
      "outputs": [
        {
          "output_type": "execute_result",
          "data": {
            "text/plain": [
              "              Category                                          Questions  \\\n",
              "0    Linear Regression  What are the assumptions required for linear r...   \n",
              "1          Statistics   What is collinearity? What is multicollinearit...   \n",
              "2    Linear Regression        What are the drawbacks of a linear model?\\n   \n",
              "3    Linear Regression  What are ridge and lasso regression and what a...   \n",
              "4                  KNN                  How does K-Nearest Neighbor work?   \n",
              "..                 ...                                                ...   \n",
              "319     Neural Network  What are advantages and disadvantages of using...   \n",
              "320     Decision Trees  What is the default method for splitting in de...   \n",
              "321       XGBoost, SVM          Why does XGBoost perform better than SVM?   \n",
              "322     Neural Network  For NLP, what’s the main purpose of using an e...   \n",
              "323                EDA  When using scikit-learn, is it true that we ne...   \n",
              "\n",
              "                                               Answers  \n",
              "0    There are four assumptions associated with a l...  \n",
              "1    Collinearity is a linear association between t...  \n",
              "2    There are a couple of drawbacks of a linear mo...  \n",
              "3    Both L1 and L2 regularization are methods used...  \n",
              "4    K-Nearest Neighbors is a classification techni...  \n",
              "..                                                 ...  \n",
              "319  Advantages:\\n\\nStore data on the entire networ...  \n",
              "320  The default method is the Gini Index, which is...  \n",
              "321  XGBoos is an ensemble method that uses many tr...  \n",
              "322  We use the encoder-decoder model to generate a...  \n",
              "323  Yes. Most of the machine learning algorithms u...  \n",
              "\n",
              "[324 rows x 3 columns]"
            ],
            "text/html": [
              "\n",
              "  <div id=\"df-730d6507-1e06-4fe2-bf91-cfc8885e81b0\">\n",
              "    <div class=\"colab-df-container\">\n",
              "      <div>\n",
              "<style scoped>\n",
              "    .dataframe tbody tr th:only-of-type {\n",
              "        vertical-align: middle;\n",
              "    }\n",
              "\n",
              "    .dataframe tbody tr th {\n",
              "        vertical-align: top;\n",
              "    }\n",
              "\n",
              "    .dataframe thead th {\n",
              "        text-align: right;\n",
              "    }\n",
              "</style>\n",
              "<table border=\"1\" class=\"dataframe\">\n",
              "  <thead>\n",
              "    <tr style=\"text-align: right;\">\n",
              "      <th></th>\n",
              "      <th>Category</th>\n",
              "      <th>Questions</th>\n",
              "      <th>Answers</th>\n",
              "    </tr>\n",
              "  </thead>\n",
              "  <tbody>\n",
              "    <tr>\n",
              "      <th>0</th>\n",
              "      <td>Linear Regression</td>\n",
              "      <td>What are the assumptions required for linear r...</td>\n",
              "      <td>There are four assumptions associated with a l...</td>\n",
              "    </tr>\n",
              "    <tr>\n",
              "      <th>1</th>\n",
              "      <td>Statistics</td>\n",
              "      <td>What is collinearity? What is multicollinearit...</td>\n",
              "      <td>Collinearity is a linear association between t...</td>\n",
              "    </tr>\n",
              "    <tr>\n",
              "      <th>2</th>\n",
              "      <td>Linear Regression</td>\n",
              "      <td>What are the drawbacks of a linear model?\\n</td>\n",
              "      <td>There are a couple of drawbacks of a linear mo...</td>\n",
              "    </tr>\n",
              "    <tr>\n",
              "      <th>3</th>\n",
              "      <td>Linear Regression</td>\n",
              "      <td>What are ridge and lasso regression and what a...</td>\n",
              "      <td>Both L1 and L2 regularization are methods used...</td>\n",
              "    </tr>\n",
              "    <tr>\n",
              "      <th>4</th>\n",
              "      <td>KNN</td>\n",
              "      <td>How does K-Nearest Neighbor work?</td>\n",
              "      <td>K-Nearest Neighbors is a classification techni...</td>\n",
              "    </tr>\n",
              "    <tr>\n",
              "      <th>...</th>\n",
              "      <td>...</td>\n",
              "      <td>...</td>\n",
              "      <td>...</td>\n",
              "    </tr>\n",
              "    <tr>\n",
              "      <th>319</th>\n",
              "      <td>Neural Network</td>\n",
              "      <td>What are advantages and disadvantages of using...</td>\n",
              "      <td>Advantages:\\n\\nStore data on the entire networ...</td>\n",
              "    </tr>\n",
              "    <tr>\n",
              "      <th>320</th>\n",
              "      <td>Decision Trees</td>\n",
              "      <td>What is the default method for splitting in de...</td>\n",
              "      <td>The default method is the Gini Index, which is...</td>\n",
              "    </tr>\n",
              "    <tr>\n",
              "      <th>321</th>\n",
              "      <td>XGBoost, SVM</td>\n",
              "      <td>Why does XGBoost perform better than SVM?</td>\n",
              "      <td>XGBoos is an ensemble method that uses many tr...</td>\n",
              "    </tr>\n",
              "    <tr>\n",
              "      <th>322</th>\n",
              "      <td>Neural Network</td>\n",
              "      <td>For NLP, what’s the main purpose of using an e...</td>\n",
              "      <td>We use the encoder-decoder model to generate a...</td>\n",
              "    </tr>\n",
              "    <tr>\n",
              "      <th>323</th>\n",
              "      <td>EDA</td>\n",
              "      <td>When using scikit-learn, is it true that we ne...</td>\n",
              "      <td>Yes. Most of the machine learning algorithms u...</td>\n",
              "    </tr>\n",
              "  </tbody>\n",
              "</table>\n",
              "<p>324 rows × 3 columns</p>\n",
              "</div>\n",
              "      <button class=\"colab-df-convert\" onclick=\"convertToInteractive('df-730d6507-1e06-4fe2-bf91-cfc8885e81b0')\"\n",
              "              title=\"Convert this dataframe to an interactive table.\"\n",
              "              style=\"display:none;\">\n",
              "        \n",
              "  <svg xmlns=\"http://www.w3.org/2000/svg\" height=\"24px\"viewBox=\"0 0 24 24\"\n",
              "       width=\"24px\">\n",
              "    <path d=\"M0 0h24v24H0V0z\" fill=\"none\"/>\n",
              "    <path d=\"M18.56 5.44l.94 2.06.94-2.06 2.06-.94-2.06-.94-.94-2.06-.94 2.06-2.06.94zm-11 1L8.5 8.5l.94-2.06 2.06-.94-2.06-.94L8.5 2.5l-.94 2.06-2.06.94zm10 10l.94 2.06.94-2.06 2.06-.94-2.06-.94-.94-2.06-.94 2.06-2.06.94z\"/><path d=\"M17.41 7.96l-1.37-1.37c-.4-.4-.92-.59-1.43-.59-.52 0-1.04.2-1.43.59L10.3 9.45l-7.72 7.72c-.78.78-.78 2.05 0 2.83L4 21.41c.39.39.9.59 1.41.59.51 0 1.02-.2 1.41-.59l7.78-7.78 2.81-2.81c.8-.78.8-2.07 0-2.86zM5.41 20L4 18.59l7.72-7.72 1.47 1.35L5.41 20z\"/>\n",
              "  </svg>\n",
              "      </button>\n",
              "      \n",
              "  <style>\n",
              "    .colab-df-container {\n",
              "      display:flex;\n",
              "      flex-wrap:wrap;\n",
              "      gap: 12px;\n",
              "    }\n",
              "\n",
              "    .colab-df-convert {\n",
              "      background-color: #E8F0FE;\n",
              "      border: none;\n",
              "      border-radius: 50%;\n",
              "      cursor: pointer;\n",
              "      display: none;\n",
              "      fill: #1967D2;\n",
              "      height: 32px;\n",
              "      padding: 0 0 0 0;\n",
              "      width: 32px;\n",
              "    }\n",
              "\n",
              "    .colab-df-convert:hover {\n",
              "      background-color: #E2EBFA;\n",
              "      box-shadow: 0px 1px 2px rgba(60, 64, 67, 0.3), 0px 1px 3px 1px rgba(60, 64, 67, 0.15);\n",
              "      fill: #174EA6;\n",
              "    }\n",
              "\n",
              "    [theme=dark] .colab-df-convert {\n",
              "      background-color: #3B4455;\n",
              "      fill: #D2E3FC;\n",
              "    }\n",
              "\n",
              "    [theme=dark] .colab-df-convert:hover {\n",
              "      background-color: #434B5C;\n",
              "      box-shadow: 0px 1px 3px 1px rgba(0, 0, 0, 0.15);\n",
              "      filter: drop-shadow(0px 1px 2px rgba(0, 0, 0, 0.3));\n",
              "      fill: #FFFFFF;\n",
              "    }\n",
              "  </style>\n",
              "\n",
              "      <script>\n",
              "        const buttonEl =\n",
              "          document.querySelector('#df-730d6507-1e06-4fe2-bf91-cfc8885e81b0 button.colab-df-convert');\n",
              "        buttonEl.style.display =\n",
              "          google.colab.kernel.accessAllowed ? 'block' : 'none';\n",
              "\n",
              "        async function convertToInteractive(key) {\n",
              "          const element = document.querySelector('#df-730d6507-1e06-4fe2-bf91-cfc8885e81b0');\n",
              "          const dataTable =\n",
              "            await google.colab.kernel.invokeFunction('convertToInteractive',\n",
              "                                                     [key], {});\n",
              "          if (!dataTable) return;\n",
              "\n",
              "          const docLinkHtml = 'Like what you see? Visit the ' +\n",
              "            '<a target=\"_blank\" href=https://colab.research.google.com/notebooks/data_table.ipynb>data table notebook</a>'\n",
              "            + ' to learn more about interactive tables.';\n",
              "          element.innerHTML = '';\n",
              "          dataTable['output_type'] = 'display_data';\n",
              "          await google.colab.output.renderOutput(dataTable, element);\n",
              "          const docLink = document.createElement('div');\n",
              "          docLink.innerHTML = docLinkHtml;\n",
              "          element.appendChild(docLink);\n",
              "        }\n",
              "      </script>\n",
              "    </div>\n",
              "  </div>\n",
              "  "
            ]
          },
          "metadata": {},
          "execution_count": 404
        }
      ]
    },
    {
      "cell_type": "code",
      "source": [
        "qa_data.Questions[:10].tolist()"
      ],
      "metadata": {
        "id": "g4PbY6JQTJMs",
        "colab": {
          "base_uri": "https://localhost:8080/"
        },
        "outputId": "b4a08a45-9e7e-48fb-ad95-3b5121ca1108"
      },
      "execution_count": null,
      "outputs": [
        {
          "output_type": "execute_result",
          "data": {
            "text/plain": [
              "['What are the assumptions required for linear regression? What if some of these assumptions are violated?',\n",
              " 'What is collinearity? What is multicollinearity? How do you deal with it?\\n',\n",
              " 'What are the drawbacks of a linear model?\\n',\n",
              " 'What are ridge and lasso regression and what are the differences between them?',\n",
              " 'How does K-Nearest Neighbor work?',\n",
              " 'How can you select k for k means?',\n",
              " 'Why is Naive Bayes “naive”?',\n",
              " 'What are the support vectors in SVM?',\n",
              " 'What is pruning in decision trees?',\n",
              " 'What are random forests? Why is Naive Bayes better?']"
            ]
          },
          "metadata": {},
          "execution_count": 405
        }
      ]
    },
    {
      "cell_type": "code",
      "source": [
        "qa_data.Answers[:10].tolist()"
      ],
      "metadata": {
        "colab": {
          "base_uri": "https://localhost:8080/"
        },
        "id": "_DNGO-wTvyR4",
        "outputId": "aba0199e-f9d5-419a-f94e-1fb53b47388d"
      },
      "execution_count": null,
      "outputs": [
        {
          "output_type": "execute_result",
          "data": {
            "text/plain": [
              "['There are four assumptions associated with a linear regression model:\\nLinearity: The relationship between X and the mean of Y is linear.\\nHomoscedasticity: The variance of the residual is the same for any value of X.\\nIndependence: Observations are independent of each other.\\nNormality: For any fixed value of X, Y is normally distributed.\\nExtreme violations of these assumptions will make the results redundant. Small violations of these assumptions will result in a greater bias or variance of the estimate.',\n",
              " 'Collinearity is a linear association between two predictors. Multicollinearity is a situation where two or more predictors are highly linearly related.\\nThis can be problematic because it undermines the statistical significance of an independent variable. While it may not necessarily have a large impact on the model’s accuracy, it affects the variance of the prediction and reduces the quality of the interpretation of the independent variables.\\nYou could use the Variance Inflation Factors (VIF) to determine if there is any multicollinearity between independent variables — a standard benchmark is that if the VIF is greater than 5 then multicollinearity exists.',\n",
              " 'There are a couple of drawbacks of a linear model:\\nA linear model holds some strong assumptions that may not be true in application. It assumes a linear relationship, multivariate normality, no or little multicollinearity, no auto-correlation, and homoscedasticity.\\nA linear model can’t be used for discrete or binary outcomes.\\nYou can’t vary the model flexibility of a linear model.',\n",
              " 'Both L1 and L2 regularization are methods used to reduce the overfitting of training data. Least Squares minimizes the sum of the squared residuals, which can result in low bias but high variance. L2 Regularization, also called ridge regression, minimizes the sum of the squared residuals plus lambda times the slope squared. This additional term is called the Ridge Regression Penalty. This increases the bias of the model, making the fit worse on the training data, but also decreases the variance. If you take the ridge regression penalty and replace it with the absolute value of the slope, then you get Lasso regression or L1 regularization. L2 is less robust but has a stable solution and always one solution. L1 is more robust but has an unstable solution and can possibly have multiple solutions.',\n",
              " 'K-Nearest Neighbors is a classification technique where a new sample is classified by looking at the nearest classified points, hence ‘K-nearest’. In the example above, if k=1 then the unclassified point would be classified as a blue point.\\nIf the value of k is too low, it can be subject to outliers. However, if it’s too high, it may overlook classes with only a few samples.',\n",
              " 'You can use the elbow method, which is a popular method used to determine the optimal value of k. Essentially, what you do is plot the squared error for each value of k on a graph (value of k on the x-axis and squared error on the y-axis). Once the graph is made, the point where the distortion declines the most is the elbow point.',\n",
              " 'Naive Bayes is naive because it holds a strong assumption in that the features are assumed to be uncorrelated with one another, which typically is never the case.',\n",
              " 'The support vectors are the data points that touch the boundaries of the maximum margin.',\n",
              " 'Pruning is a technique in machine learning and search algorithms that reduces the size of decision trees by removing sections or branches of the tree that provide little to no power for classifying instances.',\n",
              " 'Random forests are an ensemble learning technique that builds off of decision trees. Random forests involve creating multiple decision trees using bootstrapped datasets of the original data and randomly selecting a subset of variables at each step of the decision tree. The model then selects the mode of all of the predictions of each decision tree. By relying on a “majority wins” model, it reduces the risk of error from an individual tree. Random forests offer several other benefits including strong performance, can model non-linear boundaries, no cross-validation needed, and gives feature importance.\\nNaive Bayes is better in the sense that it is easy to train and understand the process and results. A random forest can seem like a black box. Therefore, a Naive Bayes algorithm may be better in terms of implementation and understanding. However, in terms of performance, a random forest is typically stronger because it is an ensemble technique.']"
            ]
          },
          "metadata": {},
          "execution_count": 406
        }
      ]
    },
    {
      "cell_type": "code",
      "source": [
        "test_data = [\n",
        "             'What does linear regression stands for?',\n",
        " 'What is the differencebetween collinearity and multicollinearity?',\n",
        " 'What are the cons of using a linear model?\\n',\n",
        " 'What are ridge and lasso regression?',\n",
        " 'How does K-Nearest neighbor work?',\n",
        " 'How to select k for k means?',\n",
        " 'Why is Naive Bayes “naive”?',\n",
        " 'When should I use SVM?',\n",
        "'What is pruning in decision trees?',\n",
        " 'What are random forests? Why is Naive Bayes better?',\n",
        " 'What\\'s collinearity?']"
      ],
      "metadata": {
        "id": "V-ttfUuWTWQu"
      },
      "execution_count": null,
      "outputs": []
    },
    {
      "cell_type": "code",
      "source": [
        "def getResults(questions, fn1, fn2):\n",
        "    def getResult(q):\n",
        "        answer, score, prediction = fn1(q, fn2)\n",
        "        return [q, prediction, answer, score]\n",
        "    return pd.DataFrame(list(map(getResult, questions)), columns=[\"Q\", \"Prediction\", \"A\", \"Score\"])"
      ],
      "metadata": {
        "id": "fbrYjBrDTesl"
      },
      "execution_count": null,
      "outputs": []
    },
    {
      "cell_type": "markdown",
      "source": [
        "## Text Similarity"
      ],
      "metadata": {
        "id": "yH5euKiEOULE"
      }
    },
    {
      "cell_type": "code",
      "source": [
        "def preprocess_text(text):\n",
        "    text = str(text)\n",
        "    text = text.lower()\n",
        "\n",
        "    # Clean the text\n",
        "    text = re.sub(r\"[^A-Za-z0-9^,!.\\/'+-=]\", \" \", text)\n",
        "    text = re.sub(r\"what's\", \"what is \", text)\n",
        "    text = re.sub(r\"\\'s\", \" \", text)\n",
        "    text = re.sub(r\"\\'ve\", \" have \", text)\n",
        "    text = re.sub(r\"can't\", \"cannot \", text)\n",
        "    text = re.sub(r\"n't\", \" not \", text)\n",
        "    text = re.sub(r\"i'm\", \"i am \", text)\n",
        "    text = re.sub(r\"\\'re\", \" are \", text)\n",
        "    text = re.sub(r\"\\'d\", \" would \", text)\n",
        "    text = re.sub(r\"\\'ll\", \" will \", text)\n",
        "    text = re.sub(r\",\", \" \", text)\n",
        "    text = re.sub(r\"\\.\", \" \", text)\n",
        "    text = re.sub(r\"!\", \" ! \", text)\n",
        "    text = re.sub(r\"\\/\", \" \", text)\n",
        "    text = re.sub(r\"\\^\", \" ^ \", text)\n",
        "    text = re.sub(r\"\\+\", \" + \", text)\n",
        "    text = re.sub(r\"\\-\", \" - \", text)\n",
        "    text = re.sub(r\"\\=\", \" = \", text)\n",
        "    text = re.sub(r\"'\", \" \", text)\n",
        "    return(text)"
      ],
      "metadata": {
        "id": "clmOHhOqXqP_"
      },
      "execution_count": null,
      "outputs": []
    },
    {
      "cell_type": "markdown",
      "source": [
        "### a) Levenstein distance"
      ],
      "metadata": {
        "id": "uqyF09JhZsZa"
      }
    },
    {
      "cell_type": "code",
      "source": [
        "pip install python-Levenshtein"
      ],
      "metadata": {
        "colab": {
          "base_uri": "https://localhost:8080/"
        },
        "id": "pRpe6w6FaBYl",
        "outputId": "485cd123-d412-4b75-c97d-040ae25182d5"
      },
      "execution_count": null,
      "outputs": [
        {
          "output_type": "stream",
          "name": "stdout",
          "text": [
            "Requirement already satisfied: python-Levenshtein in /usr/local/lib/python3.7/dist-packages (0.12.2)\n",
            "Requirement already satisfied: setuptools in /usr/local/lib/python3.7/dist-packages (from python-Levenshtein) (57.4.0)\n"
          ]
        }
      ]
    },
    {
      "cell_type": "code",
      "source": [
        "from Levenshtein import ratio"
      ],
      "metadata": {
        "id": "Esb0AlxRaCsl"
      },
      "execution_count": null,
      "outputs": []
    },
    {
      "cell_type": "code",
      "source": [
        "def Levenshtein_dist(q1, q2):\n",
        "    return ratio(preprocess_text(q1), preprocess_text(q2))"
      ],
      "metadata": {
        "id": "u9Yq1DB3Y49o"
      },
      "execution_count": null,
      "outputs": []
    },
    {
      "cell_type": "code",
      "source": [
        "Levenshtein_dist('What\\'s collinearity?', qa_data.Questions[1])"
      ],
      "metadata": {
        "colab": {
          "base_uri": "https://localhost:8080/"
        },
        "id": "-mhrtUuQZ7-p",
        "outputId": "73bb271c-12ca-47a7-8eb7-530ac9ba8f47"
      },
      "execution_count": null,
      "outputs": [
        {
          "output_type": "execute_result",
          "data": {
            "text/plain": [
              "0.4583333333333333"
            ]
          },
          "metadata": {},
          "execution_count": 413
        }
      ]
    },
    {
      "cell_type": "markdown",
      "source": [
        "###  b) Jaccard similarity"
      ],
      "metadata": {
        "id": "sW94xW6COnJZ"
      }
    },
    {
      "cell_type": "code",
      "source": [
        "def jaccard_similarity(query, document):\n",
        "    query, document = preprocess_text(query), preprocess_text(document)\n",
        "    intersection = set(query).intersection(set(document))\n",
        "    union = set(query).union(set(document))\n",
        "    return len(intersection)/len(union)"
      ],
      "metadata": {
        "id": "v4pY5Lu6OZda"
      },
      "execution_count": null,
      "outputs": []
    },
    {
      "cell_type": "code",
      "source": [
        "jaccard_similarity('What\\'s collinearity?', qa_data.Questions[1])"
      ],
      "metadata": {
        "colab": {
          "base_uri": "https://localhost:8080/"
        },
        "id": "_yKRhGlRPzyS",
        "outputId": "ddc7a10a-d9ff-4c7a-8cc1-eb21de6039d1"
      },
      "execution_count": null,
      "outputs": [
        {
          "output_type": "execute_result",
          "data": {
            "text/plain": [
              "0.8235294117647058"
            ]
          },
          "metadata": {},
          "execution_count": 415
        }
      ]
    },
    {
      "cell_type": "markdown",
      "source": [
        "### c) Cosine similarity with CountVectorizer"
      ],
      "metadata": {
        "id": "bFeUNQvSQiYc"
      }
    },
    {
      "cell_type": "code",
      "source": [
        "from sklearn.feature_extraction.text import CountVectorizer\n",
        "from scipy.spatial import distance"
      ],
      "metadata": {
        "id": "E9Fuc_RxTW-2"
      },
      "execution_count": null,
      "outputs": []
    },
    {
      "cell_type": "code",
      "source": [
        "def cosine_distance_countvectorizer_method(s1, s2):\n",
        "    s1, s2 = preprocess_text(s1), preprocess_text(s2)\n",
        "    allsentences = [s1 , s2]\n",
        "    \n",
        "    vectorizer = CountVectorizer()\n",
        "    all_sentences_to_vector = vectorizer.fit_transform(allsentences)\n",
        "    text_to_vector_v1 = all_sentences_to_vector.toarray()[0].tolist()\n",
        "    text_to_vector_v2 = all_sentences_to_vector.toarray()[1].tolist()\n",
        "    \n",
        "    cosine = distance.cosine(text_to_vector_v1, text_to_vector_v2)\n",
        "    cosine_simil = (1-cosine)\n",
        "    return cosine_simil"
      ],
      "metadata": {
        "id": "ye-w9nQTQROs"
      },
      "execution_count": null,
      "outputs": []
    },
    {
      "cell_type": "code",
      "source": [
        "cosine_distance_countvectorizer_method('What\\'s collinearity?', qa_data.Questions[1])"
      ],
      "metadata": {
        "colab": {
          "base_uri": "https://localhost:8080/"
        },
        "id": "XZfDvUMnSWfI",
        "outputId": "cf482c80-ca17-4d53-fbf5-09436b764861"
      },
      "execution_count": null,
      "outputs": [
        {
          "output_type": "execute_result",
          "data": {
            "text/plain": [
              "0.7216878364870322"
            ]
          },
          "metadata": {},
          "execution_count": 418
        }
      ]
    },
    {
      "cell_type": "markdown",
      "source": [
        "## Get approximate answer"
      ],
      "metadata": {
        "id": "7pZ7l0yjZ-ko"
      }
    },
    {
      "cell_type": "code",
      "source": [
        "def getApproximateAnswer(q, func):\n",
        "    max_score = 0\n",
        "    answer = \"\"\n",
        "    prediction = \"\"\n",
        "    scores = []\n",
        "    for idx, row in qa_data.iterrows():\n",
        "        score = func(row[\"Questions\"], q)\n",
        "        scores.append(score)\n",
        "        if score >= 0.95:\n",
        "            return  row[\"Answers\"], score, row[\"Questions\"]\n",
        "        elif score > max_score:\n",
        "            max_score = score\n",
        "            answer = row[\"Answers\"]\n",
        "            prediction = row[\"Questions\"]\n",
        "    # print(scores)\n",
        "\n",
        "    return answer, max_score, prediction"
      ],
      "metadata": {
        "id": "g7_SNAMxaKJe"
      },
      "execution_count": null,
      "outputs": []
    },
    {
      "cell_type": "code",
      "source": [
        " getApproximateAnswer('What\\'s collinearity?', Levenshtein_dist) #Levenstein"
      ],
      "metadata": {
        "colab": {
          "base_uri": "https://localhost:8080/"
        },
        "id": "XXlWS5zRe-v6",
        "outputId": "26c8602e-ee4d-42d2-d8ab-4852e74d03f6"
      },
      "execution_count": null,
      "outputs": [
        {
          "output_type": "execute_result",
          "data": {
            "text/plain": [
              "('An inlier is a data observation that lies within the rest of the dataset and is unusual or an error. Since it lies in the dataset, it is typically harder to identify than an outlier and requires external data to identify them.',\n",
              " 0.7,\n",
              " 'What is an inlier?')"
            ]
          },
          "metadata": {},
          "execution_count": 420
        }
      ]
    },
    {
      "cell_type": "code",
      "source": [
        " getApproximateAnswer('What\\'s collinearity?', cosine_distance_countvectorizer_method) #Cosine dist"
      ],
      "metadata": {
        "colab": {
          "base_uri": "https://localhost:8080/"
        },
        "id": "fMHQzDO3fSaT",
        "outputId": "a82f5ae9-fed6-4828-9da1-af911e630b2b"
      },
      "execution_count": null,
      "outputs": [
        {
          "output_type": "execute_result",
          "data": {
            "text/plain": [
              "('Collinearity is a linear association between two predictors. Multicollinearity is a situation where two or more predictors are highly linearly related.\\nThis can be problematic because it undermines the statistical significance of an independent variable. While it may not necessarily have a large impact on the model’s accuracy, it affects the variance of the prediction and reduces the quality of the interpretation of the independent variables.\\nYou could use the Variance Inflation Factors (VIF) to determine if there is any multicollinearity between independent variables — a standard benchmark is that if the VIF is greater than 5 then multicollinearity exists.',\n",
              " 0.7216878364870322,\n",
              " 'What is collinearity? What is multicollinearity? How do you deal with it?\\n')"
            ]
          },
          "metadata": {},
          "execution_count": 421
        }
      ]
    },
    {
      "cell_type": "code",
      "source": [
        "getApproximateAnswer('What\\'s collinearity?', jaccard_similarity) #Jaccard similarity"
      ],
      "metadata": {
        "colab": {
          "base_uri": "https://localhost:8080/"
        },
        "id": "F6QeIzDYf3gM",
        "outputId": "19014bb0-84a7-4ef7-e89b-e6a4e827c849"
      },
      "execution_count": null,
      "outputs": [
        {
          "output_type": "execute_result",
          "data": {
            "text/plain": [
              "('Root cause analysis was initially developed to analyze industrial accidents but is now widely used in other areas. It is a problem-solving technique used for isolating the root causes of faults or problems. A factor is called a root cause if its deduction from the problem-fault-sequence averts the final undesirable event from recurring.',\n",
              " 0.9333333333333333,\n",
              " 'What is root cause analysis? ')"
            ]
          },
          "metadata": {},
          "execution_count": 422
        }
      ]
    },
    {
      "cell_type": "code",
      "source": [
        "getResults(test_data, getApproximateAnswer, cosine_distance_countvectorizer_method)"
      ],
      "metadata": {
        "colab": {
          "base_uri": "https://localhost:8080/",
          "height": 629
        },
        "id": "RcD8KAIIa_wa",
        "outputId": "71addb37-1954-4a17-ff3f-76392c5fc34a"
      },
      "execution_count": null,
      "outputs": [
        {
          "output_type": "execute_result",
          "data": {
            "text/plain": [
              "                                                    Q  \\\n",
              "0             What does linear regression stands for?   \n",
              "1   What is the differencebetween collinearity and...   \n",
              "2        What are the cons of using a linear model?\\n   \n",
              "3                What are ridge and lasso regression?   \n",
              "4                   How does K-Nearest neighbor work?   \n",
              "5                        How to select k for k means?   \n",
              "6                         Why is Naive Bayes “naive”?   \n",
              "7                              When should I use SVM?   \n",
              "8                  What is pruning in decision trees?   \n",
              "9   What are random forests? Why is Naive Bayes be...   \n",
              "10                               What's collinearity?   \n",
              "\n",
              "                                           Prediction  \\\n",
              "0   What are the assumptions required for linear r...   \n",
              "1   What is collinearity? What is multicollinearit...   \n",
              "2         What are the drawbacks of a linear model?\\n   \n",
              "3   What are ridge and lasso regression and what a...   \n",
              "4                   How does K-Nearest Neighbor work?   \n",
              "5                        How to select K for K-means?   \n",
              "6                         Why is Naive Bayes “naive”?   \n",
              "7   When should you use classification over regres...   \n",
              "8                  What is pruning in decision trees?   \n",
              "9   What are random forests? Why is Naive Bayes be...   \n",
              "10  What is collinearity? What is multicollinearit...   \n",
              "\n",
              "                                                    A     Score  \n",
              "0   There are four major assumptions: 1. There is ...  0.577350  \n",
              "1   Collinearity is a linear association between t...  0.566947  \n",
              "2   There are a couple of drawbacks of a linear mo...  0.801784  \n",
              "3   Both L1 and L2 regularization are methods used...  0.842927  \n",
              "4   K-Nearest Neighbors is a classification techni...  1.000000  \n",
              "5   Domain knowledge, i.e. an expert knows the val...  1.000000  \n",
              "6   Naive Bayes is naive because it holds a strong...  1.000000  \n",
              "7   Classification produces discrete values and da...  0.566947  \n",
              "8   Pruning is a technique in machine learning and...  1.000000  \n",
              "9   Random forests are an ensemble learning techni...  1.000000  \n",
              "10  Collinearity is a linear association between t...  0.721688  "
            ],
            "text/html": [
              "\n",
              "  <div id=\"df-1d2e9bef-3513-4cd4-9f2b-04c050a0373a\">\n",
              "    <div class=\"colab-df-container\">\n",
              "      <div>\n",
              "<style scoped>\n",
              "    .dataframe tbody tr th:only-of-type {\n",
              "        vertical-align: middle;\n",
              "    }\n",
              "\n",
              "    .dataframe tbody tr th {\n",
              "        vertical-align: top;\n",
              "    }\n",
              "\n",
              "    .dataframe thead th {\n",
              "        text-align: right;\n",
              "    }\n",
              "</style>\n",
              "<table border=\"1\" class=\"dataframe\">\n",
              "  <thead>\n",
              "    <tr style=\"text-align: right;\">\n",
              "      <th></th>\n",
              "      <th>Q</th>\n",
              "      <th>Prediction</th>\n",
              "      <th>A</th>\n",
              "      <th>Score</th>\n",
              "    </tr>\n",
              "  </thead>\n",
              "  <tbody>\n",
              "    <tr>\n",
              "      <th>0</th>\n",
              "      <td>What does linear regression stands for?</td>\n",
              "      <td>What are the assumptions required for linear r...</td>\n",
              "      <td>There are four major assumptions: 1. There is ...</td>\n",
              "      <td>0.577350</td>\n",
              "    </tr>\n",
              "    <tr>\n",
              "      <th>1</th>\n",
              "      <td>What is the differencebetween collinearity and...</td>\n",
              "      <td>What is collinearity? What is multicollinearit...</td>\n",
              "      <td>Collinearity is a linear association between t...</td>\n",
              "      <td>0.566947</td>\n",
              "    </tr>\n",
              "    <tr>\n",
              "      <th>2</th>\n",
              "      <td>What are the cons of using a linear model?\\n</td>\n",
              "      <td>What are the drawbacks of a linear model?\\n</td>\n",
              "      <td>There are a couple of drawbacks of a linear mo...</td>\n",
              "      <td>0.801784</td>\n",
              "    </tr>\n",
              "    <tr>\n",
              "      <th>3</th>\n",
              "      <td>What are ridge and lasso regression?</td>\n",
              "      <td>What are ridge and lasso regression and what a...</td>\n",
              "      <td>Both L1 and L2 regularization are methods used...</td>\n",
              "      <td>0.842927</td>\n",
              "    </tr>\n",
              "    <tr>\n",
              "      <th>4</th>\n",
              "      <td>How does K-Nearest neighbor work?</td>\n",
              "      <td>How does K-Nearest Neighbor work?</td>\n",
              "      <td>K-Nearest Neighbors is a classification techni...</td>\n",
              "      <td>1.000000</td>\n",
              "    </tr>\n",
              "    <tr>\n",
              "      <th>5</th>\n",
              "      <td>How to select k for k means?</td>\n",
              "      <td>How to select K for K-means?</td>\n",
              "      <td>Domain knowledge, i.e. an expert knows the val...</td>\n",
              "      <td>1.000000</td>\n",
              "    </tr>\n",
              "    <tr>\n",
              "      <th>6</th>\n",
              "      <td>Why is Naive Bayes “naive”?</td>\n",
              "      <td>Why is Naive Bayes “naive”?</td>\n",
              "      <td>Naive Bayes is naive because it holds a strong...</td>\n",
              "      <td>1.000000</td>\n",
              "    </tr>\n",
              "    <tr>\n",
              "      <th>7</th>\n",
              "      <td>When should I use SVM?</td>\n",
              "      <td>When should you use classification over regres...</td>\n",
              "      <td>Classification produces discrete values and da...</td>\n",
              "      <td>0.566947</td>\n",
              "    </tr>\n",
              "    <tr>\n",
              "      <th>8</th>\n",
              "      <td>What is pruning in decision trees?</td>\n",
              "      <td>What is pruning in decision trees?</td>\n",
              "      <td>Pruning is a technique in machine learning and...</td>\n",
              "      <td>1.000000</td>\n",
              "    </tr>\n",
              "    <tr>\n",
              "      <th>9</th>\n",
              "      <td>What are random forests? Why is Naive Bayes be...</td>\n",
              "      <td>What are random forests? Why is Naive Bayes be...</td>\n",
              "      <td>Random forests are an ensemble learning techni...</td>\n",
              "      <td>1.000000</td>\n",
              "    </tr>\n",
              "    <tr>\n",
              "      <th>10</th>\n",
              "      <td>What's collinearity?</td>\n",
              "      <td>What is collinearity? What is multicollinearit...</td>\n",
              "      <td>Collinearity is a linear association between t...</td>\n",
              "      <td>0.721688</td>\n",
              "    </tr>\n",
              "  </tbody>\n",
              "</table>\n",
              "</div>\n",
              "      <button class=\"colab-df-convert\" onclick=\"convertToInteractive('df-1d2e9bef-3513-4cd4-9f2b-04c050a0373a')\"\n",
              "              title=\"Convert this dataframe to an interactive table.\"\n",
              "              style=\"display:none;\">\n",
              "        \n",
              "  <svg xmlns=\"http://www.w3.org/2000/svg\" height=\"24px\"viewBox=\"0 0 24 24\"\n",
              "       width=\"24px\">\n",
              "    <path d=\"M0 0h24v24H0V0z\" fill=\"none\"/>\n",
              "    <path d=\"M18.56 5.44l.94 2.06.94-2.06 2.06-.94-2.06-.94-.94-2.06-.94 2.06-2.06.94zm-11 1L8.5 8.5l.94-2.06 2.06-.94-2.06-.94L8.5 2.5l-.94 2.06-2.06.94zm10 10l.94 2.06.94-2.06 2.06-.94-2.06-.94-.94-2.06-.94 2.06-2.06.94z\"/><path d=\"M17.41 7.96l-1.37-1.37c-.4-.4-.92-.59-1.43-.59-.52 0-1.04.2-1.43.59L10.3 9.45l-7.72 7.72c-.78.78-.78 2.05 0 2.83L4 21.41c.39.39.9.59 1.41.59.51 0 1.02-.2 1.41-.59l7.78-7.78 2.81-2.81c.8-.78.8-2.07 0-2.86zM5.41 20L4 18.59l7.72-7.72 1.47 1.35L5.41 20z\"/>\n",
              "  </svg>\n",
              "      </button>\n",
              "      \n",
              "  <style>\n",
              "    .colab-df-container {\n",
              "      display:flex;\n",
              "      flex-wrap:wrap;\n",
              "      gap: 12px;\n",
              "    }\n",
              "\n",
              "    .colab-df-convert {\n",
              "      background-color: #E8F0FE;\n",
              "      border: none;\n",
              "      border-radius: 50%;\n",
              "      cursor: pointer;\n",
              "      display: none;\n",
              "      fill: #1967D2;\n",
              "      height: 32px;\n",
              "      padding: 0 0 0 0;\n",
              "      width: 32px;\n",
              "    }\n",
              "\n",
              "    .colab-df-convert:hover {\n",
              "      background-color: #E2EBFA;\n",
              "      box-shadow: 0px 1px 2px rgba(60, 64, 67, 0.3), 0px 1px 3px 1px rgba(60, 64, 67, 0.15);\n",
              "      fill: #174EA6;\n",
              "    }\n",
              "\n",
              "    [theme=dark] .colab-df-convert {\n",
              "      background-color: #3B4455;\n",
              "      fill: #D2E3FC;\n",
              "    }\n",
              "\n",
              "    [theme=dark] .colab-df-convert:hover {\n",
              "      background-color: #434B5C;\n",
              "      box-shadow: 0px 1px 3px 1px rgba(0, 0, 0, 0.15);\n",
              "      filter: drop-shadow(0px 1px 2px rgba(0, 0, 0, 0.3));\n",
              "      fill: #FFFFFF;\n",
              "    }\n",
              "  </style>\n",
              "\n",
              "      <script>\n",
              "        const buttonEl =\n",
              "          document.querySelector('#df-1d2e9bef-3513-4cd4-9f2b-04c050a0373a button.colab-df-convert');\n",
              "        buttonEl.style.display =\n",
              "          google.colab.kernel.accessAllowed ? 'block' : 'none';\n",
              "\n",
              "        async function convertToInteractive(key) {\n",
              "          const element = document.querySelector('#df-1d2e9bef-3513-4cd4-9f2b-04c050a0373a');\n",
              "          const dataTable =\n",
              "            await google.colab.kernel.invokeFunction('convertToInteractive',\n",
              "                                                     [key], {});\n",
              "          if (!dataTable) return;\n",
              "\n",
              "          const docLinkHtml = 'Like what you see? Visit the ' +\n",
              "            '<a target=\"_blank\" href=https://colab.research.google.com/notebooks/data_table.ipynb>data table notebook</a>'\n",
              "            + ' to learn more about interactive tables.';\n",
              "          element.innerHTML = '';\n",
              "          dataTable['output_type'] = 'display_data';\n",
              "          await google.colab.output.renderOutput(dataTable, element);\n",
              "          const docLink = document.createElement('div');\n",
              "          docLink.innerHTML = docLinkHtml;\n",
              "          element.appendChild(docLink);\n",
              "        }\n",
              "      </script>\n",
              "    </div>\n",
              "  </div>\n",
              "  "
            ]
          },
          "metadata": {},
          "execution_count": 423
        }
      ]
    },
    {
      "cell_type": "markdown",
      "source": [
        "## BERT info retrieval"
      ],
      "metadata": {
        "id": "paTRPCRJ-DQs"
      }
    },
    {
      "cell_type": "code",
      "source": [
        "from transformers import BertTokenizer, BertForQuestionAnswering\n",
        "import torch\n",
        "\n",
        "tokenizerQABert = BertTokenizer.from_pretrained(\"deepset/bert-base-cased-squad2\")\n",
        "modelQABert = BertForQuestionAnswering.from_pretrained(\"deepset/bert-base-cased-squad2\")"
      ],
      "metadata": {
        "id": "m-r7ggIt-I58"
      },
      "execution_count": null,
      "outputs": []
    },
    {
      "cell_type": "code",
      "source": [
        "question, text = \"What is collinearity?\", qa_data.Answers[1]\n",
        "print(qa_data.Answers[1])"
      ],
      "metadata": {
        "colab": {
          "base_uri": "https://localhost:8080/"
        },
        "id": "yiS07xNP-PLH",
        "outputId": "0ae39d75-91e7-4884-8f95-99660b0b5719"
      },
      "execution_count": null,
      "outputs": [
        {
          "output_type": "stream",
          "name": "stdout",
          "text": [
            "Collinearity is a linear association between two predictors. Multicollinearity is a situation where two or more predictors are highly linearly related.\n",
            "This can be problematic because it undermines the statistical significance of an independent variable. While it may not necessarily have a large impact on the model’s accuracy, it affects the variance of the prediction and reduces the quality of the interpretation of the independent variables.\n",
            "You could use the Variance Inflation Factors (VIF) to determine if there is any multicollinearity between independent variables — a standard benchmark is that if the VIF is greater than 5 then multicollinearity exists.\n"
          ]
        }
      ]
    },
    {
      "cell_type": "code",
      "source": [
        "def answer_with_BERT(question, text):\n",
        "  inputs = tokenizerQABert(question, text, return_tensors=\"pt\")\n",
        "  with torch.no_grad():\n",
        "    outputs = modelQABert(**inputs)\n",
        "  answer_start_index = outputs.start_logits.argmax()\n",
        "  answer_end_index = outputs.end_logits.argmax()\n",
        "  predict_answer_tokens = inputs.input_ids[0, answer_start_index : answer_end_index + 1]\n",
        "  return tokenizerQABert.decode(predict_answer_tokens)"
      ],
      "metadata": {
        "id": "bPmyp-9A-WrV"
      },
      "execution_count": null,
      "outputs": []
    },
    {
      "cell_type": "code",
      "source": [
        "#[CLS] - no answer\n",
        "print(answer_with_BERT(\"What is collinearity?\", qa_data.Answers[1]))\n",
        "print(answer_with_BERT(\"What is support vectors?\", qa_data.Answers[7]))"
      ],
      "metadata": {
        "colab": {
          "base_uri": "https://localhost:8080/"
        },
        "id": "HBwXAco3_HUu",
        "outputId": "31de8174-bd5e-4bfc-c16d-05cb47151be2"
      },
      "execution_count": null,
      "outputs": [
        {
          "output_type": "stream",
          "name": "stdout",
          "text": [
            "a linear association between two predictors\n",
            "data points that touch the boundaries of the maximum margin\n"
          ]
        }
      ]
    },
    {
      "cell_type": "markdown",
      "source": [
        "## Info retrieval func"
      ],
      "metadata": {
        "id": "UERkekV7MziJ"
      }
    },
    {
      "cell_type": "code",
      "source": [
        "def find_answer(similiar_question):\n",
        "  if getApproximateAnswer(similiar_question, cosine_distance_countvectorizer_method)[1]<0.6:\n",
        "    return \"Sorry, I didn't get you\"\n",
        "  q = getApproximateAnswer(similiar_question, cosine_distance_countvectorizer_method)[2]\n",
        "  answ = qa_data[qa_data['Questions']==q].iloc[0]['Answers']\n",
        "  short_answer = answer_with_BERT(similiar_question, answ)\n",
        "  if short_answer != '[CLS]':\n",
        "    return short_answer\n",
        "  else: return \"Sorry, I didn't get you\""
      ],
      "metadata": {
        "id": "fYFfypOGD19-"
      },
      "execution_count": null,
      "outputs": []
    },
    {
      "cell_type": "code",
      "source": [
        "print(getApproximateAnswer(\"What is log regression?\", cosine_distance_countvectorizer_method))\n",
        "print(find_answer('What is log regression?'))"
      ],
      "metadata": {
        "colab": {
          "base_uri": "https://localhost:8080/"
        },
        "id": "19x4yZ-SGFmK",
        "outputId": "2b742905-73cc-4d69-da83-7b8a13efc4aa"
      },
      "execution_count": null,
      "outputs": [
        {
          "output_type": "stream",
          "name": "stdout",
          "text": [
            "('Logistic regression is also known as the logit model. It is a technique used to forecast the binary outcome from a linear combination of predictor variables.', 0.7499999999999999, 'What is logistic regression?')\n",
            "a technique used to forecast the binary outcome from a linear combination of predictor variables\n"
          ]
        }
      ]
    },
    {
      "cell_type": "code",
      "source": [
        "print(getApproximateAnswer(\"What is collinearity?\", cosine_distance_countvectorizer_method))\n",
        "print(find_answer('What is collinearity?'))"
      ],
      "metadata": {
        "colab": {
          "base_uri": "https://localhost:8080/"
        },
        "id": "QrUIUlIGLaXf",
        "outputId": "00bdbfaf-9092-4979-e4ff-23b448b645b3"
      },
      "execution_count": null,
      "outputs": [
        {
          "output_type": "stream",
          "name": "stdout",
          "text": [
            "('Collinearity is a linear association between two predictors. Multicollinearity is a situation where two or more predictors are highly linearly related.\\nThis can be problematic because it undermines the statistical significance of an independent variable. While it may not necessarily have a large impact on the model’s accuracy, it affects the variance of the prediction and reduces the quality of the interpretation of the independent variables.\\nYou could use the Variance Inflation Factors (VIF) to determine if there is any multicollinearity between independent variables — a standard benchmark is that if the VIF is greater than 5 then multicollinearity exists.', 0.7216878364870322, 'What is collinearity? What is multicollinearity? How do you deal with it?\\n')\n",
            "a linear association between two predictors\n"
          ]
        }
      ]
    },
    {
      "cell_type": "code",
      "source": [
        "print(getApproximateAnswer(\"What is support vector machines?\", cosine_distance_countvectorizer_method))\n",
        "print(find_answer('What is support vector machines?'))"
      ],
      "metadata": {
        "colab": {
          "base_uri": "https://localhost:8080/"
        },
        "id": "IDI4RQSjLnJD",
        "outputId": "d11dd962-ad0f-4b62-cc43-d4c6de6a023d"
      },
      "execution_count": null,
      "outputs": [
        {
          "output_type": "stream",
          "name": "stdout",
          "text": [
            "('Overfitting is an error where the model ‘fits’ the data too well, resulting in a model with high variance and low bias. As a consequence, an overfit model will inaccurately predict new data points even though it has a high accuracy on the training data.', 0.5163977794943222, 'What is overfitting?')\n",
            "Sorry, I didn't get you\n"
          ]
        }
      ]
    },
    {
      "cell_type": "code",
      "source": [
        "print(getApproximateAnswer(\"What is linear regression?\", cosine_distance_countvectorizer_method))\n",
        "print(find_answer('What is linear regression?'))"
      ],
      "metadata": {
        "colab": {
          "base_uri": "https://localhost:8080/"
        },
        "id": "Ha-QVFXrJQcC",
        "outputId": "eae16e25-b24c-44c8-cc2c-6cc625cd4a9c"
      },
      "execution_count": null,
      "outputs": [
        {
          "output_type": "stream",
          "name": "stdout",
          "text": [
            "('Logistic regression is also known as the logit model. It is a technique used to forecast the binary outcome from a linear combination of predictor variables.', 0.7499999999999999, 'What is logistic regression?')\n",
            "a technique used to forecast the binary outcome from a linear combination of predictor variables\n"
          ]
        }
      ]
    },
    {
      "cell_type": "markdown",
      "source": [
        "# Part III: Natural Language Generation"
      ],
      "metadata": {
        "id": "L3cyjAcBQDdX"
      }
    },
    {
      "cell_type": "code",
      "source": [
        "# checkpoint \n",
        "checkpoint = \"microsoft/DialoGPT-medium\"\n",
        "# download and cache tokenizer\n",
        "tokenizer2 = AutoTokenizer.from_pretrained(checkpoint)\n",
        "# download and cache pre-trained model\n",
        "modelNLG = AutoModelForCausalLM.from_pretrained(checkpoint)"
      ],
      "metadata": {
        "id": "pCDZhsH2QhMd"
      },
      "execution_count": null,
      "outputs": []
    },
    {
      "cell_type": "markdown",
      "source": [
        "# Part IV: Bot Development"
      ],
      "metadata": {
        "id": "cp9LKdPgP-Io"
      }
    },
    {
      "cell_type": "code",
      "source": [
        "class ChatBot():\n",
        "    def __init__(self):\n",
        "        self.chat_history_ids = None\n",
        "        self.bot_input_ids = None\n",
        "        self.end_chat = False\n",
        "        self.is_greeting = False\n",
        "        self.is_question = False\n",
        "        self.text_input = None\n",
        "        self.welcome()\n",
        "        \n",
        "    def welcome(self):\n",
        "        print(\"Initializing ChatBot ...\")\n",
        "        time.sleep(2)\n",
        "        print('Type any word to start the conversation!\\n')\n",
        "        time.sleep(3)\n",
        "\n",
        "        \n",
        "    def user_input(self):\n",
        "        text = str(input(\"User    >> \"))\n",
        "        if classify_goodbyes(text.lower()) == 1:\n",
        "            self.end_chat=True\n",
        "            print('ChatBot >>  See you soon! Bye!')\n",
        "            time.sleep(1)\n",
        "            print('\\nQuitting ChatBot ...')\n",
        "        else:\n",
        "            if classify_greet(text) == -1:\n",
        "              self.text_input = text\n",
        "              if find_answer(self.text_input) != 'Sorry, I didn\\'t get you':\n",
        "                self.is_question = True\n",
        "            else: \n",
        "              self.is_greeting = True\n",
        "\n",
        "    def bot_greet(self):\n",
        "        greeting = np.random.choice([\n",
        "            \"Welcome, I am ChatBot, here for your kind service\",\n",
        "            \"Hey, Great day! I am your virtual assistant\",\n",
        "            \"Hello, it's my pleasure meeting you\",\n",
        "            \"Hi, I am a ChatBot. Let's chat!\"\n",
        "        ])\n",
        "        print(\"ChatBot >>  \" + greeting)\n",
        "        self.is_greeting = False\n",
        "\n",
        "    def bot_response(self):\n",
        "        self.new_user_input_ids = tokenizer2.encode(self.text_input + tokenizer2.eos_token, \\\n",
        "                                                       return_tensors='pt')\n",
        "        if self.chat_history_ids is not None:\n",
        "            self.bot_input_ids = torch.cat([self.chat_history_ids, self.new_user_input_ids], dim=-1) \n",
        "        else:\n",
        "            self.bot_input_ids = self.new_user_input_ids\n",
        "         \n",
        "        self.chat_history_ids = modelNLG.generate(self.bot_input_ids, max_length=1000, \\\n",
        "                                               pad_token_id=tokenizer2.eos_token_id)\n",
        "            \n",
        "        response = tokenizer2.decode(self.chat_history_ids[:, self.bot_input_ids.shape[-1]:][0], \\\n",
        "                               skip_special_tokens=True)\n",
        "        if response == \"\":\n",
        "            response = self.random_response()\n",
        "        print('ChatBot >>  '+ response)\n",
        "    \n",
        "    def bot_answer(self):\n",
        "      print('ChatBot >>  '+ find_answer(self.text_input))\n",
        "      self.is_question = False\n",
        "        \n",
        "    def random_response(self):\n",
        "        i = -1\n",
        "        response = tokenizer2.decode(self.chat_history_ids[:, self.bot_input_ids.shape[i]:][0], \\\n",
        "                               skip_special_tokens=True)\n",
        "        while response == '':\n",
        "            i = i-1\n",
        "            response = tokenizer2.decode(self.chat_history_ids[:, self.bot_input_ids.shape[i]:][0], \\\n",
        "                               skip_special_tokens=True)\n",
        "        if response.strip() == '?':\n",
        "            reply = np.random.choice([\"I don't know\", \n",
        "                                     \"I am not sure\"])\n",
        "        else:\n",
        "            reply = np.random.choice([\"Great\", \n",
        "                                      \"Fine. What's up?\", \n",
        "                                      \"Okay\"\n",
        "                                     ])\n",
        "        return reply"
      ],
      "metadata": {
        "id": "NG4bFpPiQhVI"
      },
      "execution_count": null,
      "outputs": []
    },
    {
      "cell_type": "code",
      "source": [
        "bot = ChatBot()\n",
        "while True:\n",
        "    bot.user_input()\n",
        "    if bot.end_chat:\n",
        "        break\n",
        "    if bot.is_greeting == False:\n",
        "      if bot.is_question == True:\n",
        "        bot.bot_answer()\n",
        "      else:\n",
        "        bot.bot_response() \n",
        "    else: bot.bot_greet()  "
      ],
      "metadata": {
        "id": "YjL1zeLuQhip",
        "colab": {
          "base_uri": "https://localhost:8080/"
        },
        "outputId": "e8e1326d-5dd4-4077-9973-2185c2b08734"
      },
      "execution_count": null,
      "outputs": [
        {
          "output_type": "stream",
          "name": "stdout",
          "text": [
            "Initializing ChatBot ...\n",
            "Type any word to start the conversation!\n",
            "\n",
            "User    >> hey, good time to start the conversation\n",
            "ChatBot >>  Hi, I am a ChatBot. Let's chat!\n",
            "User    >> Tell me pls, what is linear regression?\n",
            "ChatBot >>  It's a way of saying that you can't predict the future.\n",
            "User    >> what is linear regression?\n",
            "ChatBot >>  \n",
            "User    >> What is linear regression?\n",
            "ChatBot >>  a technique used to forecast the binary outcome from a linear combination of predictor variables\n",
            "User    >> I don't know, what is collinearity?\n",
            "ChatBot >>  It's a way of saying that you can't predict the future.\n",
            "User    >> What is ridge regression?\n",
            "ChatBot >>  It's a way of saying that you can't predict the future.\n",
            "User    >> What are support vectors?\n",
            "ChatBot >>  data points that touch the boundaries of the maximum margin\n",
            "User    >> Tell me pls, what are support vectors\n",
            "ChatBot >>  It's a way of saying that you can't predict the future.\n",
            "User    >> quit chat\n",
            "ChatBot >>  See you soon! Bye!\n",
            "\n",
            "Quitting ChatBot ...\n"
          ]
        }
      ]
    }
  ]
}