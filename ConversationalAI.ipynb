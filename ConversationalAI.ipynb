{
  "nbformat": 4,
  "nbformat_minor": 0,
  "metadata": {
    "colab": {
      "name": "ConversationalAI.ipynb",
      "provenance": [],
      "toc_visible": true,
      "include_colab_link": true
    },
    "kernelspec": {
      "name": "python3",
      "display_name": "Python 3"
    },
    "language_info": {
      "name": "python"
    },
    "widgets": {
      "application/vnd.jupyter.widget-state+json": {
        "b91dd5bd44834f298101d00a5a6ae8c3": {
          "model_module": "@jupyter-widgets/controls",
          "model_name": "HBoxModel",
          "model_module_version": "1.5.0",
          "state": {
            "_dom_classes": [],
            "_model_module": "@jupyter-widgets/controls",
            "_model_module_version": "1.5.0",
            "_model_name": "HBoxModel",
            "_view_count": null,
            "_view_module": "@jupyter-widgets/controls",
            "_view_module_version": "1.5.0",
            "_view_name": "HBoxView",
            "box_style": "",
            "children": [
              "IPY_MODEL_233dc3892e9048d7939b92ed1a1dd2f6",
              "IPY_MODEL_0c756a14be2e454993e6320508976c98",
              "IPY_MODEL_cfaaa9ade1a947a09583018ddb653791"
            ],
            "layout": "IPY_MODEL_655f1a26261a439b8951aed802ae0b15"
          }
        },
        "233dc3892e9048d7939b92ed1a1dd2f6": {
          "model_module": "@jupyter-widgets/controls",
          "model_name": "HTMLModel",
          "model_module_version": "1.5.0",
          "state": {
            "_dom_classes": [],
            "_model_module": "@jupyter-widgets/controls",
            "_model_module_version": "1.5.0",
            "_model_name": "HTMLModel",
            "_view_count": null,
            "_view_module": "@jupyter-widgets/controls",
            "_view_module_version": "1.5.0",
            "_view_name": "HTMLView",
            "description": "",
            "description_tooltip": null,
            "layout": "IPY_MODEL_e19f8e892c144cd4bb009af8b1b99965",
            "placeholder": "​",
            "style": "IPY_MODEL_e49080e3d8d64352b21abb22ea9eae35",
            "value": "100%"
          }
        },
        "0c756a14be2e454993e6320508976c98": {
          "model_module": "@jupyter-widgets/controls",
          "model_name": "FloatProgressModel",
          "model_module_version": "1.5.0",
          "state": {
            "_dom_classes": [],
            "_model_module": "@jupyter-widgets/controls",
            "_model_module_version": "1.5.0",
            "_model_name": "FloatProgressModel",
            "_view_count": null,
            "_view_module": "@jupyter-widgets/controls",
            "_view_module_version": "1.5.0",
            "_view_name": "ProgressView",
            "bar_style": "success",
            "description": "",
            "description_tooltip": null,
            "layout": "IPY_MODEL_05a3d29727da43daa4f0aebb2bfa3f35",
            "max": 2,
            "min": 0,
            "orientation": "horizontal",
            "style": "IPY_MODEL_5213dfb30b564d6283745fa19944aa03",
            "value": 2
          }
        },
        "cfaaa9ade1a947a09583018ddb653791": {
          "model_module": "@jupyter-widgets/controls",
          "model_name": "HTMLModel",
          "model_module_version": "1.5.0",
          "state": {
            "_dom_classes": [],
            "_model_module": "@jupyter-widgets/controls",
            "_model_module_version": "1.5.0",
            "_model_name": "HTMLModel",
            "_view_count": null,
            "_view_module": "@jupyter-widgets/controls",
            "_view_module_version": "1.5.0",
            "_view_name": "HTMLView",
            "description": "",
            "description_tooltip": null,
            "layout": "IPY_MODEL_d3839623e7e844419eece7093be5a527",
            "placeholder": "​",
            "style": "IPY_MODEL_868758f9d741466da70c0190a1a3b7dd",
            "value": " 2/2 [00:00&lt;00:00, 26.90it/s]"
          }
        },
        "655f1a26261a439b8951aed802ae0b15": {
          "model_module": "@jupyter-widgets/base",
          "model_name": "LayoutModel",
          "model_module_version": "1.2.0",
          "state": {
            "_model_module": "@jupyter-widgets/base",
            "_model_module_version": "1.2.0",
            "_model_name": "LayoutModel",
            "_view_count": null,
            "_view_module": "@jupyter-widgets/base",
            "_view_module_version": "1.2.0",
            "_view_name": "LayoutView",
            "align_content": null,
            "align_items": null,
            "align_self": null,
            "border": null,
            "bottom": null,
            "display": null,
            "flex": null,
            "flex_flow": null,
            "grid_area": null,
            "grid_auto_columns": null,
            "grid_auto_flow": null,
            "grid_auto_rows": null,
            "grid_column": null,
            "grid_gap": null,
            "grid_row": null,
            "grid_template_areas": null,
            "grid_template_columns": null,
            "grid_template_rows": null,
            "height": null,
            "justify_content": null,
            "justify_items": null,
            "left": null,
            "margin": null,
            "max_height": null,
            "max_width": null,
            "min_height": null,
            "min_width": null,
            "object_fit": null,
            "object_position": null,
            "order": null,
            "overflow": null,
            "overflow_x": null,
            "overflow_y": null,
            "padding": null,
            "right": null,
            "top": null,
            "visibility": null,
            "width": null
          }
        },
        "e19f8e892c144cd4bb009af8b1b99965": {
          "model_module": "@jupyter-widgets/base",
          "model_name": "LayoutModel",
          "model_module_version": "1.2.0",
          "state": {
            "_model_module": "@jupyter-widgets/base",
            "_model_module_version": "1.2.0",
            "_model_name": "LayoutModel",
            "_view_count": null,
            "_view_module": "@jupyter-widgets/base",
            "_view_module_version": "1.2.0",
            "_view_name": "LayoutView",
            "align_content": null,
            "align_items": null,
            "align_self": null,
            "border": null,
            "bottom": null,
            "display": null,
            "flex": null,
            "flex_flow": null,
            "grid_area": null,
            "grid_auto_columns": null,
            "grid_auto_flow": null,
            "grid_auto_rows": null,
            "grid_column": null,
            "grid_gap": null,
            "grid_row": null,
            "grid_template_areas": null,
            "grid_template_columns": null,
            "grid_template_rows": null,
            "height": null,
            "justify_content": null,
            "justify_items": null,
            "left": null,
            "margin": null,
            "max_height": null,
            "max_width": null,
            "min_height": null,
            "min_width": null,
            "object_fit": null,
            "object_position": null,
            "order": null,
            "overflow": null,
            "overflow_x": null,
            "overflow_y": null,
            "padding": null,
            "right": null,
            "top": null,
            "visibility": null,
            "width": null
          }
        },
        "e49080e3d8d64352b21abb22ea9eae35": {
          "model_module": "@jupyter-widgets/controls",
          "model_name": "DescriptionStyleModel",
          "model_module_version": "1.5.0",
          "state": {
            "_model_module": "@jupyter-widgets/controls",
            "_model_module_version": "1.5.0",
            "_model_name": "DescriptionStyleModel",
            "_view_count": null,
            "_view_module": "@jupyter-widgets/base",
            "_view_module_version": "1.2.0",
            "_view_name": "StyleView",
            "description_width": ""
          }
        },
        "05a3d29727da43daa4f0aebb2bfa3f35": {
          "model_module": "@jupyter-widgets/base",
          "model_name": "LayoutModel",
          "model_module_version": "1.2.0",
          "state": {
            "_model_module": "@jupyter-widgets/base",
            "_model_module_version": "1.2.0",
            "_model_name": "LayoutModel",
            "_view_count": null,
            "_view_module": "@jupyter-widgets/base",
            "_view_module_version": "1.2.0",
            "_view_name": "LayoutView",
            "align_content": null,
            "align_items": null,
            "align_self": null,
            "border": null,
            "bottom": null,
            "display": null,
            "flex": null,
            "flex_flow": null,
            "grid_area": null,
            "grid_auto_columns": null,
            "grid_auto_flow": null,
            "grid_auto_rows": null,
            "grid_column": null,
            "grid_gap": null,
            "grid_row": null,
            "grid_template_areas": null,
            "grid_template_columns": null,
            "grid_template_rows": null,
            "height": null,
            "justify_content": null,
            "justify_items": null,
            "left": null,
            "margin": null,
            "max_height": null,
            "max_width": null,
            "min_height": null,
            "min_width": null,
            "object_fit": null,
            "object_position": null,
            "order": null,
            "overflow": null,
            "overflow_x": null,
            "overflow_y": null,
            "padding": null,
            "right": null,
            "top": null,
            "visibility": null,
            "width": null
          }
        },
        "5213dfb30b564d6283745fa19944aa03": {
          "model_module": "@jupyter-widgets/controls",
          "model_name": "ProgressStyleModel",
          "model_module_version": "1.5.0",
          "state": {
            "_model_module": "@jupyter-widgets/controls",
            "_model_module_version": "1.5.0",
            "_model_name": "ProgressStyleModel",
            "_view_count": null,
            "_view_module": "@jupyter-widgets/base",
            "_view_module_version": "1.2.0",
            "_view_name": "StyleView",
            "bar_color": null,
            "description_width": ""
          }
        },
        "d3839623e7e844419eece7093be5a527": {
          "model_module": "@jupyter-widgets/base",
          "model_name": "LayoutModel",
          "model_module_version": "1.2.0",
          "state": {
            "_model_module": "@jupyter-widgets/base",
            "_model_module_version": "1.2.0",
            "_model_name": "LayoutModel",
            "_view_count": null,
            "_view_module": "@jupyter-widgets/base",
            "_view_module_version": "1.2.0",
            "_view_name": "LayoutView",
            "align_content": null,
            "align_items": null,
            "align_self": null,
            "border": null,
            "bottom": null,
            "display": null,
            "flex": null,
            "flex_flow": null,
            "grid_area": null,
            "grid_auto_columns": null,
            "grid_auto_flow": null,
            "grid_auto_rows": null,
            "grid_column": null,
            "grid_gap": null,
            "grid_row": null,
            "grid_template_areas": null,
            "grid_template_columns": null,
            "grid_template_rows": null,
            "height": null,
            "justify_content": null,
            "justify_items": null,
            "left": null,
            "margin": null,
            "max_height": null,
            "max_width": null,
            "min_height": null,
            "min_width": null,
            "object_fit": null,
            "object_position": null,
            "order": null,
            "overflow": null,
            "overflow_x": null,
            "overflow_y": null,
            "padding": null,
            "right": null,
            "top": null,
            "visibility": null,
            "width": null
          }
        },
        "868758f9d741466da70c0190a1a3b7dd": {
          "model_module": "@jupyter-widgets/controls",
          "model_name": "DescriptionStyleModel",
          "model_module_version": "1.5.0",
          "state": {
            "_model_module": "@jupyter-widgets/controls",
            "_model_module_version": "1.5.0",
            "_model_name": "DescriptionStyleModel",
            "_view_count": null,
            "_view_module": "@jupyter-widgets/base",
            "_view_module_version": "1.2.0",
            "_view_name": "StyleView",
            "description_width": ""
          }
        },
        "c8e9c0d7f84f4c2a9e556c4af2fe7baf": {
          "model_module": "@jupyter-widgets/controls",
          "model_name": "HBoxModel",
          "model_module_version": "1.5.0",
          "state": {
            "_dom_classes": [],
            "_model_module": "@jupyter-widgets/controls",
            "_model_module_version": "1.5.0",
            "_model_name": "HBoxModel",
            "_view_count": null,
            "_view_module": "@jupyter-widgets/controls",
            "_view_module_version": "1.5.0",
            "_view_name": "HBoxView",
            "box_style": "",
            "children": [
              "IPY_MODEL_a54b89444ae64e75a8bfceea7a7fe98b",
              "IPY_MODEL_68d76b51db0f48379c1488abf912d945",
              "IPY_MODEL_0361277418cf48c4b0afcda6488c7492"
            ],
            "layout": "IPY_MODEL_163250f50cf64fccb9c8c7e5b8253ef4"
          }
        },
        "a54b89444ae64e75a8bfceea7a7fe98b": {
          "model_module": "@jupyter-widgets/controls",
          "model_name": "HTMLModel",
          "model_module_version": "1.5.0",
          "state": {
            "_dom_classes": [],
            "_model_module": "@jupyter-widgets/controls",
            "_model_module_version": "1.5.0",
            "_model_name": "HTMLModel",
            "_view_count": null,
            "_view_module": "@jupyter-widgets/controls",
            "_view_module_version": "1.5.0",
            "_view_name": "HTMLView",
            "description": "",
            "description_tooltip": null,
            "layout": "IPY_MODEL_f92c26010b5c404aaf1401832108c720",
            "placeholder": "​",
            "style": "IPY_MODEL_25591d7aec44492aa5062902b94aeb40",
            "value": "Downloading: 100%"
          }
        },
        "68d76b51db0f48379c1488abf912d945": {
          "model_module": "@jupyter-widgets/controls",
          "model_name": "FloatProgressModel",
          "model_module_version": "1.5.0",
          "state": {
            "_dom_classes": [],
            "_model_module": "@jupyter-widgets/controls",
            "_model_module_version": "1.5.0",
            "_model_name": "FloatProgressModel",
            "_view_count": null,
            "_view_module": "@jupyter-widgets/controls",
            "_view_module_version": "1.5.0",
            "_view_name": "ProgressView",
            "bar_style": "success",
            "description": "",
            "description_tooltip": null,
            "layout": "IPY_MODEL_5b2f47e4469d4aafa44d63198bbf5e9f",
            "max": 213450,
            "min": 0,
            "orientation": "horizontal",
            "style": "IPY_MODEL_4ef2d5244a3e4428970f87eb862f6581",
            "value": 213450
          }
        },
        "0361277418cf48c4b0afcda6488c7492": {
          "model_module": "@jupyter-widgets/controls",
          "model_name": "HTMLModel",
          "model_module_version": "1.5.0",
          "state": {
            "_dom_classes": [],
            "_model_module": "@jupyter-widgets/controls",
            "_model_module_version": "1.5.0",
            "_model_name": "HTMLModel",
            "_view_count": null,
            "_view_module": "@jupyter-widgets/controls",
            "_view_module_version": "1.5.0",
            "_view_name": "HTMLView",
            "description": "",
            "description_tooltip": null,
            "layout": "IPY_MODEL_384b76a5353b4c049863935babed84a9",
            "placeholder": "​",
            "style": "IPY_MODEL_4af684f05e4443fcaff6c9de12cc06c9",
            "value": " 208k/208k [00:00&lt;00:00, 7.92kB/s]"
          }
        },
        "163250f50cf64fccb9c8c7e5b8253ef4": {
          "model_module": "@jupyter-widgets/base",
          "model_name": "LayoutModel",
          "model_module_version": "1.2.0",
          "state": {
            "_model_module": "@jupyter-widgets/base",
            "_model_module_version": "1.2.0",
            "_model_name": "LayoutModel",
            "_view_count": null,
            "_view_module": "@jupyter-widgets/base",
            "_view_module_version": "1.2.0",
            "_view_name": "LayoutView",
            "align_content": null,
            "align_items": null,
            "align_self": null,
            "border": null,
            "bottom": null,
            "display": null,
            "flex": null,
            "flex_flow": null,
            "grid_area": null,
            "grid_auto_columns": null,
            "grid_auto_flow": null,
            "grid_auto_rows": null,
            "grid_column": null,
            "grid_gap": null,
            "grid_row": null,
            "grid_template_areas": null,
            "grid_template_columns": null,
            "grid_template_rows": null,
            "height": null,
            "justify_content": null,
            "justify_items": null,
            "left": null,
            "margin": null,
            "max_height": null,
            "max_width": null,
            "min_height": null,
            "min_width": null,
            "object_fit": null,
            "object_position": null,
            "order": null,
            "overflow": null,
            "overflow_x": null,
            "overflow_y": null,
            "padding": null,
            "right": null,
            "top": null,
            "visibility": null,
            "width": null
          }
        },
        "f92c26010b5c404aaf1401832108c720": {
          "model_module": "@jupyter-widgets/base",
          "model_name": "LayoutModel",
          "model_module_version": "1.2.0",
          "state": {
            "_model_module": "@jupyter-widgets/base",
            "_model_module_version": "1.2.0",
            "_model_name": "LayoutModel",
            "_view_count": null,
            "_view_module": "@jupyter-widgets/base",
            "_view_module_version": "1.2.0",
            "_view_name": "LayoutView",
            "align_content": null,
            "align_items": null,
            "align_self": null,
            "border": null,
            "bottom": null,
            "display": null,
            "flex": null,
            "flex_flow": null,
            "grid_area": null,
            "grid_auto_columns": null,
            "grid_auto_flow": null,
            "grid_auto_rows": null,
            "grid_column": null,
            "grid_gap": null,
            "grid_row": null,
            "grid_template_areas": null,
            "grid_template_columns": null,
            "grid_template_rows": null,
            "height": null,
            "justify_content": null,
            "justify_items": null,
            "left": null,
            "margin": null,
            "max_height": null,
            "max_width": null,
            "min_height": null,
            "min_width": null,
            "object_fit": null,
            "object_position": null,
            "order": null,
            "overflow": null,
            "overflow_x": null,
            "overflow_y": null,
            "padding": null,
            "right": null,
            "top": null,
            "visibility": null,
            "width": null
          }
        },
        "25591d7aec44492aa5062902b94aeb40": {
          "model_module": "@jupyter-widgets/controls",
          "model_name": "DescriptionStyleModel",
          "model_module_version": "1.5.0",
          "state": {
            "_model_module": "@jupyter-widgets/controls",
            "_model_module_version": "1.5.0",
            "_model_name": "DescriptionStyleModel",
            "_view_count": null,
            "_view_module": "@jupyter-widgets/base",
            "_view_module_version": "1.2.0",
            "_view_name": "StyleView",
            "description_width": ""
          }
        },
        "5b2f47e4469d4aafa44d63198bbf5e9f": {
          "model_module": "@jupyter-widgets/base",
          "model_name": "LayoutModel",
          "model_module_version": "1.2.0",
          "state": {
            "_model_module": "@jupyter-widgets/base",
            "_model_module_version": "1.2.0",
            "_model_name": "LayoutModel",
            "_view_count": null,
            "_view_module": "@jupyter-widgets/base",
            "_view_module_version": "1.2.0",
            "_view_name": "LayoutView",
            "align_content": null,
            "align_items": null,
            "align_self": null,
            "border": null,
            "bottom": null,
            "display": null,
            "flex": null,
            "flex_flow": null,
            "grid_area": null,
            "grid_auto_columns": null,
            "grid_auto_flow": null,
            "grid_auto_rows": null,
            "grid_column": null,
            "grid_gap": null,
            "grid_row": null,
            "grid_template_areas": null,
            "grid_template_columns": null,
            "grid_template_rows": null,
            "height": null,
            "justify_content": null,
            "justify_items": null,
            "left": null,
            "margin": null,
            "max_height": null,
            "max_width": null,
            "min_height": null,
            "min_width": null,
            "object_fit": null,
            "object_position": null,
            "order": null,
            "overflow": null,
            "overflow_x": null,
            "overflow_y": null,
            "padding": null,
            "right": null,
            "top": null,
            "visibility": null,
            "width": null
          }
        },
        "4ef2d5244a3e4428970f87eb862f6581": {
          "model_module": "@jupyter-widgets/controls",
          "model_name": "ProgressStyleModel",
          "model_module_version": "1.5.0",
          "state": {
            "_model_module": "@jupyter-widgets/controls",
            "_model_module_version": "1.5.0",
            "_model_name": "ProgressStyleModel",
            "_view_count": null,
            "_view_module": "@jupyter-widgets/base",
            "_view_module_version": "1.2.0",
            "_view_name": "StyleView",
            "bar_color": null,
            "description_width": ""
          }
        },
        "384b76a5353b4c049863935babed84a9": {
          "model_module": "@jupyter-widgets/base",
          "model_name": "LayoutModel",
          "model_module_version": "1.2.0",
          "state": {
            "_model_module": "@jupyter-widgets/base",
            "_model_module_version": "1.2.0",
            "_model_name": "LayoutModel",
            "_view_count": null,
            "_view_module": "@jupyter-widgets/base",
            "_view_module_version": "1.2.0",
            "_view_name": "LayoutView",
            "align_content": null,
            "align_items": null,
            "align_self": null,
            "border": null,
            "bottom": null,
            "display": null,
            "flex": null,
            "flex_flow": null,
            "grid_area": null,
            "grid_auto_columns": null,
            "grid_auto_flow": null,
            "grid_auto_rows": null,
            "grid_column": null,
            "grid_gap": null,
            "grid_row": null,
            "grid_template_areas": null,
            "grid_template_columns": null,
            "grid_template_rows": null,
            "height": null,
            "justify_content": null,
            "justify_items": null,
            "left": null,
            "margin": null,
            "max_height": null,
            "max_width": null,
            "min_height": null,
            "min_width": null,
            "object_fit": null,
            "object_position": null,
            "order": null,
            "overflow": null,
            "overflow_x": null,
            "overflow_y": null,
            "padding": null,
            "right": null,
            "top": null,
            "visibility": null,
            "width": null
          }
        },
        "4af684f05e4443fcaff6c9de12cc06c9": {
          "model_module": "@jupyter-widgets/controls",
          "model_name": "DescriptionStyleModel",
          "model_module_version": "1.5.0",
          "state": {
            "_model_module": "@jupyter-widgets/controls",
            "_model_module_version": "1.5.0",
            "_model_name": "DescriptionStyleModel",
            "_view_count": null,
            "_view_module": "@jupyter-widgets/base",
            "_view_module_version": "1.2.0",
            "_view_name": "StyleView",
            "description_width": ""
          }
        },
        "c6eec94e06b74d989999da63f3c60246": {
          "model_module": "@jupyter-widgets/controls",
          "model_name": "HBoxModel",
          "model_module_version": "1.5.0",
          "state": {
            "_dom_classes": [],
            "_model_module": "@jupyter-widgets/controls",
            "_model_module_version": "1.5.0",
            "_model_name": "HBoxModel",
            "_view_count": null,
            "_view_module": "@jupyter-widgets/controls",
            "_view_module_version": "1.5.0",
            "_view_name": "HBoxView",
            "box_style": "",
            "children": [
              "IPY_MODEL_327f11d4dd8648728cb62e0d440040cb",
              "IPY_MODEL_f8a79bde041045f58be15ecf00a2726a",
              "IPY_MODEL_e39b25c99e054916aefa6097410a15d9"
            ],
            "layout": "IPY_MODEL_179f756a48e9441e8bce760ea08e0553"
          }
        },
        "327f11d4dd8648728cb62e0d440040cb": {
          "model_module": "@jupyter-widgets/controls",
          "model_name": "HTMLModel",
          "model_module_version": "1.5.0",
          "state": {
            "_dom_classes": [],
            "_model_module": "@jupyter-widgets/controls",
            "_model_module_version": "1.5.0",
            "_model_name": "HTMLModel",
            "_view_count": null,
            "_view_module": "@jupyter-widgets/controls",
            "_view_module_version": "1.5.0",
            "_view_name": "HTMLView",
            "description": "",
            "description_tooltip": null,
            "layout": "IPY_MODEL_bfd115bb589c44d093bc55fd7e8b6606",
            "placeholder": "​",
            "style": "IPY_MODEL_3a428cd711fb41c9b44d7ec9ea122f3f",
            "value": "Downloading: 100%"
          }
        },
        "f8a79bde041045f58be15ecf00a2726a": {
          "model_module": "@jupyter-widgets/controls",
          "model_name": "FloatProgressModel",
          "model_module_version": "1.5.0",
          "state": {
            "_dom_classes": [],
            "_model_module": "@jupyter-widgets/controls",
            "_model_module_version": "1.5.0",
            "_model_name": "FloatProgressModel",
            "_view_count": null,
            "_view_module": "@jupyter-widgets/controls",
            "_view_module_version": "1.5.0",
            "_view_name": "ProgressView",
            "bar_style": "success",
            "description": "",
            "description_tooltip": null,
            "layout": "IPY_MODEL_aab1fe7b44da41b3ac86689b4f922231",
            "max": 112,
            "min": 0,
            "orientation": "horizontal",
            "style": "IPY_MODEL_61d9e74416db47d9ae6ea0dbb54c552c",
            "value": 112
          }
        },
        "e39b25c99e054916aefa6097410a15d9": {
          "model_module": "@jupyter-widgets/controls",
          "model_name": "HTMLModel",
          "model_module_version": "1.5.0",
          "state": {
            "_dom_classes": [],
            "_model_module": "@jupyter-widgets/controls",
            "_model_module_version": "1.5.0",
            "_model_name": "HTMLModel",
            "_view_count": null,
            "_view_module": "@jupyter-widgets/controls",
            "_view_module_version": "1.5.0",
            "_view_name": "HTMLView",
            "description": "",
            "description_tooltip": null,
            "layout": "IPY_MODEL_ad219ac726574ffb96a600d30d3151ef",
            "placeholder": "​",
            "style": "IPY_MODEL_de813f5522144bf7aa53b6bed9e8637e",
            "value": " 112/112 [00:00&lt;00:00, 1.54kB/s]"
          }
        },
        "179f756a48e9441e8bce760ea08e0553": {
          "model_module": "@jupyter-widgets/base",
          "model_name": "LayoutModel",
          "model_module_version": "1.2.0",
          "state": {
            "_model_module": "@jupyter-widgets/base",
            "_model_module_version": "1.2.0",
            "_model_name": "LayoutModel",
            "_view_count": null,
            "_view_module": "@jupyter-widgets/base",
            "_view_module_version": "1.2.0",
            "_view_name": "LayoutView",
            "align_content": null,
            "align_items": null,
            "align_self": null,
            "border": null,
            "bottom": null,
            "display": null,
            "flex": null,
            "flex_flow": null,
            "grid_area": null,
            "grid_auto_columns": null,
            "grid_auto_flow": null,
            "grid_auto_rows": null,
            "grid_column": null,
            "grid_gap": null,
            "grid_row": null,
            "grid_template_areas": null,
            "grid_template_columns": null,
            "grid_template_rows": null,
            "height": null,
            "justify_content": null,
            "justify_items": null,
            "left": null,
            "margin": null,
            "max_height": null,
            "max_width": null,
            "min_height": null,
            "min_width": null,
            "object_fit": null,
            "object_position": null,
            "order": null,
            "overflow": null,
            "overflow_x": null,
            "overflow_y": null,
            "padding": null,
            "right": null,
            "top": null,
            "visibility": null,
            "width": null
          }
        },
        "bfd115bb589c44d093bc55fd7e8b6606": {
          "model_module": "@jupyter-widgets/base",
          "model_name": "LayoutModel",
          "model_module_version": "1.2.0",
          "state": {
            "_model_module": "@jupyter-widgets/base",
            "_model_module_version": "1.2.0",
            "_model_name": "LayoutModel",
            "_view_count": null,
            "_view_module": "@jupyter-widgets/base",
            "_view_module_version": "1.2.0",
            "_view_name": "LayoutView",
            "align_content": null,
            "align_items": null,
            "align_self": null,
            "border": null,
            "bottom": null,
            "display": null,
            "flex": null,
            "flex_flow": null,
            "grid_area": null,
            "grid_auto_columns": null,
            "grid_auto_flow": null,
            "grid_auto_rows": null,
            "grid_column": null,
            "grid_gap": null,
            "grid_row": null,
            "grid_template_areas": null,
            "grid_template_columns": null,
            "grid_template_rows": null,
            "height": null,
            "justify_content": null,
            "justify_items": null,
            "left": null,
            "margin": null,
            "max_height": null,
            "max_width": null,
            "min_height": null,
            "min_width": null,
            "object_fit": null,
            "object_position": null,
            "order": null,
            "overflow": null,
            "overflow_x": null,
            "overflow_y": null,
            "padding": null,
            "right": null,
            "top": null,
            "visibility": null,
            "width": null
          }
        },
        "3a428cd711fb41c9b44d7ec9ea122f3f": {
          "model_module": "@jupyter-widgets/controls",
          "model_name": "DescriptionStyleModel",
          "model_module_version": "1.5.0",
          "state": {
            "_model_module": "@jupyter-widgets/controls",
            "_model_module_version": "1.5.0",
            "_model_name": "DescriptionStyleModel",
            "_view_count": null,
            "_view_module": "@jupyter-widgets/base",
            "_view_module_version": "1.2.0",
            "_view_name": "StyleView",
            "description_width": ""
          }
        },
        "aab1fe7b44da41b3ac86689b4f922231": {
          "model_module": "@jupyter-widgets/base",
          "model_name": "LayoutModel",
          "model_module_version": "1.2.0",
          "state": {
            "_model_module": "@jupyter-widgets/base",
            "_model_module_version": "1.2.0",
            "_model_name": "LayoutModel",
            "_view_count": null,
            "_view_module": "@jupyter-widgets/base",
            "_view_module_version": "1.2.0",
            "_view_name": "LayoutView",
            "align_content": null,
            "align_items": null,
            "align_self": null,
            "border": null,
            "bottom": null,
            "display": null,
            "flex": null,
            "flex_flow": null,
            "grid_area": null,
            "grid_auto_columns": null,
            "grid_auto_flow": null,
            "grid_auto_rows": null,
            "grid_column": null,
            "grid_gap": null,
            "grid_row": null,
            "grid_template_areas": null,
            "grid_template_columns": null,
            "grid_template_rows": null,
            "height": null,
            "justify_content": null,
            "justify_items": null,
            "left": null,
            "margin": null,
            "max_height": null,
            "max_width": null,
            "min_height": null,
            "min_width": null,
            "object_fit": null,
            "object_position": null,
            "order": null,
            "overflow": null,
            "overflow_x": null,
            "overflow_y": null,
            "padding": null,
            "right": null,
            "top": null,
            "visibility": null,
            "width": null
          }
        },
        "61d9e74416db47d9ae6ea0dbb54c552c": {
          "model_module": "@jupyter-widgets/controls",
          "model_name": "ProgressStyleModel",
          "model_module_version": "1.5.0",
          "state": {
            "_model_module": "@jupyter-widgets/controls",
            "_model_module_version": "1.5.0",
            "_model_name": "ProgressStyleModel",
            "_view_count": null,
            "_view_module": "@jupyter-widgets/base",
            "_view_module_version": "1.2.0",
            "_view_name": "StyleView",
            "bar_color": null,
            "description_width": ""
          }
        },
        "ad219ac726574ffb96a600d30d3151ef": {
          "model_module": "@jupyter-widgets/base",
          "model_name": "LayoutModel",
          "model_module_version": "1.2.0",
          "state": {
            "_model_module": "@jupyter-widgets/base",
            "_model_module_version": "1.2.0",
            "_model_name": "LayoutModel",
            "_view_count": null,
            "_view_module": "@jupyter-widgets/base",
            "_view_module_version": "1.2.0",
            "_view_name": "LayoutView",
            "align_content": null,
            "align_items": null,
            "align_self": null,
            "border": null,
            "bottom": null,
            "display": null,
            "flex": null,
            "flex_flow": null,
            "grid_area": null,
            "grid_auto_columns": null,
            "grid_auto_flow": null,
            "grid_auto_rows": null,
            "grid_column": null,
            "grid_gap": null,
            "grid_row": null,
            "grid_template_areas": null,
            "grid_template_columns": null,
            "grid_template_rows": null,
            "height": null,
            "justify_content": null,
            "justify_items": null,
            "left": null,
            "margin": null,
            "max_height": null,
            "max_width": null,
            "min_height": null,
            "min_width": null,
            "object_fit": null,
            "object_position": null,
            "order": null,
            "overflow": null,
            "overflow_x": null,
            "overflow_y": null,
            "padding": null,
            "right": null,
            "top": null,
            "visibility": null,
            "width": null
          }
        },
        "de813f5522144bf7aa53b6bed9e8637e": {
          "model_module": "@jupyter-widgets/controls",
          "model_name": "DescriptionStyleModel",
          "model_module_version": "1.5.0",
          "state": {
            "_model_module": "@jupyter-widgets/controls",
            "_model_module_version": "1.5.0",
            "_model_name": "DescriptionStyleModel",
            "_view_count": null,
            "_view_module": "@jupyter-widgets/base",
            "_view_module_version": "1.2.0",
            "_view_name": "StyleView",
            "description_width": ""
          }
        },
        "26b0f79cac574400baccf8768c573a7c": {
          "model_module": "@jupyter-widgets/controls",
          "model_name": "HBoxModel",
          "model_module_version": "1.5.0",
          "state": {
            "_dom_classes": [],
            "_model_module": "@jupyter-widgets/controls",
            "_model_module_version": "1.5.0",
            "_model_name": "HBoxModel",
            "_view_count": null,
            "_view_module": "@jupyter-widgets/controls",
            "_view_module_version": "1.5.0",
            "_view_name": "HBoxView",
            "box_style": "",
            "children": [
              "IPY_MODEL_9b33276160414b57b4194a18a5f9374c",
              "IPY_MODEL_97d1427652a8426e91e994b880269b55",
              "IPY_MODEL_decaf3174d984edbb7a87e0e23ba112c"
            ],
            "layout": "IPY_MODEL_67ae6e48555643719db5f57d857e942d"
          }
        },
        "9b33276160414b57b4194a18a5f9374c": {
          "model_module": "@jupyter-widgets/controls",
          "model_name": "HTMLModel",
          "model_module_version": "1.5.0",
          "state": {
            "_dom_classes": [],
            "_model_module": "@jupyter-widgets/controls",
            "_model_module_version": "1.5.0",
            "_model_name": "HTMLModel",
            "_view_count": null,
            "_view_module": "@jupyter-widgets/controls",
            "_view_module_version": "1.5.0",
            "_view_name": "HTMLView",
            "description": "",
            "description_tooltip": null,
            "layout": "IPY_MODEL_60a2c69953a84a46a829bd9fceba4229",
            "placeholder": "​",
            "style": "IPY_MODEL_f1b7b6f34e184f57a33a6b7488a11712",
            "value": "Downloading: 100%"
          }
        },
        "97d1427652a8426e91e994b880269b55": {
          "model_module": "@jupyter-widgets/controls",
          "model_name": "FloatProgressModel",
          "model_module_version": "1.5.0",
          "state": {
            "_dom_classes": [],
            "_model_module": "@jupyter-widgets/controls",
            "_model_module_version": "1.5.0",
            "_model_name": "FloatProgressModel",
            "_view_count": null,
            "_view_module": "@jupyter-widgets/controls",
            "_view_module_version": "1.5.0",
            "_view_name": "ProgressView",
            "bar_style": "success",
            "description": "",
            "description_tooltip": null,
            "layout": "IPY_MODEL_6d3588a526cc402bb746d538aac4c8c4",
            "max": 152,
            "min": 0,
            "orientation": "horizontal",
            "style": "IPY_MODEL_77a6d0a987754fc388d4b67b71a9fb34",
            "value": 152
          }
        },
        "decaf3174d984edbb7a87e0e23ba112c": {
          "model_module": "@jupyter-widgets/controls",
          "model_name": "HTMLModel",
          "model_module_version": "1.5.0",
          "state": {
            "_dom_classes": [],
            "_model_module": "@jupyter-widgets/controls",
            "_model_module_version": "1.5.0",
            "_model_name": "HTMLModel",
            "_view_count": null,
            "_view_module": "@jupyter-widgets/controls",
            "_view_module_version": "1.5.0",
            "_view_name": "HTMLView",
            "description": "",
            "description_tooltip": null,
            "layout": "IPY_MODEL_04931f1a1bf4414daeeb252ed6d6a555",
            "placeholder": "​",
            "style": "IPY_MODEL_d40a27a4de1b4ca39b2d033fd9e7edbf",
            "value": " 152/152 [00:00&lt;00:00, 1.74kB/s]"
          }
        },
        "67ae6e48555643719db5f57d857e942d": {
          "model_module": "@jupyter-widgets/base",
          "model_name": "LayoutModel",
          "model_module_version": "1.2.0",
          "state": {
            "_model_module": "@jupyter-widgets/base",
            "_model_module_version": "1.2.0",
            "_model_name": "LayoutModel",
            "_view_count": null,
            "_view_module": "@jupyter-widgets/base",
            "_view_module_version": "1.2.0",
            "_view_name": "LayoutView",
            "align_content": null,
            "align_items": null,
            "align_self": null,
            "border": null,
            "bottom": null,
            "display": null,
            "flex": null,
            "flex_flow": null,
            "grid_area": null,
            "grid_auto_columns": null,
            "grid_auto_flow": null,
            "grid_auto_rows": null,
            "grid_column": null,
            "grid_gap": null,
            "grid_row": null,
            "grid_template_areas": null,
            "grid_template_columns": null,
            "grid_template_rows": null,
            "height": null,
            "justify_content": null,
            "justify_items": null,
            "left": null,
            "margin": null,
            "max_height": null,
            "max_width": null,
            "min_height": null,
            "min_width": null,
            "object_fit": null,
            "object_position": null,
            "order": null,
            "overflow": null,
            "overflow_x": null,
            "overflow_y": null,
            "padding": null,
            "right": null,
            "top": null,
            "visibility": null,
            "width": null
          }
        },
        "60a2c69953a84a46a829bd9fceba4229": {
          "model_module": "@jupyter-widgets/base",
          "model_name": "LayoutModel",
          "model_module_version": "1.2.0",
          "state": {
            "_model_module": "@jupyter-widgets/base",
            "_model_module_version": "1.2.0",
            "_model_name": "LayoutModel",
            "_view_count": null,
            "_view_module": "@jupyter-widgets/base",
            "_view_module_version": "1.2.0",
            "_view_name": "LayoutView",
            "align_content": null,
            "align_items": null,
            "align_self": null,
            "border": null,
            "bottom": null,
            "display": null,
            "flex": null,
            "flex_flow": null,
            "grid_area": null,
            "grid_auto_columns": null,
            "grid_auto_flow": null,
            "grid_auto_rows": null,
            "grid_column": null,
            "grid_gap": null,
            "grid_row": null,
            "grid_template_areas": null,
            "grid_template_columns": null,
            "grid_template_rows": null,
            "height": null,
            "justify_content": null,
            "justify_items": null,
            "left": null,
            "margin": null,
            "max_height": null,
            "max_width": null,
            "min_height": null,
            "min_width": null,
            "object_fit": null,
            "object_position": null,
            "order": null,
            "overflow": null,
            "overflow_x": null,
            "overflow_y": null,
            "padding": null,
            "right": null,
            "top": null,
            "visibility": null,
            "width": null
          }
        },
        "f1b7b6f34e184f57a33a6b7488a11712": {
          "model_module": "@jupyter-widgets/controls",
          "model_name": "DescriptionStyleModel",
          "model_module_version": "1.5.0",
          "state": {
            "_model_module": "@jupyter-widgets/controls",
            "_model_module_version": "1.5.0",
            "_model_name": "DescriptionStyleModel",
            "_view_count": null,
            "_view_module": "@jupyter-widgets/base",
            "_view_module_version": "1.2.0",
            "_view_name": "StyleView",
            "description_width": ""
          }
        },
        "6d3588a526cc402bb746d538aac4c8c4": {
          "model_module": "@jupyter-widgets/base",
          "model_name": "LayoutModel",
          "model_module_version": "1.2.0",
          "state": {
            "_model_module": "@jupyter-widgets/base",
            "_model_module_version": "1.2.0",
            "_model_name": "LayoutModel",
            "_view_count": null,
            "_view_module": "@jupyter-widgets/base",
            "_view_module_version": "1.2.0",
            "_view_name": "LayoutView",
            "align_content": null,
            "align_items": null,
            "align_self": null,
            "border": null,
            "bottom": null,
            "display": null,
            "flex": null,
            "flex_flow": null,
            "grid_area": null,
            "grid_auto_columns": null,
            "grid_auto_flow": null,
            "grid_auto_rows": null,
            "grid_column": null,
            "grid_gap": null,
            "grid_row": null,
            "grid_template_areas": null,
            "grid_template_columns": null,
            "grid_template_rows": null,
            "height": null,
            "justify_content": null,
            "justify_items": null,
            "left": null,
            "margin": null,
            "max_height": null,
            "max_width": null,
            "min_height": null,
            "min_width": null,
            "object_fit": null,
            "object_position": null,
            "order": null,
            "overflow": null,
            "overflow_x": null,
            "overflow_y": null,
            "padding": null,
            "right": null,
            "top": null,
            "visibility": null,
            "width": null
          }
        },
        "77a6d0a987754fc388d4b67b71a9fb34": {
          "model_module": "@jupyter-widgets/controls",
          "model_name": "ProgressStyleModel",
          "model_module_version": "1.5.0",
          "state": {
            "_model_module": "@jupyter-widgets/controls",
            "_model_module_version": "1.5.0",
            "_model_name": "ProgressStyleModel",
            "_view_count": null,
            "_view_module": "@jupyter-widgets/base",
            "_view_module_version": "1.2.0",
            "_view_name": "StyleView",
            "bar_color": null,
            "description_width": ""
          }
        },
        "04931f1a1bf4414daeeb252ed6d6a555": {
          "model_module": "@jupyter-widgets/base",
          "model_name": "LayoutModel",
          "model_module_version": "1.2.0",
          "state": {
            "_model_module": "@jupyter-widgets/base",
            "_model_module_version": "1.2.0",
            "_model_name": "LayoutModel",
            "_view_count": null,
            "_view_module": "@jupyter-widgets/base",
            "_view_module_version": "1.2.0",
            "_view_name": "LayoutView",
            "align_content": null,
            "align_items": null,
            "align_self": null,
            "border": null,
            "bottom": null,
            "display": null,
            "flex": null,
            "flex_flow": null,
            "grid_area": null,
            "grid_auto_columns": null,
            "grid_auto_flow": null,
            "grid_auto_rows": null,
            "grid_column": null,
            "grid_gap": null,
            "grid_row": null,
            "grid_template_areas": null,
            "grid_template_columns": null,
            "grid_template_rows": null,
            "height": null,
            "justify_content": null,
            "justify_items": null,
            "left": null,
            "margin": null,
            "max_height": null,
            "max_width": null,
            "min_height": null,
            "min_width": null,
            "object_fit": null,
            "object_position": null,
            "order": null,
            "overflow": null,
            "overflow_x": null,
            "overflow_y": null,
            "padding": null,
            "right": null,
            "top": null,
            "visibility": null,
            "width": null
          }
        },
        "d40a27a4de1b4ca39b2d033fd9e7edbf": {
          "model_module": "@jupyter-widgets/controls",
          "model_name": "DescriptionStyleModel",
          "model_module_version": "1.5.0",
          "state": {
            "_model_module": "@jupyter-widgets/controls",
            "_model_module_version": "1.5.0",
            "_model_name": "DescriptionStyleModel",
            "_view_count": null,
            "_view_module": "@jupyter-widgets/base",
            "_view_module_version": "1.2.0",
            "_view_name": "StyleView",
            "description_width": ""
          }
        },
        "95909835d38a4663aa199bc758229db6": {
          "model_module": "@jupyter-widgets/controls",
          "model_name": "HBoxModel",
          "model_module_version": "1.5.0",
          "state": {
            "_dom_classes": [],
            "_model_module": "@jupyter-widgets/controls",
            "_model_module_version": "1.5.0",
            "_model_name": "HBoxModel",
            "_view_count": null,
            "_view_module": "@jupyter-widgets/controls",
            "_view_module_version": "1.5.0",
            "_view_name": "HBoxView",
            "box_style": "",
            "children": [
              "IPY_MODEL_f9b26a2847284f53adc2e7be36f2db62",
              "IPY_MODEL_0a7ae55ad5964356bfec5ddedfc79cdf",
              "IPY_MODEL_e96a10f2070949339b24f4f33b333691"
            ],
            "layout": "IPY_MODEL_07e24c252fc24ff79ae3fc90266c1a57"
          }
        },
        "f9b26a2847284f53adc2e7be36f2db62": {
          "model_module": "@jupyter-widgets/controls",
          "model_name": "HTMLModel",
          "model_module_version": "1.5.0",
          "state": {
            "_dom_classes": [],
            "_model_module": "@jupyter-widgets/controls",
            "_model_module_version": "1.5.0",
            "_model_name": "HTMLModel",
            "_view_count": null,
            "_view_module": "@jupyter-widgets/controls",
            "_view_module_version": "1.5.0",
            "_view_name": "HTMLView",
            "description": "",
            "description_tooltip": null,
            "layout": "IPY_MODEL_af05b5d3905a44d9a887da3f04fe4f0c",
            "placeholder": "​",
            "style": "IPY_MODEL_e9fff6c6992742e89c1d6dff94cee51d",
            "value": "Downloading: 100%"
          }
        },
        "0a7ae55ad5964356bfec5ddedfc79cdf": {
          "model_module": "@jupyter-widgets/controls",
          "model_name": "FloatProgressModel",
          "model_module_version": "1.5.0",
          "state": {
            "_dom_classes": [],
            "_model_module": "@jupyter-widgets/controls",
            "_model_module_version": "1.5.0",
            "_model_name": "FloatProgressModel",
            "_view_count": null,
            "_view_module": "@jupyter-widgets/controls",
            "_view_module_version": "1.5.0",
            "_view_name": "ProgressView",
            "bar_style": "success",
            "description": "",
            "description_tooltip": null,
            "layout": "IPY_MODEL_f54637b72a394402a2b765ef7fbcc4f4",
            "max": 508,
            "min": 0,
            "orientation": "horizontal",
            "style": "IPY_MODEL_7578d2b397eb4337a8ca18ee77e86d04",
            "value": 508
          }
        },
        "e96a10f2070949339b24f4f33b333691": {
          "model_module": "@jupyter-widgets/controls",
          "model_name": "HTMLModel",
          "model_module_version": "1.5.0",
          "state": {
            "_dom_classes": [],
            "_model_module": "@jupyter-widgets/controls",
            "_model_module_version": "1.5.0",
            "_model_name": "HTMLModel",
            "_view_count": null,
            "_view_module": "@jupyter-widgets/controls",
            "_view_module_version": "1.5.0",
            "_view_name": "HTMLView",
            "description": "",
            "description_tooltip": null,
            "layout": "IPY_MODEL_c1c5223f74fc47c09266188b927d0f31",
            "placeholder": "​",
            "style": "IPY_MODEL_b201193b8ce1489fbbb416197fb8b473",
            "value": " 508/508 [00:00&lt;00:00, 3.61kB/s]"
          }
        },
        "07e24c252fc24ff79ae3fc90266c1a57": {
          "model_module": "@jupyter-widgets/base",
          "model_name": "LayoutModel",
          "model_module_version": "1.2.0",
          "state": {
            "_model_module": "@jupyter-widgets/base",
            "_model_module_version": "1.2.0",
            "_model_name": "LayoutModel",
            "_view_count": null,
            "_view_module": "@jupyter-widgets/base",
            "_view_module_version": "1.2.0",
            "_view_name": "LayoutView",
            "align_content": null,
            "align_items": null,
            "align_self": null,
            "border": null,
            "bottom": null,
            "display": null,
            "flex": null,
            "flex_flow": null,
            "grid_area": null,
            "grid_auto_columns": null,
            "grid_auto_flow": null,
            "grid_auto_rows": null,
            "grid_column": null,
            "grid_gap": null,
            "grid_row": null,
            "grid_template_areas": null,
            "grid_template_columns": null,
            "grid_template_rows": null,
            "height": null,
            "justify_content": null,
            "justify_items": null,
            "left": null,
            "margin": null,
            "max_height": null,
            "max_width": null,
            "min_height": null,
            "min_width": null,
            "object_fit": null,
            "object_position": null,
            "order": null,
            "overflow": null,
            "overflow_x": null,
            "overflow_y": null,
            "padding": null,
            "right": null,
            "top": null,
            "visibility": null,
            "width": null
          }
        },
        "af05b5d3905a44d9a887da3f04fe4f0c": {
          "model_module": "@jupyter-widgets/base",
          "model_name": "LayoutModel",
          "model_module_version": "1.2.0",
          "state": {
            "_model_module": "@jupyter-widgets/base",
            "_model_module_version": "1.2.0",
            "_model_name": "LayoutModel",
            "_view_count": null,
            "_view_module": "@jupyter-widgets/base",
            "_view_module_version": "1.2.0",
            "_view_name": "LayoutView",
            "align_content": null,
            "align_items": null,
            "align_self": null,
            "border": null,
            "bottom": null,
            "display": null,
            "flex": null,
            "flex_flow": null,
            "grid_area": null,
            "grid_auto_columns": null,
            "grid_auto_flow": null,
            "grid_auto_rows": null,
            "grid_column": null,
            "grid_gap": null,
            "grid_row": null,
            "grid_template_areas": null,
            "grid_template_columns": null,
            "grid_template_rows": null,
            "height": null,
            "justify_content": null,
            "justify_items": null,
            "left": null,
            "margin": null,
            "max_height": null,
            "max_width": null,
            "min_height": null,
            "min_width": null,
            "object_fit": null,
            "object_position": null,
            "order": null,
            "overflow": null,
            "overflow_x": null,
            "overflow_y": null,
            "padding": null,
            "right": null,
            "top": null,
            "visibility": null,
            "width": null
          }
        },
        "e9fff6c6992742e89c1d6dff94cee51d": {
          "model_module": "@jupyter-widgets/controls",
          "model_name": "DescriptionStyleModel",
          "model_module_version": "1.5.0",
          "state": {
            "_model_module": "@jupyter-widgets/controls",
            "_model_module_version": "1.5.0",
            "_model_name": "DescriptionStyleModel",
            "_view_count": null,
            "_view_module": "@jupyter-widgets/base",
            "_view_module_version": "1.2.0",
            "_view_name": "StyleView",
            "description_width": ""
          }
        },
        "f54637b72a394402a2b765ef7fbcc4f4": {
          "model_module": "@jupyter-widgets/base",
          "model_name": "LayoutModel",
          "model_module_version": "1.2.0",
          "state": {
            "_model_module": "@jupyter-widgets/base",
            "_model_module_version": "1.2.0",
            "_model_name": "LayoutModel",
            "_view_count": null,
            "_view_module": "@jupyter-widgets/base",
            "_view_module_version": "1.2.0",
            "_view_name": "LayoutView",
            "align_content": null,
            "align_items": null,
            "align_self": null,
            "border": null,
            "bottom": null,
            "display": null,
            "flex": null,
            "flex_flow": null,
            "grid_area": null,
            "grid_auto_columns": null,
            "grid_auto_flow": null,
            "grid_auto_rows": null,
            "grid_column": null,
            "grid_gap": null,
            "grid_row": null,
            "grid_template_areas": null,
            "grid_template_columns": null,
            "grid_template_rows": null,
            "height": null,
            "justify_content": null,
            "justify_items": null,
            "left": null,
            "margin": null,
            "max_height": null,
            "max_width": null,
            "min_height": null,
            "min_width": null,
            "object_fit": null,
            "object_position": null,
            "order": null,
            "overflow": null,
            "overflow_x": null,
            "overflow_y": null,
            "padding": null,
            "right": null,
            "top": null,
            "visibility": null,
            "width": null
          }
        },
        "7578d2b397eb4337a8ca18ee77e86d04": {
          "model_module": "@jupyter-widgets/controls",
          "model_name": "ProgressStyleModel",
          "model_module_version": "1.5.0",
          "state": {
            "_model_module": "@jupyter-widgets/controls",
            "_model_module_version": "1.5.0",
            "_model_name": "ProgressStyleModel",
            "_view_count": null,
            "_view_module": "@jupyter-widgets/base",
            "_view_module_version": "1.2.0",
            "_view_name": "StyleView",
            "bar_color": null,
            "description_width": ""
          }
        },
        "c1c5223f74fc47c09266188b927d0f31": {
          "model_module": "@jupyter-widgets/base",
          "model_name": "LayoutModel",
          "model_module_version": "1.2.0",
          "state": {
            "_model_module": "@jupyter-widgets/base",
            "_model_module_version": "1.2.0",
            "_model_name": "LayoutModel",
            "_view_count": null,
            "_view_module": "@jupyter-widgets/base",
            "_view_module_version": "1.2.0",
            "_view_name": "LayoutView",
            "align_content": null,
            "align_items": null,
            "align_self": null,
            "border": null,
            "bottom": null,
            "display": null,
            "flex": null,
            "flex_flow": null,
            "grid_area": null,
            "grid_auto_columns": null,
            "grid_auto_flow": null,
            "grid_auto_rows": null,
            "grid_column": null,
            "grid_gap": null,
            "grid_row": null,
            "grid_template_areas": null,
            "grid_template_columns": null,
            "grid_template_rows": null,
            "height": null,
            "justify_content": null,
            "justify_items": null,
            "left": null,
            "margin": null,
            "max_height": null,
            "max_width": null,
            "min_height": null,
            "min_width": null,
            "object_fit": null,
            "object_position": null,
            "order": null,
            "overflow": null,
            "overflow_x": null,
            "overflow_y": null,
            "padding": null,
            "right": null,
            "top": null,
            "visibility": null,
            "width": null
          }
        },
        "b201193b8ce1489fbbb416197fb8b473": {
          "model_module": "@jupyter-widgets/controls",
          "model_name": "DescriptionStyleModel",
          "model_module_version": "1.5.0",
          "state": {
            "_model_module": "@jupyter-widgets/controls",
            "_model_module_version": "1.5.0",
            "_model_name": "DescriptionStyleModel",
            "_view_count": null,
            "_view_module": "@jupyter-widgets/base",
            "_view_module_version": "1.2.0",
            "_view_name": "StyleView",
            "description_width": ""
          }
        },
        "fe886acfc0884e7fbcc983a2c387f163": {
          "model_module": "@jupyter-widgets/controls",
          "model_name": "HBoxModel",
          "model_module_version": "1.5.0",
          "state": {
            "_dom_classes": [],
            "_model_module": "@jupyter-widgets/controls",
            "_model_module_version": "1.5.0",
            "_model_name": "HBoxModel",
            "_view_count": null,
            "_view_module": "@jupyter-widgets/controls",
            "_view_module_version": "1.5.0",
            "_view_name": "HBoxView",
            "box_style": "",
            "children": [
              "IPY_MODEL_65385f6134c945be894ccfb472a3cce8",
              "IPY_MODEL_9f5b1132e524406ea1f13528e492cf97",
              "IPY_MODEL_f63a0ca672ae4ae5aaaf35d69156df7b"
            ],
            "layout": "IPY_MODEL_b1325552518c4568b3d0a8493c9ab4d6"
          }
        },
        "65385f6134c945be894ccfb472a3cce8": {
          "model_module": "@jupyter-widgets/controls",
          "model_name": "HTMLModel",
          "model_module_version": "1.5.0",
          "state": {
            "_dom_classes": [],
            "_model_module": "@jupyter-widgets/controls",
            "_model_module_version": "1.5.0",
            "_model_name": "HTMLModel",
            "_view_count": null,
            "_view_module": "@jupyter-widgets/controls",
            "_view_module_version": "1.5.0",
            "_view_name": "HTMLView",
            "description": "",
            "description_tooltip": null,
            "layout": "IPY_MODEL_c57db8ca51824175a31803d8489049c5",
            "placeholder": "​",
            "style": "IPY_MODEL_e571e575644344b9aa834aaa5a1223af",
            "value": "Downloading: 100%"
          }
        },
        "9f5b1132e524406ea1f13528e492cf97": {
          "model_module": "@jupyter-widgets/controls",
          "model_name": "FloatProgressModel",
          "model_module_version": "1.5.0",
          "state": {
            "_dom_classes": [],
            "_model_module": "@jupyter-widgets/controls",
            "_model_module_version": "1.5.0",
            "_model_name": "FloatProgressModel",
            "_view_count": null,
            "_view_module": "@jupyter-widgets/controls",
            "_view_module_version": "1.5.0",
            "_view_name": "ProgressView",
            "bar_style": "success",
            "description": "",
            "description_tooltip": null,
            "layout": "IPY_MODEL_fd0fcb31696b42f0a0ac22d620c4bb07",
            "max": 433294681,
            "min": 0,
            "orientation": "horizontal",
            "style": "IPY_MODEL_0fac1cdc25064ad4a5595958afcf333f",
            "value": 433294681
          }
        },
        "f63a0ca672ae4ae5aaaf35d69156df7b": {
          "model_module": "@jupyter-widgets/controls",
          "model_name": "HTMLModel",
          "model_module_version": "1.5.0",
          "state": {
            "_dom_classes": [],
            "_model_module": "@jupyter-widgets/controls",
            "_model_module_version": "1.5.0",
            "_model_name": "HTMLModel",
            "_view_count": null,
            "_view_module": "@jupyter-widgets/controls",
            "_view_module_version": "1.5.0",
            "_view_name": "HTMLView",
            "description": "",
            "description_tooltip": null,
            "layout": "IPY_MODEL_af65b0bca4614ca6af13f31ca7380236",
            "placeholder": "​",
            "style": "IPY_MODEL_813408c818f7418e995c2113ab9982b7",
            "value": " 413M/413M [00:12&lt;00:00, 41.8MB/s]"
          }
        },
        "b1325552518c4568b3d0a8493c9ab4d6": {
          "model_module": "@jupyter-widgets/base",
          "model_name": "LayoutModel",
          "model_module_version": "1.2.0",
          "state": {
            "_model_module": "@jupyter-widgets/base",
            "_model_module_version": "1.2.0",
            "_model_name": "LayoutModel",
            "_view_count": null,
            "_view_module": "@jupyter-widgets/base",
            "_view_module_version": "1.2.0",
            "_view_name": "LayoutView",
            "align_content": null,
            "align_items": null,
            "align_self": null,
            "border": null,
            "bottom": null,
            "display": null,
            "flex": null,
            "flex_flow": null,
            "grid_area": null,
            "grid_auto_columns": null,
            "grid_auto_flow": null,
            "grid_auto_rows": null,
            "grid_column": null,
            "grid_gap": null,
            "grid_row": null,
            "grid_template_areas": null,
            "grid_template_columns": null,
            "grid_template_rows": null,
            "height": null,
            "justify_content": null,
            "justify_items": null,
            "left": null,
            "margin": null,
            "max_height": null,
            "max_width": null,
            "min_height": null,
            "min_width": null,
            "object_fit": null,
            "object_position": null,
            "order": null,
            "overflow": null,
            "overflow_x": null,
            "overflow_y": null,
            "padding": null,
            "right": null,
            "top": null,
            "visibility": null,
            "width": null
          }
        },
        "c57db8ca51824175a31803d8489049c5": {
          "model_module": "@jupyter-widgets/base",
          "model_name": "LayoutModel",
          "model_module_version": "1.2.0",
          "state": {
            "_model_module": "@jupyter-widgets/base",
            "_model_module_version": "1.2.0",
            "_model_name": "LayoutModel",
            "_view_count": null,
            "_view_module": "@jupyter-widgets/base",
            "_view_module_version": "1.2.0",
            "_view_name": "LayoutView",
            "align_content": null,
            "align_items": null,
            "align_self": null,
            "border": null,
            "bottom": null,
            "display": null,
            "flex": null,
            "flex_flow": null,
            "grid_area": null,
            "grid_auto_columns": null,
            "grid_auto_flow": null,
            "grid_auto_rows": null,
            "grid_column": null,
            "grid_gap": null,
            "grid_row": null,
            "grid_template_areas": null,
            "grid_template_columns": null,
            "grid_template_rows": null,
            "height": null,
            "justify_content": null,
            "justify_items": null,
            "left": null,
            "margin": null,
            "max_height": null,
            "max_width": null,
            "min_height": null,
            "min_width": null,
            "object_fit": null,
            "object_position": null,
            "order": null,
            "overflow": null,
            "overflow_x": null,
            "overflow_y": null,
            "padding": null,
            "right": null,
            "top": null,
            "visibility": null,
            "width": null
          }
        },
        "e571e575644344b9aa834aaa5a1223af": {
          "model_module": "@jupyter-widgets/controls",
          "model_name": "DescriptionStyleModel",
          "model_module_version": "1.5.0",
          "state": {
            "_model_module": "@jupyter-widgets/controls",
            "_model_module_version": "1.5.0",
            "_model_name": "DescriptionStyleModel",
            "_view_count": null,
            "_view_module": "@jupyter-widgets/base",
            "_view_module_version": "1.2.0",
            "_view_name": "StyleView",
            "description_width": ""
          }
        },
        "fd0fcb31696b42f0a0ac22d620c4bb07": {
          "model_module": "@jupyter-widgets/base",
          "model_name": "LayoutModel",
          "model_module_version": "1.2.0",
          "state": {
            "_model_module": "@jupyter-widgets/base",
            "_model_module_version": "1.2.0",
            "_model_name": "LayoutModel",
            "_view_count": null,
            "_view_module": "@jupyter-widgets/base",
            "_view_module_version": "1.2.0",
            "_view_name": "LayoutView",
            "align_content": null,
            "align_items": null,
            "align_self": null,
            "border": null,
            "bottom": null,
            "display": null,
            "flex": null,
            "flex_flow": null,
            "grid_area": null,
            "grid_auto_columns": null,
            "grid_auto_flow": null,
            "grid_auto_rows": null,
            "grid_column": null,
            "grid_gap": null,
            "grid_row": null,
            "grid_template_areas": null,
            "grid_template_columns": null,
            "grid_template_rows": null,
            "height": null,
            "justify_content": null,
            "justify_items": null,
            "left": null,
            "margin": null,
            "max_height": null,
            "max_width": null,
            "min_height": null,
            "min_width": null,
            "object_fit": null,
            "object_position": null,
            "order": null,
            "overflow": null,
            "overflow_x": null,
            "overflow_y": null,
            "padding": null,
            "right": null,
            "top": null,
            "visibility": null,
            "width": null
          }
        },
        "0fac1cdc25064ad4a5595958afcf333f": {
          "model_module": "@jupyter-widgets/controls",
          "model_name": "ProgressStyleModel",
          "model_module_version": "1.5.0",
          "state": {
            "_model_module": "@jupyter-widgets/controls",
            "_model_module_version": "1.5.0",
            "_model_name": "ProgressStyleModel",
            "_view_count": null,
            "_view_module": "@jupyter-widgets/base",
            "_view_module_version": "1.2.0",
            "_view_name": "StyleView",
            "bar_color": null,
            "description_width": ""
          }
        },
        "af65b0bca4614ca6af13f31ca7380236": {
          "model_module": "@jupyter-widgets/base",
          "model_name": "LayoutModel",
          "model_module_version": "1.2.0",
          "state": {
            "_model_module": "@jupyter-widgets/base",
            "_model_module_version": "1.2.0",
            "_model_name": "LayoutModel",
            "_view_count": null,
            "_view_module": "@jupyter-widgets/base",
            "_view_module_version": "1.2.0",
            "_view_name": "LayoutView",
            "align_content": null,
            "align_items": null,
            "align_self": null,
            "border": null,
            "bottom": null,
            "display": null,
            "flex": null,
            "flex_flow": null,
            "grid_area": null,
            "grid_auto_columns": null,
            "grid_auto_flow": null,
            "grid_auto_rows": null,
            "grid_column": null,
            "grid_gap": null,
            "grid_row": null,
            "grid_template_areas": null,
            "grid_template_columns": null,
            "grid_template_rows": null,
            "height": null,
            "justify_content": null,
            "justify_items": null,
            "left": null,
            "margin": null,
            "max_height": null,
            "max_width": null,
            "min_height": null,
            "min_width": null,
            "object_fit": null,
            "object_position": null,
            "order": null,
            "overflow": null,
            "overflow_x": null,
            "overflow_y": null,
            "padding": null,
            "right": null,
            "top": null,
            "visibility": null,
            "width": null
          }
        },
        "813408c818f7418e995c2113ab9982b7": {
          "model_module": "@jupyter-widgets/controls",
          "model_name": "DescriptionStyleModel",
          "model_module_version": "1.5.0",
          "state": {
            "_model_module": "@jupyter-widgets/controls",
            "_model_module_version": "1.5.0",
            "_model_name": "DescriptionStyleModel",
            "_view_count": null,
            "_view_module": "@jupyter-widgets/base",
            "_view_module_version": "1.2.0",
            "_view_name": "StyleView",
            "description_width": ""
          }
        }
      }
    }
  },
  "cells": [
    {
      "cell_type": "markdown",
      "metadata": {
        "id": "view-in-github",
        "colab_type": "text"
      },
      "source": [
        "<a href=\"https://colab.research.google.com/github/Teasotea/DialogSystem/blob/main/ConversationalAI.ipynb\" target=\"_parent\"><img src=\"https://colab.research.google.com/assets/colab-badge.svg\" alt=\"Open In Colab\"/></a>"
      ]
    },
    {
      "cell_type": "code",
      "source": [
        "!pip install transformers"
      ],
      "metadata": {
        "colab": {
          "base_uri": "https://localhost:8080/"
        },
        "id": "7xkvwa-_QmLt",
        "outputId": "ae0d2fa0-d628-4515-d575-6e2b44b8c2ad"
      },
      "execution_count": 159,
      "outputs": [
        {
          "output_type": "stream",
          "name": "stdout",
          "text": [
            "Requirement already satisfied: transformers in /usr/local/lib/python3.7/dist-packages (4.18.0)\n",
            "Requirement already satisfied: filelock in /usr/local/lib/python3.7/dist-packages (from transformers) (3.6.0)\n",
            "Requirement already satisfied: sacremoses in /usr/local/lib/python3.7/dist-packages (from transformers) (0.0.49)\n",
            "Requirement already satisfied: packaging>=20.0 in /usr/local/lib/python3.7/dist-packages (from transformers) (21.3)\n",
            "Requirement already satisfied: requests in /usr/local/lib/python3.7/dist-packages (from transformers) (2.23.0)\n",
            "Requirement already satisfied: importlib-metadata in /usr/local/lib/python3.7/dist-packages (from transformers) (4.11.3)\n",
            "Requirement already satisfied: pyyaml>=5.1 in /usr/local/lib/python3.7/dist-packages (from transformers) (6.0)\n",
            "Requirement already satisfied: tqdm>=4.27 in /usr/local/lib/python3.7/dist-packages (from transformers) (4.64.0)\n",
            "Requirement already satisfied: regex!=2019.12.17 in /usr/local/lib/python3.7/dist-packages (from transformers) (2019.12.20)\n",
            "Requirement already satisfied: numpy>=1.17 in /usr/local/lib/python3.7/dist-packages (from transformers) (1.21.6)\n",
            "Requirement already satisfied: huggingface-hub<1.0,>=0.1.0 in /usr/local/lib/python3.7/dist-packages (from transformers) (0.5.1)\n",
            "Requirement already satisfied: tokenizers!=0.11.3,<0.13,>=0.11.1 in /usr/local/lib/python3.7/dist-packages (from transformers) (0.12.1)\n",
            "Requirement already satisfied: typing-extensions>=3.7.4.3 in /usr/local/lib/python3.7/dist-packages (from huggingface-hub<1.0,>=0.1.0->transformers) (4.2.0)\n",
            "Requirement already satisfied: pyparsing!=3.0.5,>=2.0.2 in /usr/local/lib/python3.7/dist-packages (from packaging>=20.0->transformers) (3.0.8)\n",
            "Requirement already satisfied: zipp>=0.5 in /usr/local/lib/python3.7/dist-packages (from importlib-metadata->transformers) (3.8.0)\n",
            "Requirement already satisfied: urllib3!=1.25.0,!=1.25.1,<1.26,>=1.21.1 in /usr/local/lib/python3.7/dist-packages (from requests->transformers) (1.25.11)\n",
            "Requirement already satisfied: chardet<4,>=3.0.2 in /usr/local/lib/python3.7/dist-packages (from requests->transformers) (3.0.4)\n",
            "Requirement already satisfied: idna<3,>=2.5 in /usr/local/lib/python3.7/dist-packages (from requests->transformers) (2.10)\n",
            "Requirement already satisfied: certifi>=2017.4.17 in /usr/local/lib/python3.7/dist-packages (from requests->transformers) (2021.10.8)\n",
            "Requirement already satisfied: six in /usr/local/lib/python3.7/dist-packages (from sacremoses->transformers) (1.15.0)\n",
            "Requirement already satisfied: click in /usr/local/lib/python3.7/dist-packages (from sacremoses->transformers) (7.1.2)\n",
            "Requirement already satisfied: joblib in /usr/local/lib/python3.7/dist-packages (from sacremoses->transformers) (1.1.0)\n"
          ]
        }
      ]
    },
    {
      "cell_type": "code",
      "source": [
        "!pip install nltk"
      ],
      "metadata": {
        "colab": {
          "base_uri": "https://localhost:8080/"
        },
        "id": "x8AfIs3-V_BY",
        "outputId": "d2cb44df-010a-4be7-d232-be5fde53e293"
      },
      "execution_count": 160,
      "outputs": [
        {
          "output_type": "stream",
          "name": "stdout",
          "text": [
            "Requirement already satisfied: nltk in /usr/local/lib/python3.7/dist-packages (3.2.5)\n",
            "Requirement already satisfied: six in /usr/local/lib/python3.7/dist-packages (from nltk) (1.15.0)\n"
          ]
        }
      ]
    },
    {
      "cell_type": "code",
      "execution_count": 161,
      "metadata": {
        "id": "QEwDK7HzQGzZ"
      },
      "outputs": [],
      "source": [
        "import numpy as np\n",
        "import pandas as pd\n",
        "import time\n",
        "import os\n",
        "from transformers import AutoModelForCausalLM, AutoTokenizer\n",
        "import torch\n",
        "import nltk\n",
        "from sklearn.svm import OneClassSVM\n",
        "import re"
      ]
    },
    {
      "cell_type": "markdown",
      "source": [
        "# Part I: Classification"
      ],
      "metadata": {
        "id": "dpkTWUHtQM8x"
      }
    },
    {
      "cell_type": "markdown",
      "source": [
        "## Greeting Classification"
      ],
      "metadata": {
        "id": "PncwCmo8bMzP"
      }
    },
    {
      "cell_type": "code",
      "source": [
        "training_data_greet, training_data_bye = [], []\n",
        "greetings =list(dict.fromkeys(['hi', \"hola\", 'hey', 'hello','morning', 'evening', 'good day', 'good morning', 'greetings', 'howdy', 'welcome', 'bonjour',\n",
        "             'buenas noches', 'buenos dias', 'salutation', 'salut', 'hail', 'salaam', 'aloha', 'good wishes',\n",
        "             'aloha', 'yoo-hoo', 'yawp', 'It’s always a pleasure to see you.', 'oh', 'ave', 'yo', 'hi there', \n",
        "             \"hi\", \"hello\", \"hey\", \"helloo\", \"hellooo\", \"g morining\", \"gmorning\", \"good morning\", \"morning\", \"good day\", \"good afternoon\", \"good evening\", \"greetings\", \"greeting\", \n",
        "             \"good to see you\", \"its good seeing you\", \"g’day\", \"howdy\"]))\n",
        "goodbyes = list(dict.fromkeys(['bye', 'exit', 'quit', 'I’m off', \n",
        "                               'goodbye', 'Goodnight', 'good night !', 'bye-bye',\n",
        "                               'See ya!', 'Ciao', 'Adios']))\n",
        "\n",
        "for i in greetings:\n",
        "  training_data_greet.append({\"class\":\"greeting\", \"sentence\":i})\n",
        "for i in goodbyes:\n",
        "  training_data_bye.append({'class':'goodbyes', 'sentence': i})\n",
        "  \n",
        "greet_df = pd.DataFrame(training_data_greet)\n",
        "bye_df = pd.DataFrame(training_data_bye)\n",
        "\n",
        "bye_df"
      ],
      "metadata": {
        "colab": {
          "base_uri": "https://localhost:8080/",
          "height": 476
        },
        "id": "09ZwJ8-8QDKG",
        "outputId": "205db85f-e935-4e65-abf4-91d2e776db8f"
      },
      "execution_count": 162,
      "outputs": [
        {
          "output_type": "execute_result",
          "data": {
            "text/plain": [
              "       class      sentence\n",
              "0   goodbyes           bye\n",
              "1   goodbyes          exit\n",
              "2   goodbyes          quit\n",
              "3   goodbyes       I’m off\n",
              "4   goodbyes       goodbye\n",
              "5   goodbyes     Goodnight\n",
              "6   goodbyes  good night !\n",
              "7   goodbyes       bye-bye\n",
              "8   goodbyes       See ya!\n",
              "9   goodbyes          Ciao\n",
              "10  goodbyes         Adios"
            ],
            "text/html": [
              "\n",
              "  <div id=\"df-2369298b-deb4-42cb-a91f-89e29fd0a4f6\">\n",
              "    <div class=\"colab-df-container\">\n",
              "      <div>\n",
              "<style scoped>\n",
              "    .dataframe tbody tr th:only-of-type {\n",
              "        vertical-align: middle;\n",
              "    }\n",
              "\n",
              "    .dataframe tbody tr th {\n",
              "        vertical-align: top;\n",
              "    }\n",
              "\n",
              "    .dataframe thead th {\n",
              "        text-align: right;\n",
              "    }\n",
              "</style>\n",
              "<table border=\"1\" class=\"dataframe\">\n",
              "  <thead>\n",
              "    <tr style=\"text-align: right;\">\n",
              "      <th></th>\n",
              "      <th>class</th>\n",
              "      <th>sentence</th>\n",
              "    </tr>\n",
              "  </thead>\n",
              "  <tbody>\n",
              "    <tr>\n",
              "      <th>0</th>\n",
              "      <td>goodbyes</td>\n",
              "      <td>bye</td>\n",
              "    </tr>\n",
              "    <tr>\n",
              "      <th>1</th>\n",
              "      <td>goodbyes</td>\n",
              "      <td>exit</td>\n",
              "    </tr>\n",
              "    <tr>\n",
              "      <th>2</th>\n",
              "      <td>goodbyes</td>\n",
              "      <td>quit</td>\n",
              "    </tr>\n",
              "    <tr>\n",
              "      <th>3</th>\n",
              "      <td>goodbyes</td>\n",
              "      <td>I’m off</td>\n",
              "    </tr>\n",
              "    <tr>\n",
              "      <th>4</th>\n",
              "      <td>goodbyes</td>\n",
              "      <td>goodbye</td>\n",
              "    </tr>\n",
              "    <tr>\n",
              "      <th>5</th>\n",
              "      <td>goodbyes</td>\n",
              "      <td>Goodnight</td>\n",
              "    </tr>\n",
              "    <tr>\n",
              "      <th>6</th>\n",
              "      <td>goodbyes</td>\n",
              "      <td>good night !</td>\n",
              "    </tr>\n",
              "    <tr>\n",
              "      <th>7</th>\n",
              "      <td>goodbyes</td>\n",
              "      <td>bye-bye</td>\n",
              "    </tr>\n",
              "    <tr>\n",
              "      <th>8</th>\n",
              "      <td>goodbyes</td>\n",
              "      <td>See ya!</td>\n",
              "    </tr>\n",
              "    <tr>\n",
              "      <th>9</th>\n",
              "      <td>goodbyes</td>\n",
              "      <td>Ciao</td>\n",
              "    </tr>\n",
              "    <tr>\n",
              "      <th>10</th>\n",
              "      <td>goodbyes</td>\n",
              "      <td>Adios</td>\n",
              "    </tr>\n",
              "  </tbody>\n",
              "</table>\n",
              "</div>\n",
              "      <button class=\"colab-df-convert\" onclick=\"convertToInteractive('df-2369298b-deb4-42cb-a91f-89e29fd0a4f6')\"\n",
              "              title=\"Convert this dataframe to an interactive table.\"\n",
              "              style=\"display:none;\">\n",
              "        \n",
              "  <svg xmlns=\"http://www.w3.org/2000/svg\" height=\"24px\"viewBox=\"0 0 24 24\"\n",
              "       width=\"24px\">\n",
              "    <path d=\"M0 0h24v24H0V0z\" fill=\"none\"/>\n",
              "    <path d=\"M18.56 5.44l.94 2.06.94-2.06 2.06-.94-2.06-.94-.94-2.06-.94 2.06-2.06.94zm-11 1L8.5 8.5l.94-2.06 2.06-.94-2.06-.94L8.5 2.5l-.94 2.06-2.06.94zm10 10l.94 2.06.94-2.06 2.06-.94-2.06-.94-.94-2.06-.94 2.06-2.06.94z\"/><path d=\"M17.41 7.96l-1.37-1.37c-.4-.4-.92-.59-1.43-.59-.52 0-1.04.2-1.43.59L10.3 9.45l-7.72 7.72c-.78.78-.78 2.05 0 2.83L4 21.41c.39.39.9.59 1.41.59.51 0 1.02-.2 1.41-.59l7.78-7.78 2.81-2.81c.8-.78.8-2.07 0-2.86zM5.41 20L4 18.59l7.72-7.72 1.47 1.35L5.41 20z\"/>\n",
              "  </svg>\n",
              "      </button>\n",
              "      \n",
              "  <style>\n",
              "    .colab-df-container {\n",
              "      display:flex;\n",
              "      flex-wrap:wrap;\n",
              "      gap: 12px;\n",
              "    }\n",
              "\n",
              "    .colab-df-convert {\n",
              "      background-color: #E8F0FE;\n",
              "      border: none;\n",
              "      border-radius: 50%;\n",
              "      cursor: pointer;\n",
              "      display: none;\n",
              "      fill: #1967D2;\n",
              "      height: 32px;\n",
              "      padding: 0 0 0 0;\n",
              "      width: 32px;\n",
              "    }\n",
              "\n",
              "    .colab-df-convert:hover {\n",
              "      background-color: #E2EBFA;\n",
              "      box-shadow: 0px 1px 2px rgba(60, 64, 67, 0.3), 0px 1px 3px 1px rgba(60, 64, 67, 0.15);\n",
              "      fill: #174EA6;\n",
              "    }\n",
              "\n",
              "    [theme=dark] .colab-df-convert {\n",
              "      background-color: #3B4455;\n",
              "      fill: #D2E3FC;\n",
              "    }\n",
              "\n",
              "    [theme=dark] .colab-df-convert:hover {\n",
              "      background-color: #434B5C;\n",
              "      box-shadow: 0px 1px 3px 1px rgba(0, 0, 0, 0.15);\n",
              "      filter: drop-shadow(0px 1px 2px rgba(0, 0, 0, 0.3));\n",
              "      fill: #FFFFFF;\n",
              "    }\n",
              "  </style>\n",
              "\n",
              "      <script>\n",
              "        const buttonEl =\n",
              "          document.querySelector('#df-2369298b-deb4-42cb-a91f-89e29fd0a4f6 button.colab-df-convert');\n",
              "        buttonEl.style.display =\n",
              "          google.colab.kernel.accessAllowed ? 'block' : 'none';\n",
              "\n",
              "        async function convertToInteractive(key) {\n",
              "          const element = document.querySelector('#df-2369298b-deb4-42cb-a91f-89e29fd0a4f6');\n",
              "          const dataTable =\n",
              "            await google.colab.kernel.invokeFunction('convertToInteractive',\n",
              "                                                     [key], {});\n",
              "          if (!dataTable) return;\n",
              "\n",
              "          const docLinkHtml = 'Like what you see? Visit the ' +\n",
              "            '<a target=\"_blank\" href=https://colab.research.google.com/notebooks/data_table.ipynb>data table notebook</a>'\n",
              "            + ' to learn more about interactive tables.';\n",
              "          element.innerHTML = '';\n",
              "          dataTable['output_type'] = 'display_data';\n",
              "          await google.colab.output.renderOutput(dataTable, element);\n",
              "          const docLink = document.createElement('div');\n",
              "          docLink.innerHTML = docLinkHtml;\n",
              "          element.appendChild(docLink);\n",
              "        }\n",
              "      </script>\n",
              "    </div>\n",
              "  </div>\n",
              "  "
            ]
          },
          "metadata": {},
          "execution_count": 162
        }
      ]
    },
    {
      "cell_type": "code",
      "source": [
        "greetings_test = ['hi, there!','psst, can you tell me, which algorithm would work best if I have imbalanced dataset?','What\\'s your favourite music?','Hello? Somebody is here?', 'people often say welcome to guests','How many answers can you provide on this topic?',\"hola, hola!\", 'tell me about yourself','are you a bot','which movie would ypu suggest to watch this evening?', 'which laptop is the best for Data Science?', 'What about language generation task?','hey, bot:)', 'water']\n",
        "testy_greet = np.array([ 1, -1, -1, 1, -1, -1, 1, -1,  -1, -1, -1,  -1,  1, -1])\n",
        "\n",
        "bye_test = ['bye, bot:)', 'OK, then see you tomorrow', 'what does \\'exit\\' mean?', 'I\\'ll take off my hat behind you, bot', 'Let\\'s quit this conversation', 'How to translate \\'adios\\'?', 'Catch me, if you can!', 'Too boring( OK, see you later then']\n",
        "testy_bye = np.array([ 1, 1, -1, -1, 1, -1, -1, 1])\n",
        "# array([ 1, -1, -1, -1, -1, -1, -1, -1])"
      ],
      "metadata": {
        "id": "nX3-pL5D-0VG"
      },
      "execution_count": 163,
      "outputs": []
    },
    {
      "cell_type": "markdown",
      "source": [
        "### One-Class Classification with SVM"
      ],
      "metadata": {
        "id": "HRQQKHtr5Pbq"
      }
    },
    {
      "cell_type": "code",
      "source": [
        "from google.colab import drive\n",
        "drive.mount('/content/drive')"
      ],
      "metadata": {
        "colab": {
          "base_uri": "https://localhost:8080/"
        },
        "id": "IfD4NDIZR3b4",
        "outputId": "7c0e7658-c234-487b-ae8f-39cb3ffc4d22"
      },
      "execution_count": 164,
      "outputs": [
        {
          "output_type": "stream",
          "name": "stdout",
          "text": [
            "Drive already mounted at /content/drive; to attempt to forcibly remount, call drive.mount(\"/content/drive\", force_remount=True).\n"
          ]
        }
      ]
    },
    {
      "cell_type": "code",
      "source": [
        "from tensorflow.keras.preprocessing.text import Tokenizer\n",
        "from tensorflow.keras.preprocessing.sequence import pad_sequences\n",
        "from sklearn.metrics import f1_score"
      ],
      "metadata": {
        "id": "vb0_TOEH5Vw7"
      },
      "execution_count": 165,
      "outputs": []
    },
    {
      "cell_type": "code",
      "source": [
        "num_words = 1000\n",
        "oov_token = '<UNK>'\n",
        "pad_type = 'post'\n",
        "trunc_type = 'post'"
      ],
      "metadata": {
        "id": "H35LmGn556Ya"
      },
      "execution_count": 166,
      "outputs": []
    },
    {
      "cell_type": "code",
      "source": [
        "tokenizer_greet = Tokenizer(num_words=num_words, oov_token=oov_token)\n",
        "tokenizer_greet.fit_on_texts(greetings)\n",
        "word_index_greet = tokenizer_greet.word_index\n",
        "train_sequences_greet = tokenizer_greet.texts_to_sequences(greetings)\n",
        "\n",
        "# Get max training sequence length\n",
        "maxlen_greet = 10 #max([len(x) for x in train_sequences_greet])\n",
        "\n",
        "# Pad the training sequences\n",
        "train_padded_greet = pad_sequences(train_sequences_greet, padding=pad_type, truncating=trunc_type, maxlen=maxlen_greet)\n",
        "\n",
        "# Output the results of our work\n",
        "print(\"Word index:\\n\", word_index_greet)\n",
        "print(\"\\nTraining sequences:\\n\", train_sequences_greet)\n",
        "# print(\"\\nPadded training sequences:\\n\", train_padded)\n",
        "print(\"\\nPadded training shape:\", train_padded_greet.shape)\n",
        "print(\"Training sequences data type:\", type(train_sequences_greet))\n",
        "print(\"Padded Training sequences data type:\", type(train_padded_greet))\n",
        "\n",
        "test_sequences_greet = tokenizer_greet.texts_to_sequences(greetings_test)\n",
        "test_padded_greet = pad_sequences(test_sequences_greet, padding=pad_type, truncating=trunc_type, maxlen=maxlen_greet)\n",
        "\n",
        "print(\"Testing sequences:\\n\", test_sequences_greet)\n",
        "print(\"\\nPadded testing sequences:\\n\", test_padded_greet)\n",
        "print(\"\\nPadded testing shape:\",test_padded_greet.shape)\n",
        "\n",
        "for x, y in zip(greetings_test, test_padded_greet):\n",
        "  print('{} -> {}'.format(x, y))"
      ],
      "metadata": {
        "id": "2e7CLftR59kQ",
        "outputId": "d0f2e1b2-1432-47d0-adfe-452fea22a23a",
        "colab": {
          "base_uri": "https://localhost:8080/"
        }
      },
      "execution_count": 167,
      "outputs": [
        {
          "output_type": "stream",
          "name": "stdout",
          "text": [
            "Word index:\n",
            " {'<UNK>': 1, 'good': 2, 'you': 3, 'hi': 4, 'morning': 5, 'evening': 6, 'to': 7, 'see': 8, 'hola': 9, 'hey': 10, 'hello': 11, 'day': 12, 'greetings': 13, 'howdy': 14, 'welcome': 15, 'bonjour': 16, 'buenas': 17, 'noches': 18, 'buenos': 19, 'dias': 20, 'salutation': 21, 'salut': 22, 'hail': 23, 'salaam': 24, 'aloha': 25, 'wishes': 26, 'yoo': 27, 'hoo': 28, 'yawp': 29, 'it’s': 30, 'always': 31, 'a': 32, 'pleasure': 33, 'oh': 34, 'ave': 35, 'yo': 36, 'there': 37, 'helloo': 38, 'hellooo': 39, 'g': 40, 'morining': 41, 'gmorning': 42, 'afternoon': 43, 'greeting': 44, 'its': 45, 'seeing': 46, 'g’day': 47}\n",
            "\n",
            "Training sequences:\n",
            " [[4], [9], [10], [11], [5], [6], [2, 12], [2, 5], [13], [14], [15], [16], [17, 18], [19, 20], [21], [22], [23], [24], [25], [2, 26], [27, 28], [29], [30, 31, 32, 33, 7, 8, 3], [34], [35], [36], [4, 37], [38], [39], [40, 41], [42], [2, 43], [2, 6], [44], [2, 7, 8, 3], [45, 2, 46, 3], [47]]\n",
            "\n",
            "Padded training shape: (37, 10)\n",
            "Training sequences data type: <class 'list'>\n",
            "Padded Training sequences data type: <class 'numpy.ndarray'>\n",
            "Testing sequences:\n",
            " [[4, 37], [1, 1, 3, 1, 1, 1, 1, 1, 1, 1, 1, 1, 1, 1, 1], [1, 1, 1, 1], [11, 1, 1, 1], [1, 1, 1, 15, 7, 1], [1, 1, 1, 1, 3, 1, 1, 1, 1], [9, 9], [1, 1, 1, 1], [1, 3, 32, 1], [1, 1, 1, 1, 1, 7, 1, 1, 6], [1, 1, 1, 1, 1, 1, 1, 1], [1, 1, 1, 1, 1], [10, 1], [1]]\n",
            "\n",
            "Padded testing sequences:\n",
            " [[ 4 37  0  0  0  0  0  0  0  0]\n",
            " [ 1  1  3  1  1  1  1  1  1  1]\n",
            " [ 1  1  1  1  0  0  0  0  0  0]\n",
            " [11  1  1  1  0  0  0  0  0  0]\n",
            " [ 1  1  1 15  7  1  0  0  0  0]\n",
            " [ 1  1  1  1  3  1  1  1  1  0]\n",
            " [ 9  9  0  0  0  0  0  0  0  0]\n",
            " [ 1  1  1  1  0  0  0  0  0  0]\n",
            " [ 1  3 32  1  0  0  0  0  0  0]\n",
            " [ 1  1  1  1  1  7  1  1  6  0]\n",
            " [ 1  1  1  1  1  1  1  1  0  0]\n",
            " [ 1  1  1  1  1  0  0  0  0  0]\n",
            " [10  1  0  0  0  0  0  0  0  0]\n",
            " [ 1  0  0  0  0  0  0  0  0  0]]\n",
            "\n",
            "Padded testing shape: (14, 10)\n",
            "hi, there! -> [ 4 37  0  0  0  0  0  0  0  0]\n",
            "psst, can you tell me, which algorithm would work best if I have imbalanced dataset? -> [1 1 3 1 1 1 1 1 1 1]\n",
            "What's your favourite music? -> [1 1 1 1 0 0 0 0 0 0]\n",
            "Hello? Somebody is here? -> [11  1  1  1  0  0  0  0  0  0]\n",
            "people often say welcome to guests -> [ 1  1  1 15  7  1  0  0  0  0]\n",
            "How many answers can you provide on this topic? -> [1 1 1 1 3 1 1 1 1 0]\n",
            "hola, hola! -> [9 9 0 0 0 0 0 0 0 0]\n",
            "tell me about yourself -> [1 1 1 1 0 0 0 0 0 0]\n",
            "are you a bot -> [ 1  3 32  1  0  0  0  0  0  0]\n",
            "which movie would ypu suggest to watch this evening? -> [1 1 1 1 1 7 1 1 6 0]\n",
            "which laptop is the best for Data Science? -> [1 1 1 1 1 1 1 1 0 0]\n",
            "What about language generation task? -> [1 1 1 1 1 0 0 0 0 0]\n",
            "hey, bot:) -> [10  1  0  0  0  0  0  0  0  0]\n",
            "water -> [1 0 0 0 0 0 0 0 0 0]\n"
          ]
        }
      ]
    },
    {
      "cell_type": "code",
      "source": [
        "tokenizer_bye= Tokenizer(num_words=num_words, oov_token=oov_token)\n",
        "tokenizer_bye.fit_on_texts(goodbyes)\n",
        "word_index_bye = tokenizer_bye.word_index\n",
        "train_sequences_bye = tokenizer_bye.texts_to_sequences(goodbyes)\n",
        "\n",
        "# Get max training sequence length\n",
        "maxlen_bye = 10 #max([len(x) for x in train_sequences_bye])\n",
        "\n",
        "# Pad the training sequences\n",
        "train_padded_bye = pad_sequences(train_sequences_bye, padding=pad_type, truncating=trunc_type, maxlen=maxlen_bye)\n",
        "\n",
        "# Output the results of our work\n",
        "print(\"Word index:\\n\", word_index_bye)\n",
        "print(\"\\nTraining sequences:\\n\", train_sequences_bye)\n",
        "# print(\"\\nPadded training sequences:\\n\", train_padded)\n",
        "print(\"\\nPadded training shape:\", train_padded_bye.shape)\n",
        "print(\"Training sequences data type:\", type(train_sequences_bye))\n",
        "print(\"Padded Training sequences data type:\", type(train_padded_bye))\n",
        "\n",
        "test_sequences_bye = tokenizer_bye.texts_to_sequences(bye_test)\n",
        "test_padded_bye = pad_sequences(test_sequences_bye, padding=pad_type, truncating=trunc_type, maxlen=maxlen_bye)\n",
        "\n",
        "print(\"Testing sequences:\\n\", test_sequences_bye)\n",
        "print(\"\\nPadded testing sequences:\\n\", test_padded_bye)\n",
        "print(\"\\nPadded testing shape:\",test_padded_bye.shape)\n",
        "\n",
        "for x, y in zip(bye_test, test_padded_bye):\n",
        "  print('{} -> {}'.format(x, y))"
      ],
      "metadata": {
        "id": "qmvd1PRBrV18",
        "outputId": "299a2b25-b1fc-4a83-e0c7-9d012fa711e9",
        "colab": {
          "base_uri": "https://localhost:8080/"
        }
      },
      "execution_count": 168,
      "outputs": [
        {
          "output_type": "stream",
          "name": "stdout",
          "text": [
            "Word index:\n",
            " {'<UNK>': 1, 'bye': 2, 'exit': 3, 'quit': 4, 'i’m': 5, 'off': 6, 'goodbye': 7, 'goodnight': 8, 'good': 9, 'night': 10, 'see': 11, 'ya': 12, 'ciao': 13, 'adios': 14}\n",
            "\n",
            "Training sequences:\n",
            " [[2], [3], [4], [5, 6], [7], [8], [9, 10], [2, 2], [11, 12], [13], [14]]\n",
            "\n",
            "Padded training shape: (11, 10)\n",
            "Training sequences data type: <class 'list'>\n",
            "Padded Training sequences data type: <class 'numpy.ndarray'>\n",
            "Testing sequences:\n",
            " [[2, 1], [1, 1, 11, 1, 1], [1, 1, 1, 1], [1, 1, 6, 1, 1, 1, 1, 1], [1, 4, 1, 1], [1, 1, 1, 1], [1, 1, 1, 1, 1], [1, 1, 1, 11, 1, 1, 1]]\n",
            "\n",
            "Padded testing sequences:\n",
            " [[ 2  1  0  0  0  0  0  0  0  0]\n",
            " [ 1  1 11  1  1  0  0  0  0  0]\n",
            " [ 1  1  1  1  0  0  0  0  0  0]\n",
            " [ 1  1  6  1  1  1  1  1  0  0]\n",
            " [ 1  4  1  1  0  0  0  0  0  0]\n",
            " [ 1  1  1  1  0  0  0  0  0  0]\n",
            " [ 1  1  1  1  1  0  0  0  0  0]\n",
            " [ 1  1  1 11  1  1  1  0  0  0]]\n",
            "\n",
            "Padded testing shape: (8, 10)\n",
            "bye, bot:) -> [2 1 0 0 0 0 0 0 0 0]\n",
            "OK, then see you tomorrow -> [ 1  1 11  1  1  0  0  0  0  0]\n",
            "what does 'exit' mean? -> [1 1 1 1 0 0 0 0 0 0]\n",
            "I'll take off my hat behind you, bot -> [1 1 6 1 1 1 1 1 0 0]\n",
            "Let's quit this conversation -> [1 4 1 1 0 0 0 0 0 0]\n",
            "How to translate 'adios'? -> [1 1 1 1 0 0 0 0 0 0]\n",
            "Catch me, if you can! -> [1 1 1 1 1 0 0 0 0 0]\n",
            "Too boring( OK, see you later then -> [ 1  1  1 11  1  1  1  0  0  0]\n"
          ]
        }
      ]
    },
    {
      "cell_type": "markdown",
      "source": [
        "### Greetings"
      ],
      "metadata": {
        "id": "7DdfkklKvFgr"
      }
    },
    {
      "cell_type": "code",
      "source": [
        "model = OneClassSVM(gamma='scale', nu=0.01)\n",
        "model.fit(train_padded_greet)"
      ],
      "metadata": {
        "id": "eb7UqXT37vEF",
        "outputId": "46c7e0f3-3cde-4bff-9742-3db0b5dc8dfc",
        "colab": {
          "base_uri": "https://localhost:8080/"
        }
      },
      "execution_count": 169,
      "outputs": [
        {
          "output_type": "execute_result",
          "data": {
            "text/plain": [
              "OneClassSVM(nu=0.01)"
            ]
          },
          "metadata": {},
          "execution_count": 169
        }
      ]
    },
    {
      "cell_type": "code",
      "source": [
        "#+1 for normal examples, so-called inliers, and a -1 for outliers.\n",
        "yhat_greet = model.predict(test_padded_greet)"
      ],
      "metadata": {
        "id": "5gsn6d3c-UoE"
      },
      "execution_count": 170,
      "outputs": []
    },
    {
      "cell_type": "code",
      "source": [
        "yhat_greet"
      ],
      "metadata": {
        "id": "ww8-v2DHB1FZ",
        "outputId": "95d35778-3d79-4d06-e483-eaf7d4c0c83e",
        "colab": {
          "base_uri": "https://localhost:8080/"
        }
      },
      "execution_count": 171,
      "outputs": [
        {
          "output_type": "execute_result",
          "data": {
            "text/plain": [
              "array([ 1, -1, -1,  1, -1, -1,  1, -1, -1, -1, -1, -1,  1, -1])"
            ]
          },
          "metadata": {},
          "execution_count": 171
        }
      ]
    },
    {
      "cell_type": "code",
      "source": [
        "score = f1_score(testy_greet, yhat_greet, pos_label=-1)\n",
        "print('F1 Score: %.3f' % score)"
      ],
      "metadata": {
        "id": "eTyrubiFCmnr",
        "outputId": "d000daca-2f80-499f-a899-d6e6130346cd",
        "colab": {
          "base_uri": "https://localhost:8080/"
        }
      },
      "execution_count": 172,
      "outputs": [
        {
          "output_type": "stream",
          "name": "stdout",
          "text": [
            "F1 Score: 1.000\n"
          ]
        }
      ]
    },
    {
      "cell_type": "code",
      "source": [
        "def classify_greet(sent):\n",
        "  l = [sent]\n",
        "  test_sequences = tokenizer_greet.texts_to_sequences(l)\n",
        "  test_padded= pad_sequences(test_sequences, padding=pad_type, truncating=trunc_type, maxlen=maxlen_greet)\n",
        "  pred_class_greet = model.predict(test_padded)\n",
        "  cl = int(*pred_class_greet)\n",
        "  return  cl\n",
        "  \n",
        "print(classify_greet('Hey! Lets talk, bot'))"
      ],
      "metadata": {
        "id": "6QRupywXHAqw",
        "outputId": "e727e33b-346a-46e4-8adc-d900a9fcb477",
        "colab": {
          "base_uri": "https://localhost:8080/"
        }
      },
      "execution_count": 173,
      "outputs": [
        {
          "output_type": "stream",
          "name": "stdout",
          "text": [
            "1\n"
          ]
        }
      ]
    },
    {
      "cell_type": "markdown",
      "source": [
        "### Gooodbyes"
      ],
      "metadata": {
        "id": "Xjj0qaWhvKZc"
      }
    },
    {
      "cell_type": "code",
      "source": [
        "model_bye = OneClassSVM(gamma='scale', nu=0.01)\n",
        "model_bye.fit(train_padded_bye)"
      ],
      "metadata": {
        "id": "a5MKUNGavaAt",
        "colab": {
          "base_uri": "https://localhost:8080/"
        },
        "outputId": "5fdb85f7-b062-469a-cab5-07b4d77421fa"
      },
      "execution_count": 174,
      "outputs": [
        {
          "output_type": "execute_result",
          "data": {
            "text/plain": [
              "OneClassSVM(nu=0.01)"
            ]
          },
          "metadata": {},
          "execution_count": 174
        }
      ]
    },
    {
      "cell_type": "code",
      "source": [
        "yhat_bye = model_bye.predict(test_padded_bye)\n",
        "yhat_bye"
      ],
      "metadata": {
        "colab": {
          "base_uri": "https://localhost:8080/"
        },
        "id": "YpJHv5xu3smI",
        "outputId": "046260e1-21e6-452e-b1c4-a8cb85824ac3"
      },
      "execution_count": 175,
      "outputs": [
        {
          "output_type": "execute_result",
          "data": {
            "text/plain": [
              "array([ 1, -1, -1, -1, -1, -1, -1, -1])"
            ]
          },
          "metadata": {},
          "execution_count": 175
        }
      ]
    },
    {
      "cell_type": "code",
      "source": [
        "score = f1_score(testy_bye, yhat_bye, pos_label=-1)\n",
        "print('F1 Score: %.3f' % score)"
      ],
      "metadata": {
        "colab": {
          "base_uri": "https://localhost:8080/"
        },
        "id": "iEqmZ0zX4Air",
        "outputId": "ae00c457-ec59-4e0d-b8ab-6b02f85e4f61"
      },
      "execution_count": 176,
      "outputs": [
        {
          "output_type": "stream",
          "name": "stdout",
          "text": [
            "F1 Score: 0.727\n"
          ]
        }
      ]
    },
    {
      "cell_type": "markdown",
      "source": [
        "*I need to gather bigger dataset (or use better algirothm) in order to improve the model* \n",
        "\n"
      ],
      "metadata": {
        "id": "9cOLORmZTtLY"
      }
    },
    {
      "cell_type": "code",
      "source": [
        "def classify_goodbyes(sent):\n",
        "  l = [sent]\n",
        "  test_sequences = tokenizer_bye.texts_to_sequences(l)\n",
        "  test_padded= pad_sequences(test_sequences, padding=pad_type, truncating=trunc_type, maxlen=maxlen_bye)\n",
        "  pred_class = model_bye.predict(test_padded)\n",
        "  cl = int(*pred_class)\n",
        "  return  cl\n",
        "  \n",
        "print(classify_goodbyes('Bye, bot'))"
      ],
      "metadata": {
        "colab": {
          "base_uri": "https://localhost:8080/"
        },
        "id": "C9Cu6DUh4ZEK",
        "outputId": "db0fc58c-0161-4e9a-8119-3d779b0a883b"
      },
      "execution_count": 177,
      "outputs": [
        {
          "output_type": "stream",
          "name": "stdout",
          "text": [
            "1\n"
          ]
        }
      ]
    },
    {
      "cell_type": "markdown",
      "source": [
        "# Part II: Question Answering"
      ],
      "metadata": {
        "id": "bqc-tw4XQL2T"
      }
    },
    {
      "cell_type": "code",
      "source": [
        "!pip install datasets"
      ],
      "metadata": {
        "id": "RVOiMcK5O1p6",
        "colab": {
          "base_uri": "https://localhost:8080/"
        },
        "outputId": "0043d9c5-2708-42dc-b4fb-2ada3c01d886"
      },
      "execution_count": 178,
      "outputs": [
        {
          "output_type": "stream",
          "name": "stdout",
          "text": [
            "Requirement already satisfied: datasets in /usr/local/lib/python3.7/dist-packages (2.1.0)\n",
            "Requirement already satisfied: xxhash in /usr/local/lib/python3.7/dist-packages (from datasets) (3.0.0)\n",
            "Requirement already satisfied: pandas in /usr/local/lib/python3.7/dist-packages (from datasets) (1.3.5)\n",
            "Requirement already satisfied: multiprocess in /usr/local/lib/python3.7/dist-packages (from datasets) (0.70.12.2)\n",
            "Requirement already satisfied: aiohttp in /usr/local/lib/python3.7/dist-packages (from datasets) (3.8.1)\n",
            "Requirement already satisfied: pyarrow>=5.0.0 in /usr/local/lib/python3.7/dist-packages (from datasets) (6.0.1)\n",
            "Requirement already satisfied: dill in /usr/local/lib/python3.7/dist-packages (from datasets) (0.3.4)\n",
            "Requirement already satisfied: tqdm>=4.62.1 in /usr/local/lib/python3.7/dist-packages (from datasets) (4.64.0)\n",
            "Requirement already satisfied: fsspec[http]>=2021.05.0 in /usr/local/lib/python3.7/dist-packages (from datasets) (2022.3.0)\n",
            "Requirement already satisfied: huggingface-hub<1.0.0,>=0.1.0 in /usr/local/lib/python3.7/dist-packages (from datasets) (0.5.1)\n",
            "Requirement already satisfied: packaging in /usr/local/lib/python3.7/dist-packages (from datasets) (21.3)\n",
            "Requirement already satisfied: importlib-metadata in /usr/local/lib/python3.7/dist-packages (from datasets) (4.11.3)\n",
            "Requirement already satisfied: numpy>=1.17 in /usr/local/lib/python3.7/dist-packages (from datasets) (1.21.6)\n",
            "Requirement already satisfied: requests>=2.19.0 in /usr/local/lib/python3.7/dist-packages (from datasets) (2.23.0)\n",
            "Requirement already satisfied: responses<0.19 in /usr/local/lib/python3.7/dist-packages (from datasets) (0.18.0)\n",
            "Requirement already satisfied: pyyaml in /usr/local/lib/python3.7/dist-packages (from huggingface-hub<1.0.0,>=0.1.0->datasets) (6.0)\n",
            "Requirement already satisfied: typing-extensions>=3.7.4.3 in /usr/local/lib/python3.7/dist-packages (from huggingface-hub<1.0.0,>=0.1.0->datasets) (4.2.0)\n",
            "Requirement already satisfied: filelock in /usr/local/lib/python3.7/dist-packages (from huggingface-hub<1.0.0,>=0.1.0->datasets) (3.6.0)\n",
            "Requirement already satisfied: pyparsing!=3.0.5,>=2.0.2 in /usr/local/lib/python3.7/dist-packages (from packaging->datasets) (3.0.8)\n",
            "Requirement already satisfied: certifi>=2017.4.17 in /usr/local/lib/python3.7/dist-packages (from requests>=2.19.0->datasets) (2021.10.8)\n",
            "Requirement already satisfied: chardet<4,>=3.0.2 in /usr/local/lib/python3.7/dist-packages (from requests>=2.19.0->datasets) (3.0.4)\n",
            "Requirement already satisfied: idna<3,>=2.5 in /usr/local/lib/python3.7/dist-packages (from requests>=2.19.0->datasets) (2.10)\n",
            "Requirement already satisfied: urllib3!=1.25.0,!=1.25.1,<1.26,>=1.21.1 in /usr/local/lib/python3.7/dist-packages (from requests>=2.19.0->datasets) (1.25.11)\n",
            "Requirement already satisfied: aiosignal>=1.1.2 in /usr/local/lib/python3.7/dist-packages (from aiohttp->datasets) (1.2.0)\n",
            "Requirement already satisfied: yarl<2.0,>=1.0 in /usr/local/lib/python3.7/dist-packages (from aiohttp->datasets) (1.7.2)\n",
            "Requirement already satisfied: async-timeout<5.0,>=4.0.0a3 in /usr/local/lib/python3.7/dist-packages (from aiohttp->datasets) (4.0.2)\n",
            "Requirement already satisfied: charset-normalizer<3.0,>=2.0 in /usr/local/lib/python3.7/dist-packages (from aiohttp->datasets) (2.0.12)\n",
            "Requirement already satisfied: frozenlist>=1.1.1 in /usr/local/lib/python3.7/dist-packages (from aiohttp->datasets) (1.3.0)\n",
            "Requirement already satisfied: multidict<7.0,>=4.5 in /usr/local/lib/python3.7/dist-packages (from aiohttp->datasets) (6.0.2)\n",
            "Requirement already satisfied: asynctest==0.13.0 in /usr/local/lib/python3.7/dist-packages (from aiohttp->datasets) (0.13.0)\n",
            "Requirement already satisfied: attrs>=17.3.0 in /usr/local/lib/python3.7/dist-packages (from aiohttp->datasets) (21.4.0)\n",
            "Requirement already satisfied: zipp>=0.5 in /usr/local/lib/python3.7/dist-packages (from importlib-metadata->datasets) (3.8.0)\n",
            "Requirement already satisfied: python-dateutil>=2.7.3 in /usr/local/lib/python3.7/dist-packages (from pandas->datasets) (2.8.2)\n",
            "Requirement already satisfied: pytz>=2017.3 in /usr/local/lib/python3.7/dist-packages (from pandas->datasets) (2022.1)\n",
            "Requirement already satisfied: six>=1.5 in /usr/local/lib/python3.7/dist-packages (from python-dateutil>=2.7.3->pandas->datasets) (1.15.0)\n"
          ]
        }
      ]
    },
    {
      "cell_type": "code",
      "source": [
        "import datasets\n",
        "import requests\n",
        "\n",
        "[ds for ds in datasets.list_datasets() if 'science' in ds.lower()]"
      ],
      "metadata": {
        "id": "t9b584AubuXy",
        "colab": {
          "base_uri": "https://localhost:8080/"
        },
        "outputId": "0375b7e9-c2bb-4239-c3ee-502a70496aff"
      },
      "execution_count": 179,
      "outputs": [
        {
          "output_type": "execute_result",
          "data": {
            "text/plain": [
              "['multi_x_science_sum',\n",
              " 'web_of_science',\n",
              " 'bigscience/LanguageResourceCatalogue',\n",
              " 'bigscience/P3',\n",
              " 'bigscience/mc4-sampled',\n",
              " 'bigscience/open_subtitles_monolingual',\n",
              " 'bigscience-catalogue-data-dev/lm_code_github-eval_subset',\n",
              " 'bigscience-catalogue-lm-data/lm_ar_wikibooks',\n",
              " 'bigscience-catalogue-lm-data/lm_ar_wikibooks_filtered',\n",
              " 'bigscience-catalogue-lm-data/lm_ar_wikinews_filtered',\n",
              " 'bigscience-catalogue-lm-data/lm_ar_wikiquote_filtered',\n",
              " 'bigscience-catalogue-lm-data/lm_ar_wikisource',\n",
              " 'bigscience-catalogue-lm-data/lm_ar_wikisource_filtered',\n",
              " 'bigscience-catalogue-lm-data/lm_ar_wikiversity_filtered',\n",
              " 'bigscience-catalogue-lm-data/lm_ar_wiktionary_filtered',\n",
              " 'bigscience-catalogue-lm-data/lm_ca_wikibooks_filtered',\n",
              " 'bigscience-catalogue-lm-data/lm_ca_wikimedia_filtered',\n",
              " 'bigscience-catalogue-lm-data/lm_ca_wikinews_filtered',\n",
              " 'bigscience-catalogue-lm-data/lm_ca_wikiquote_filtered',\n",
              " 'bigscience-catalogue-lm-data/lm_ca_wikisource_filtered',\n",
              " 'bigscience-catalogue-lm-data/lm_ca_wiktionary_filtered',\n",
              " 'bigscience-catalogue-lm-data/lm_code_stackexchange',\n",
              " 'bigscience-catalogue-lm-data/lm_en_no_code_stackexchange',\n",
              " 'bigscience-catalogue-lm-data/lm_en_wikibooks_filtered',\n",
              " 'bigscience-catalogue-lm-data/lm_en_wikinews_filtered',\n",
              " 'bigscience-catalogue-lm-data/lm_en_wikiquote_filtered',\n",
              " 'bigscience-catalogue-lm-data/lm_en_wikivoyage_filtered',\n",
              " 'bigscience-catalogue-lm-data/lm_en_wiktionary_filtered',\n",
              " 'bigscience-catalogue-lm-data/lm_es_wikibooks_filtered',\n",
              " 'bigscience-catalogue-lm-data/lm_es_wikihow_human_instructions',\n",
              " 'bigscience-catalogue-lm-data/lm_es_wikinews_filtered',\n",
              " 'bigscience-catalogue-lm-data/lm_es_wikiquote_filtered',\n",
              " 'bigscience-catalogue-lm-data/lm_es_wikisource_filtered',\n",
              " 'bigscience-catalogue-lm-data/lm_es_wikiversity_filtered',\n",
              " 'bigscience-catalogue-lm-data/lm_es_wikivoyage_filtered',\n",
              " 'bigscience-catalogue-lm-data/lm_es_wiktionary_filtered',\n",
              " 'bigscience-catalogue-lm-data/lm_eu_wikibooks_filtered',\n",
              " 'bigscience-catalogue-lm-data/lm_eu_wikiquote_filtered',\n",
              " 'bigscience-catalogue-lm-data/lm_eu_wikisource_filtered',\n",
              " 'bigscience-catalogue-lm-data/lm_eu_wiktionary',\n",
              " 'bigscience-catalogue-lm-data/lm_eu_wiktionary_filtered',\n",
              " 'bigscience-catalogue-lm-data/lm_fr_wikibooks',\n",
              " 'bigscience-catalogue-lm-data/lm_fr_wikibooks_filtered',\n",
              " 'bigscience-catalogue-lm-data/lm_fr_wikihow_human_instructionslm_es_wikihow_human_instructions',\n",
              " 'bigscience-catalogue-lm-data/lm_fr_wikinews',\n",
              " 'bigscience-catalogue-lm-data/lm_fr_wikinews_filtered',\n",
              " 'bigscience-catalogue-lm-data/lm_fr_wikiquote',\n",
              " 'bigscience-catalogue-lm-data/lm_fr_wikiquote_filtered',\n",
              " 'bigscience-catalogue-lm-data/lm_fr_wikiversity_filtered',\n",
              " 'bigscience-catalogue-lm-data/lm_fr_wikivoyage',\n",
              " 'bigscience-catalogue-lm-data/lm_fr_wikivoyage_filtered',\n",
              " 'bigscience-catalogue-lm-data/lm_fr_wiktionary_filtered',\n",
              " 'bigscience-catalogue-lm-data/lm_id_wikibooks_filtered',\n",
              " 'bigscience-catalogue-lm-data/lm_id_wikimedia_filtered',\n",
              " 'bigscience-catalogue-lm-data/lm_id_wikiquote_filtered',\n",
              " 'bigscience-catalogue-lm-data/lm_id_wikisource_filtered',\n",
              " 'bigscience-catalogue-lm-data/lm_id_wiktionary_filtered',\n",
              " 'bigscience-catalogue-lm-data/lm_indic-as_wiktionary_filtered',\n",
              " 'bigscience-catalogue-lm-data/lm_indic-bn_wikibooks_filtered',\n",
              " 'bigscience-catalogue-lm-data/lm_indic-bn_wikivoyage_filtered',\n",
              " 'bigscience-catalogue-lm-data/lm_indic-bn_wiktionary_filtered',\n",
              " 'bigscience-catalogue-lm-data/lm_indic-gu_wikiquote_filtered',\n",
              " 'bigscience-catalogue-lm-data/lm_indic-gu_wiktionary_filtered',\n",
              " 'bigscience-catalogue-lm-data/lm_indic-hi_wikibooks_filtered',\n",
              " 'bigscience-catalogue-lm-data/lm_indic-hi_wikimedia_filtered',\n",
              " 'bigscience-catalogue-lm-data/lm_indic-hi_wikiquote_filtered',\n",
              " 'bigscience-catalogue-lm-data/lm_indic-hi_wikiversity_filtered',\n",
              " 'bigscience-catalogue-lm-data/lm_indic-hi_wikivoyage_filtered',\n",
              " 'bigscience-catalogue-lm-data/lm_indic-hi_wiktionary_filtered',\n",
              " 'bigscience-catalogue-lm-data/lm_indic-kn_wikiquote_filtered',\n",
              " 'bigscience-catalogue-lm-data/lm_indic-kn_wiktionary_filtered',\n",
              " 'bigscience-catalogue-lm-data/lm_indic-ml_wikibooks_filtered',\n",
              " 'bigscience-catalogue-lm-data/lm_indic-ml_wikiquote_filtered',\n",
              " 'bigscience-catalogue-lm-data/lm_indic-ml_wikisource_filtered',\n",
              " 'bigscience-catalogue-lm-data/lm_indic-ml_wiktionary_filtered',\n",
              " 'bigscience-catalogue-lm-data/lm_indic-mr_wikibooks_filtered',\n",
              " 'bigscience-catalogue-lm-data/lm_indic-mr_wikiquote_filtered',\n",
              " 'bigscience-catalogue-lm-data/lm_indic-mr_wiktionary_filtered',\n",
              " 'bigscience-catalogue-lm-data/lm_indic-or_wiktionary_filtered',\n",
              " 'bigscience-catalogue-lm-data/lm_indic-pa_wikibooks_filtered',\n",
              " 'bigscience-catalogue-lm-data/lm_indic-pa_wiktionary_filtered',\n",
              " 'bigscience-catalogue-lm-data/lm_indic-ta_wikibooks_filtered',\n",
              " 'bigscience-catalogue-lm-data/lm_indic-ta_wikinews_filtered',\n",
              " 'bigscience-catalogue-lm-data/lm_indic-ta_wikiquote_filtered',\n",
              " 'bigscience-catalogue-lm-data/lm_indic-ta_wiktionary_filtered',\n",
              " 'bigscience-catalogue-lm-data/lm_indic-te_wikibooks_filtered',\n",
              " 'bigscience-catalogue-lm-data/lm_indic-te_wikiquote_filtered',\n",
              " 'bigscience-catalogue-lm-data/lm_indic-te_wiktionary_filtered',\n",
              " 'bigscience-catalogue-lm-data/lm_indic-ur_wikibooks_filtered',\n",
              " 'bigscience-catalogue-lm-data/lm_indic-ur_wikiquote_filtered',\n",
              " 'bigscience-catalogue-lm-data/lm_indic-ur_wiktionary_filtered',\n",
              " 'bigscience-catalogue-lm-data/lm_ml_wikisource',\n",
              " 'bigscience-catalogue-lm-data/lm_nigercongo-bm_wikibooks_filtered',\n",
              " 'bigscience-catalogue-lm-data/lm_nigercongo-ln_wiktionary_filtered',\n",
              " 'bigscience-catalogue-lm-data/lm_nigercongo-rw_wiktionary_filtered',\n",
              " 'bigscience-catalogue-lm-data/lm_nigercongo-st_wiktionary_filtered',\n",
              " 'bigscience-catalogue-lm-data/lm_nigercongo-sw_wikibooks_filtered',\n",
              " 'bigscience-catalogue-lm-data/lm_nigercongo-sw_wiktionary_filtered',\n",
              " 'bigscience-catalogue-lm-data/lm_nigercongo-tn_wiktionary_filtered',\n",
              " 'bigscience-catalogue-lm-data/lm_nigercongo-ts_wiktionary_filtered',\n",
              " 'bigscience-catalogue-lm-data/lm_nigercongo-wo_wikiquote_filtered',\n",
              " 'bigscience-catalogue-lm-data/lm_nigercongo-wo_wiktionary_filtered',\n",
              " 'bigscience-catalogue-lm-data/lm_nigercongo-zu_wiktionary_filtered',\n",
              " 'bigscience-catalogue-lm-data/lm_pt_wikibooks_filtered',\n",
              " 'bigscience-catalogue-lm-data/lm_pt_wikimedia_filtered',\n",
              " 'bigscience-catalogue-lm-data/lm_pt_wikinews_filtered',\n",
              " 'bigscience-catalogue-lm-data/lm_pt_wikiquote_filtered',\n",
              " 'bigscience-catalogue-lm-data/lm_pt_wikisource_filtered',\n",
              " 'bigscience-catalogue-lm-data/lm_pt_wikiversity_filtered',\n",
              " 'bigscience-catalogue-lm-data/lm_pt_wikivoyage_filtered',\n",
              " 'bigscience-catalogue-lm-data/lm_pt_wiktionary_filtered',\n",
              " 'bigscience-catalogue-lm-data/lm_vi_wikibooks_filtered',\n",
              " 'bigscience-catalogue-lm-data/lm_vi_wikiquote_filtered',\n",
              " 'bigscience-catalogue-lm-data/lm_vi_wikisource_filtered',\n",
              " 'bigscience-catalogue-lm-data/lm_vi_wikivoyage_filtered',\n",
              " 'bigscience-catalogue-lm-data/lm_vi_wiktionary_filtered',\n",
              " 'bigscience-catalogue-lm-data/lm_zh_wikibooks_filtered',\n",
              " 'bigscience-catalogue-lm-data/lm_zh_wikinews_filtered',\n",
              " 'bigscience-catalogue-lm-data/lm_zh_wikiquote_filtered',\n",
              " 'bigscience-catalogue-lm-data/lm_zh_wikiversity_filtered',\n",
              " 'bigscience-catalogue-lm-data/lm_zh_wikivoyage_filtered',\n",
              " 'bigscience-catalogue-lm-data/lm_zh_wiktionary_filtered',\n",
              " 'bigscience-catalogue-lm-data/lm_zu_wiktionary',\n",
              " 'bigscience-catalogue-lm-data/tokenization_nigercongo',\n",
              " 'bigscience-historical-texts/HIPE2020_sent-split',\n",
              " 'bigscience-historical-texts/hipe2020',\n",
              " 'lucien/sciencemission',\n",
              " 'bigscience-catalogue-lm-data/lm_bn_wikisource',\n",
              " 'bigscience-catalogue-lm-data/lm_indic-bn_wikisource_filtered',\n",
              " 'FinScience/FS-distilroberta-fine-tuned',\n",
              " 'bigscience-biomedical/biosses',\n",
              " 'bigscience-historical-texts/Open_Medieval_French',\n",
              " 'Pavithree/askScience',\n",
              " 'janck/bigscience-lama',\n",
              " 'bigscience-catalogue-data/bias-shades',\n",
              " 'BigScienceBiasEval/bias-shades']"
            ]
          },
          "metadata": {},
          "execution_count": 179
        }
      ]
    },
    {
      "cell_type": "code",
      "source": [
        "qa_ds = datasets.load_dataset('squad', streaming = False)\n",
        "# qa_ds = datasets.load_dataset('web_of_science','WOS5736')\n",
        "qa_ds"
      ],
      "metadata": {
        "id": "lOUBTz1KQOkM",
        "colab": {
          "base_uri": "https://localhost:8080/",
          "height": 271,
          "referenced_widgets": [
            "b91dd5bd44834f298101d00a5a6ae8c3",
            "233dc3892e9048d7939b92ed1a1dd2f6",
            "0c756a14be2e454993e6320508976c98",
            "cfaaa9ade1a947a09583018ddb653791",
            "655f1a26261a439b8951aed802ae0b15",
            "e19f8e892c144cd4bb009af8b1b99965",
            "e49080e3d8d64352b21abb22ea9eae35",
            "05a3d29727da43daa4f0aebb2bfa3f35",
            "5213dfb30b564d6283745fa19944aa03",
            "d3839623e7e844419eece7093be5a527",
            "868758f9d741466da70c0190a1a3b7dd"
          ]
        },
        "outputId": "d04b785e-c80a-408b-eb96-eaf446c1c527"
      },
      "execution_count": 180,
      "outputs": [
        {
          "output_type": "stream",
          "name": "stderr",
          "text": [
            "Reusing dataset squad (/root/.cache/huggingface/datasets/squad/plain_text/1.0.0/d6ec3ceb99ca480ce37cdd35555d6cb2511d223b9150cce08a837ef62ffea453)\n"
          ]
        },
        {
          "output_type": "display_data",
          "data": {
            "text/plain": [
              "  0%|          | 0/2 [00:00<?, ?it/s]"
            ],
            "application/vnd.jupyter.widget-view+json": {
              "version_major": 2,
              "version_minor": 0,
              "model_id": "b91dd5bd44834f298101d00a5a6ae8c3"
            }
          },
          "metadata": {}
        },
        {
          "output_type": "execute_result",
          "data": {
            "text/plain": [
              "DatasetDict({\n",
              "    train: Dataset({\n",
              "        features: ['id', 'title', 'context', 'question', 'answers'],\n",
              "        num_rows: 87599\n",
              "    })\n",
              "    validation: Dataset({\n",
              "        features: ['id', 'title', 'context', 'question', 'answers'],\n",
              "        num_rows: 10570\n",
              "    })\n",
              "})"
            ]
          },
          "metadata": {},
          "execution_count": 180
        }
      ]
    },
    {
      "cell_type": "code",
      "source": [
        "qa_ds['train'].description"
      ],
      "metadata": {
        "id": "fS-kZpaASXwT",
        "colab": {
          "base_uri": "https://localhost:8080/",
          "height": 74
        },
        "outputId": "033b857f-d80a-4393-c1d6-c7431c08e068"
      },
      "execution_count": 181,
      "outputs": [
        {
          "output_type": "execute_result",
          "data": {
            "text/plain": [
              "'Stanford Question Answering Dataset (SQuAD) is a reading comprehension dataset, consisting of questions posed by crowdworkers on a set of Wikipedia articles, where the answer to every question is a segment of text, or span, from the corresponding reading passage, or the question might be unanswerable.\\n'"
            ],
            "application/vnd.google.colaboratory.intrinsic+json": {
              "type": "string"
            }
          },
          "metadata": {},
          "execution_count": 181
        }
      ]
    },
    {
      "cell_type": "code",
      "source": [
        "print(qa_ds['train'].dataset_size)\n",
        "qa_ds['train'].features"
      ],
      "metadata": {
        "id": "joklgTTXQono",
        "colab": {
          "base_uri": "https://localhost:8080/"
        },
        "outputId": "5ae4dfca-001e-4a80-de4b-e64e661cd456"
      },
      "execution_count": 182,
      "outputs": [
        {
          "output_type": "stream",
          "name": "stdout",
          "text": [
            "89846964\n"
          ]
        },
        {
          "output_type": "execute_result",
          "data": {
            "text/plain": [
              "{'answers': Sequence(feature={'text': Value(dtype='string', id=None), 'answer_start': Value(dtype='int32', id=None)}, length=-1, id=None),\n",
              " 'context': Value(dtype='string', id=None),\n",
              " 'id': Value(dtype='string', id=None),\n",
              " 'question': Value(dtype='string', id=None),\n",
              " 'title': Value(dtype='string', id=None)}"
            ]
          },
          "metadata": {},
          "execution_count": 182
        }
      ]
    },
    {
      "cell_type": "code",
      "source": [
        "qa_ds['train'].to_pandas().head()"
      ],
      "metadata": {
        "id": "zGit477NSxF1",
        "colab": {
          "base_uri": "https://localhost:8080/",
          "height": 424
        },
        "outputId": "bf1b0e8a-3dc5-4f97-efd5-6a5ee692d775"
      },
      "execution_count": 183,
      "outputs": [
        {
          "output_type": "execute_result",
          "data": {
            "text/plain": [
              "                         id                     title  \\\n",
              "0  5733be284776f41900661182  University_of_Notre_Dame   \n",
              "1  5733be284776f4190066117f  University_of_Notre_Dame   \n",
              "2  5733be284776f41900661180  University_of_Notre_Dame   \n",
              "3  5733be284776f41900661181  University_of_Notre_Dame   \n",
              "4  5733be284776f4190066117e  University_of_Notre_Dame   \n",
              "\n",
              "                                             context  \\\n",
              "0  Architecturally, the school has a Catholic cha...   \n",
              "1  Architecturally, the school has a Catholic cha...   \n",
              "2  Architecturally, the school has a Catholic cha...   \n",
              "3  Architecturally, the school has a Catholic cha...   \n",
              "4  Architecturally, the school has a Catholic cha...   \n",
              "\n",
              "                                            question  \\\n",
              "0  To whom did the Virgin Mary allegedly appear i...   \n",
              "1  What is in front of the Notre Dame Main Building?   \n",
              "2  The Basilica of the Sacred heart at Notre Dame...   \n",
              "3                  What is the Grotto at Notre Dame?   \n",
              "4  What sits on top of the Main Building at Notre...   \n",
              "\n",
              "                                             answers  \n",
              "0  {'text': ['Saint Bernadette Soubirous'], 'answ...  \n",
              "1  {'text': ['a copper statue of Christ'], 'answe...  \n",
              "2  {'text': ['the Main Building'], 'answer_start'...  \n",
              "3  {'text': ['a Marian place of prayer and reflec...  \n",
              "4  {'text': ['a golden statue of the Virgin Mary'...  "
            ],
            "text/html": [
              "\n",
              "  <div id=\"df-8f64afb8-aefe-4539-b9b0-96952b3c0bf1\">\n",
              "    <div class=\"colab-df-container\">\n",
              "      <div>\n",
              "<style scoped>\n",
              "    .dataframe tbody tr th:only-of-type {\n",
              "        vertical-align: middle;\n",
              "    }\n",
              "\n",
              "    .dataframe tbody tr th {\n",
              "        vertical-align: top;\n",
              "    }\n",
              "\n",
              "    .dataframe thead th {\n",
              "        text-align: right;\n",
              "    }\n",
              "</style>\n",
              "<table border=\"1\" class=\"dataframe\">\n",
              "  <thead>\n",
              "    <tr style=\"text-align: right;\">\n",
              "      <th></th>\n",
              "      <th>id</th>\n",
              "      <th>title</th>\n",
              "      <th>context</th>\n",
              "      <th>question</th>\n",
              "      <th>answers</th>\n",
              "    </tr>\n",
              "  </thead>\n",
              "  <tbody>\n",
              "    <tr>\n",
              "      <th>0</th>\n",
              "      <td>5733be284776f41900661182</td>\n",
              "      <td>University_of_Notre_Dame</td>\n",
              "      <td>Architecturally, the school has a Catholic cha...</td>\n",
              "      <td>To whom did the Virgin Mary allegedly appear i...</td>\n",
              "      <td>{'text': ['Saint Bernadette Soubirous'], 'answ...</td>\n",
              "    </tr>\n",
              "    <tr>\n",
              "      <th>1</th>\n",
              "      <td>5733be284776f4190066117f</td>\n",
              "      <td>University_of_Notre_Dame</td>\n",
              "      <td>Architecturally, the school has a Catholic cha...</td>\n",
              "      <td>What is in front of the Notre Dame Main Building?</td>\n",
              "      <td>{'text': ['a copper statue of Christ'], 'answe...</td>\n",
              "    </tr>\n",
              "    <tr>\n",
              "      <th>2</th>\n",
              "      <td>5733be284776f41900661180</td>\n",
              "      <td>University_of_Notre_Dame</td>\n",
              "      <td>Architecturally, the school has a Catholic cha...</td>\n",
              "      <td>The Basilica of the Sacred heart at Notre Dame...</td>\n",
              "      <td>{'text': ['the Main Building'], 'answer_start'...</td>\n",
              "    </tr>\n",
              "    <tr>\n",
              "      <th>3</th>\n",
              "      <td>5733be284776f41900661181</td>\n",
              "      <td>University_of_Notre_Dame</td>\n",
              "      <td>Architecturally, the school has a Catholic cha...</td>\n",
              "      <td>What is the Grotto at Notre Dame?</td>\n",
              "      <td>{'text': ['a Marian place of prayer and reflec...</td>\n",
              "    </tr>\n",
              "    <tr>\n",
              "      <th>4</th>\n",
              "      <td>5733be284776f4190066117e</td>\n",
              "      <td>University_of_Notre_Dame</td>\n",
              "      <td>Architecturally, the school has a Catholic cha...</td>\n",
              "      <td>What sits on top of the Main Building at Notre...</td>\n",
              "      <td>{'text': ['a golden statue of the Virgin Mary'...</td>\n",
              "    </tr>\n",
              "  </tbody>\n",
              "</table>\n",
              "</div>\n",
              "      <button class=\"colab-df-convert\" onclick=\"convertToInteractive('df-8f64afb8-aefe-4539-b9b0-96952b3c0bf1')\"\n",
              "              title=\"Convert this dataframe to an interactive table.\"\n",
              "              style=\"display:none;\">\n",
              "        \n",
              "  <svg xmlns=\"http://www.w3.org/2000/svg\" height=\"24px\"viewBox=\"0 0 24 24\"\n",
              "       width=\"24px\">\n",
              "    <path d=\"M0 0h24v24H0V0z\" fill=\"none\"/>\n",
              "    <path d=\"M18.56 5.44l.94 2.06.94-2.06 2.06-.94-2.06-.94-.94-2.06-.94 2.06-2.06.94zm-11 1L8.5 8.5l.94-2.06 2.06-.94-2.06-.94L8.5 2.5l-.94 2.06-2.06.94zm10 10l.94 2.06.94-2.06 2.06-.94-2.06-.94-.94-2.06-.94 2.06-2.06.94z\"/><path d=\"M17.41 7.96l-1.37-1.37c-.4-.4-.92-.59-1.43-.59-.52 0-1.04.2-1.43.59L10.3 9.45l-7.72 7.72c-.78.78-.78 2.05 0 2.83L4 21.41c.39.39.9.59 1.41.59.51 0 1.02-.2 1.41-.59l7.78-7.78 2.81-2.81c.8-.78.8-2.07 0-2.86zM5.41 20L4 18.59l7.72-7.72 1.47 1.35L5.41 20z\"/>\n",
              "  </svg>\n",
              "      </button>\n",
              "      \n",
              "  <style>\n",
              "    .colab-df-container {\n",
              "      display:flex;\n",
              "      flex-wrap:wrap;\n",
              "      gap: 12px;\n",
              "    }\n",
              "\n",
              "    .colab-df-convert {\n",
              "      background-color: #E8F0FE;\n",
              "      border: none;\n",
              "      border-radius: 50%;\n",
              "      cursor: pointer;\n",
              "      display: none;\n",
              "      fill: #1967D2;\n",
              "      height: 32px;\n",
              "      padding: 0 0 0 0;\n",
              "      width: 32px;\n",
              "    }\n",
              "\n",
              "    .colab-df-convert:hover {\n",
              "      background-color: #E2EBFA;\n",
              "      box-shadow: 0px 1px 2px rgba(60, 64, 67, 0.3), 0px 1px 3px 1px rgba(60, 64, 67, 0.15);\n",
              "      fill: #174EA6;\n",
              "    }\n",
              "\n",
              "    [theme=dark] .colab-df-convert {\n",
              "      background-color: #3B4455;\n",
              "      fill: #D2E3FC;\n",
              "    }\n",
              "\n",
              "    [theme=dark] .colab-df-convert:hover {\n",
              "      background-color: #434B5C;\n",
              "      box-shadow: 0px 1px 3px 1px rgba(0, 0, 0, 0.15);\n",
              "      filter: drop-shadow(0px 1px 2px rgba(0, 0, 0, 0.3));\n",
              "      fill: #FFFFFF;\n",
              "    }\n",
              "  </style>\n",
              "\n",
              "      <script>\n",
              "        const buttonEl =\n",
              "          document.querySelector('#df-8f64afb8-aefe-4539-b9b0-96952b3c0bf1 button.colab-df-convert');\n",
              "        buttonEl.style.display =\n",
              "          google.colab.kernel.accessAllowed ? 'block' : 'none';\n",
              "\n",
              "        async function convertToInteractive(key) {\n",
              "          const element = document.querySelector('#df-8f64afb8-aefe-4539-b9b0-96952b3c0bf1');\n",
              "          const dataTable =\n",
              "            await google.colab.kernel.invokeFunction('convertToInteractive',\n",
              "                                                     [key], {});\n",
              "          if (!dataTable) return;\n",
              "\n",
              "          const docLinkHtml = 'Like what you see? Visit the ' +\n",
              "            '<a target=\"_blank\" href=https://colab.research.google.com/notebooks/data_table.ipynb>data table notebook</a>'\n",
              "            + ' to learn more about interactive tables.';\n",
              "          element.innerHTML = '';\n",
              "          dataTable['output_type'] = 'display_data';\n",
              "          await google.colab.output.renderOutput(dataTable, element);\n",
              "          const docLink = document.createElement('div');\n",
              "          docLink.innerHTML = docLinkHtml;\n",
              "          element.appendChild(docLink);\n",
              "        }\n",
              "      </script>\n",
              "    </div>\n",
              "  </div>\n",
              "  "
            ]
          },
          "metadata": {},
          "execution_count": 183
        }
      ]
    },
    {
      "cell_type": "markdown",
      "source": [
        "## Data Science Interview Dataset"
      ],
      "metadata": {
        "id": "9Q8MZVVZSnyM"
      }
    },
    {
      "cell_type": "code",
      "source": [
        "qa_data = pd.read_csv('https://raw.githubusercontent.com/Kizuna-Cheng/Data_Science_Interviews_NLP/main/data.csv')\n",
        "qa_data"
      ],
      "metadata": {
        "id": "iKS3WdgOStnu",
        "colab": {
          "base_uri": "https://localhost:8080/",
          "height": 468
        },
        "outputId": "2844e600-49a8-4b57-d3f2-97891f51da6f"
      },
      "execution_count": 184,
      "outputs": [
        {
          "output_type": "execute_result",
          "data": {
            "text/plain": [
              "              Category                                          Questions  \\\n",
              "0    Linear Regression  What are the assumptions required for linear r...   \n",
              "1          Statistics   What is collinearity? What is multicollinearit...   \n",
              "2    Linear Regression        What are the drawbacks of a linear model?\\n   \n",
              "3    Linear Regression  What are ridge and lasso regression and what a...   \n",
              "4                  KNN                  How does K-Nearest Neighbor work?   \n",
              "..                 ...                                                ...   \n",
              "319     Neural Network  What are advantages and disadvantages of using...   \n",
              "320     Decision Trees  What is the default method for splitting in de...   \n",
              "321       XGBoost, SVM          Why does XGBoost perform better than SVM?   \n",
              "322     Neural Network  For NLP, what’s the main purpose of using an e...   \n",
              "323                EDA  When using scikit-learn, is it true that we ne...   \n",
              "\n",
              "                                               Answers  \n",
              "0    There are four assumptions associated with a l...  \n",
              "1    Collinearity is a linear association between t...  \n",
              "2    There are a couple of drawbacks of a linear mo...  \n",
              "3    Both L1 and L2 regularization are methods used...  \n",
              "4    K-Nearest Neighbors is a classification techni...  \n",
              "..                                                 ...  \n",
              "319  Advantages:\\n\\nStore data on the entire networ...  \n",
              "320  The default method is the Gini Index, which is...  \n",
              "321  XGBoos is an ensemble method that uses many tr...  \n",
              "322  We use the encoder-decoder model to generate a...  \n",
              "323  Yes. Most of the machine learning algorithms u...  \n",
              "\n",
              "[324 rows x 3 columns]"
            ],
            "text/html": [
              "\n",
              "  <div id=\"df-ae6f9668-bba0-41fe-9d6e-30c790b15d86\">\n",
              "    <div class=\"colab-df-container\">\n",
              "      <div>\n",
              "<style scoped>\n",
              "    .dataframe tbody tr th:only-of-type {\n",
              "        vertical-align: middle;\n",
              "    }\n",
              "\n",
              "    .dataframe tbody tr th {\n",
              "        vertical-align: top;\n",
              "    }\n",
              "\n",
              "    .dataframe thead th {\n",
              "        text-align: right;\n",
              "    }\n",
              "</style>\n",
              "<table border=\"1\" class=\"dataframe\">\n",
              "  <thead>\n",
              "    <tr style=\"text-align: right;\">\n",
              "      <th></th>\n",
              "      <th>Category</th>\n",
              "      <th>Questions</th>\n",
              "      <th>Answers</th>\n",
              "    </tr>\n",
              "  </thead>\n",
              "  <tbody>\n",
              "    <tr>\n",
              "      <th>0</th>\n",
              "      <td>Linear Regression</td>\n",
              "      <td>What are the assumptions required for linear r...</td>\n",
              "      <td>There are four assumptions associated with a l...</td>\n",
              "    </tr>\n",
              "    <tr>\n",
              "      <th>1</th>\n",
              "      <td>Statistics</td>\n",
              "      <td>What is collinearity? What is multicollinearit...</td>\n",
              "      <td>Collinearity is a linear association between t...</td>\n",
              "    </tr>\n",
              "    <tr>\n",
              "      <th>2</th>\n",
              "      <td>Linear Regression</td>\n",
              "      <td>What are the drawbacks of a linear model?\\n</td>\n",
              "      <td>There are a couple of drawbacks of a linear mo...</td>\n",
              "    </tr>\n",
              "    <tr>\n",
              "      <th>3</th>\n",
              "      <td>Linear Regression</td>\n",
              "      <td>What are ridge and lasso regression and what a...</td>\n",
              "      <td>Both L1 and L2 regularization are methods used...</td>\n",
              "    </tr>\n",
              "    <tr>\n",
              "      <th>4</th>\n",
              "      <td>KNN</td>\n",
              "      <td>How does K-Nearest Neighbor work?</td>\n",
              "      <td>K-Nearest Neighbors is a classification techni...</td>\n",
              "    </tr>\n",
              "    <tr>\n",
              "      <th>...</th>\n",
              "      <td>...</td>\n",
              "      <td>...</td>\n",
              "      <td>...</td>\n",
              "    </tr>\n",
              "    <tr>\n",
              "      <th>319</th>\n",
              "      <td>Neural Network</td>\n",
              "      <td>What are advantages and disadvantages of using...</td>\n",
              "      <td>Advantages:\\n\\nStore data on the entire networ...</td>\n",
              "    </tr>\n",
              "    <tr>\n",
              "      <th>320</th>\n",
              "      <td>Decision Trees</td>\n",
              "      <td>What is the default method for splitting in de...</td>\n",
              "      <td>The default method is the Gini Index, which is...</td>\n",
              "    </tr>\n",
              "    <tr>\n",
              "      <th>321</th>\n",
              "      <td>XGBoost, SVM</td>\n",
              "      <td>Why does XGBoost perform better than SVM?</td>\n",
              "      <td>XGBoos is an ensemble method that uses many tr...</td>\n",
              "    </tr>\n",
              "    <tr>\n",
              "      <th>322</th>\n",
              "      <td>Neural Network</td>\n",
              "      <td>For NLP, what’s the main purpose of using an e...</td>\n",
              "      <td>We use the encoder-decoder model to generate a...</td>\n",
              "    </tr>\n",
              "    <tr>\n",
              "      <th>323</th>\n",
              "      <td>EDA</td>\n",
              "      <td>When using scikit-learn, is it true that we ne...</td>\n",
              "      <td>Yes. Most of the machine learning algorithms u...</td>\n",
              "    </tr>\n",
              "  </tbody>\n",
              "</table>\n",
              "<p>324 rows × 3 columns</p>\n",
              "</div>\n",
              "      <button class=\"colab-df-convert\" onclick=\"convertToInteractive('df-ae6f9668-bba0-41fe-9d6e-30c790b15d86')\"\n",
              "              title=\"Convert this dataframe to an interactive table.\"\n",
              "              style=\"display:none;\">\n",
              "        \n",
              "  <svg xmlns=\"http://www.w3.org/2000/svg\" height=\"24px\"viewBox=\"0 0 24 24\"\n",
              "       width=\"24px\">\n",
              "    <path d=\"M0 0h24v24H0V0z\" fill=\"none\"/>\n",
              "    <path d=\"M18.56 5.44l.94 2.06.94-2.06 2.06-.94-2.06-.94-.94-2.06-.94 2.06-2.06.94zm-11 1L8.5 8.5l.94-2.06 2.06-.94-2.06-.94L8.5 2.5l-.94 2.06-2.06.94zm10 10l.94 2.06.94-2.06 2.06-.94-2.06-.94-.94-2.06-.94 2.06-2.06.94z\"/><path d=\"M17.41 7.96l-1.37-1.37c-.4-.4-.92-.59-1.43-.59-.52 0-1.04.2-1.43.59L10.3 9.45l-7.72 7.72c-.78.78-.78 2.05 0 2.83L4 21.41c.39.39.9.59 1.41.59.51 0 1.02-.2 1.41-.59l7.78-7.78 2.81-2.81c.8-.78.8-2.07 0-2.86zM5.41 20L4 18.59l7.72-7.72 1.47 1.35L5.41 20z\"/>\n",
              "  </svg>\n",
              "      </button>\n",
              "      \n",
              "  <style>\n",
              "    .colab-df-container {\n",
              "      display:flex;\n",
              "      flex-wrap:wrap;\n",
              "      gap: 12px;\n",
              "    }\n",
              "\n",
              "    .colab-df-convert {\n",
              "      background-color: #E8F0FE;\n",
              "      border: none;\n",
              "      border-radius: 50%;\n",
              "      cursor: pointer;\n",
              "      display: none;\n",
              "      fill: #1967D2;\n",
              "      height: 32px;\n",
              "      padding: 0 0 0 0;\n",
              "      width: 32px;\n",
              "    }\n",
              "\n",
              "    .colab-df-convert:hover {\n",
              "      background-color: #E2EBFA;\n",
              "      box-shadow: 0px 1px 2px rgba(60, 64, 67, 0.3), 0px 1px 3px 1px rgba(60, 64, 67, 0.15);\n",
              "      fill: #174EA6;\n",
              "    }\n",
              "\n",
              "    [theme=dark] .colab-df-convert {\n",
              "      background-color: #3B4455;\n",
              "      fill: #D2E3FC;\n",
              "    }\n",
              "\n",
              "    [theme=dark] .colab-df-convert:hover {\n",
              "      background-color: #434B5C;\n",
              "      box-shadow: 0px 1px 3px 1px rgba(0, 0, 0, 0.15);\n",
              "      filter: drop-shadow(0px 1px 2px rgba(0, 0, 0, 0.3));\n",
              "      fill: #FFFFFF;\n",
              "    }\n",
              "  </style>\n",
              "\n",
              "      <script>\n",
              "        const buttonEl =\n",
              "          document.querySelector('#df-ae6f9668-bba0-41fe-9d6e-30c790b15d86 button.colab-df-convert');\n",
              "        buttonEl.style.display =\n",
              "          google.colab.kernel.accessAllowed ? 'block' : 'none';\n",
              "\n",
              "        async function convertToInteractive(key) {\n",
              "          const element = document.querySelector('#df-ae6f9668-bba0-41fe-9d6e-30c790b15d86');\n",
              "          const dataTable =\n",
              "            await google.colab.kernel.invokeFunction('convertToInteractive',\n",
              "                                                     [key], {});\n",
              "          if (!dataTable) return;\n",
              "\n",
              "          const docLinkHtml = 'Like what you see? Visit the ' +\n",
              "            '<a target=\"_blank\" href=https://colab.research.google.com/notebooks/data_table.ipynb>data table notebook</a>'\n",
              "            + ' to learn more about interactive tables.';\n",
              "          element.innerHTML = '';\n",
              "          dataTable['output_type'] = 'display_data';\n",
              "          await google.colab.output.renderOutput(dataTable, element);\n",
              "          const docLink = document.createElement('div');\n",
              "          docLink.innerHTML = docLinkHtml;\n",
              "          element.appendChild(docLink);\n",
              "        }\n",
              "      </script>\n",
              "    </div>\n",
              "  </div>\n",
              "  "
            ]
          },
          "metadata": {},
          "execution_count": 184
        }
      ]
    },
    {
      "cell_type": "code",
      "source": [
        "qa_data.Questions[:10].tolist()"
      ],
      "metadata": {
        "id": "g4PbY6JQTJMs",
        "colab": {
          "base_uri": "https://localhost:8080/"
        },
        "outputId": "490de6ea-3a64-498c-9357-5ab810d673ae"
      },
      "execution_count": 185,
      "outputs": [
        {
          "output_type": "execute_result",
          "data": {
            "text/plain": [
              "['What are the assumptions required for linear regression? What if some of these assumptions are violated?',\n",
              " 'What is collinearity? What is multicollinearity? How do you deal with it?\\n',\n",
              " 'What are the drawbacks of a linear model?\\n',\n",
              " 'What are ridge and lasso regression and what are the differences between them?',\n",
              " 'How does K-Nearest Neighbor work?',\n",
              " 'How can you select k for k means?',\n",
              " 'Why is Naive Bayes “naive”?',\n",
              " 'What are the support vectors in SVM?',\n",
              " 'What is pruning in decision trees?',\n",
              " 'What are random forests? Why is Naive Bayes better?']"
            ]
          },
          "metadata": {},
          "execution_count": 185
        }
      ]
    },
    {
      "cell_type": "code",
      "source": [
        "qa_data.Answers[:10].tolist()"
      ],
      "metadata": {
        "colab": {
          "base_uri": "https://localhost:8080/"
        },
        "id": "_DNGO-wTvyR4",
        "outputId": "48aa9775-0cde-4434-aa4a-826ece81d2f3"
      },
      "execution_count": 186,
      "outputs": [
        {
          "output_type": "execute_result",
          "data": {
            "text/plain": [
              "['There are four assumptions associated with a linear regression model:\\nLinearity: The relationship between X and the mean of Y is linear.\\nHomoscedasticity: The variance of the residual is the same for any value of X.\\nIndependence: Observations are independent of each other.\\nNormality: For any fixed value of X, Y is normally distributed.\\nExtreme violations of these assumptions will make the results redundant. Small violations of these assumptions will result in a greater bias or variance of the estimate.',\n",
              " 'Collinearity is a linear association between two predictors. Multicollinearity is a situation where two or more predictors are highly linearly related.\\nThis can be problematic because it undermines the statistical significance of an independent variable. While it may not necessarily have a large impact on the model’s accuracy, it affects the variance of the prediction and reduces the quality of the interpretation of the independent variables.\\nYou could use the Variance Inflation Factors (VIF) to determine if there is any multicollinearity between independent variables — a standard benchmark is that if the VIF is greater than 5 then multicollinearity exists.',\n",
              " 'There are a couple of drawbacks of a linear model:\\nA linear model holds some strong assumptions that may not be true in application. It assumes a linear relationship, multivariate normality, no or little multicollinearity, no auto-correlation, and homoscedasticity.\\nA linear model can’t be used for discrete or binary outcomes.\\nYou can’t vary the model flexibility of a linear model.',\n",
              " 'Both L1 and L2 regularization are methods used to reduce the overfitting of training data. Least Squares minimizes the sum of the squared residuals, which can result in low bias but high variance. L2 Regularization, also called ridge regression, minimizes the sum of the squared residuals plus lambda times the slope squared. This additional term is called the Ridge Regression Penalty. This increases the bias of the model, making the fit worse on the training data, but also decreases the variance. If you take the ridge regression penalty and replace it with the absolute value of the slope, then you get Lasso regression or L1 regularization. L2 is less robust but has a stable solution and always one solution. L1 is more robust but has an unstable solution and can possibly have multiple solutions.',\n",
              " 'K-Nearest Neighbors is a classification technique where a new sample is classified by looking at the nearest classified points, hence ‘K-nearest’. In the example above, if k=1 then the unclassified point would be classified as a blue point.\\nIf the value of k is too low, it can be subject to outliers. However, if it’s too high, it may overlook classes with only a few samples.',\n",
              " 'You can use the elbow method, which is a popular method used to determine the optimal value of k. Essentially, what you do is plot the squared error for each value of k on a graph (value of k on the x-axis and squared error on the y-axis). Once the graph is made, the point where the distortion declines the most is the elbow point.',\n",
              " 'Naive Bayes is naive because it holds a strong assumption in that the features are assumed to be uncorrelated with one another, which typically is never the case.',\n",
              " 'The support vectors are the data points that touch the boundaries of the maximum margin.',\n",
              " 'Pruning is a technique in machine learning and search algorithms that reduces the size of decision trees by removing sections or branches of the tree that provide little to no power for classifying instances.',\n",
              " 'Random forests are an ensemble learning technique that builds off of decision trees. Random forests involve creating multiple decision trees using bootstrapped datasets of the original data and randomly selecting a subset of variables at each step of the decision tree. The model then selects the mode of all of the predictions of each decision tree. By relying on a “majority wins” model, it reduces the risk of error from an individual tree. Random forests offer several other benefits including strong performance, can model non-linear boundaries, no cross-validation needed, and gives feature importance.\\nNaive Bayes is better in the sense that it is easy to train and understand the process and results. A random forest can seem like a black box. Therefore, a Naive Bayes algorithm may be better in terms of implementation and understanding. However, in terms of performance, a random forest is typically stronger because it is an ensemble technique.']"
            ]
          },
          "metadata": {},
          "execution_count": 186
        }
      ]
    },
    {
      "cell_type": "code",
      "source": [
        "test_data = [\n",
        "             'What does linear regression stands for?',\n",
        " 'What is the differencebetween collinearity and multicollinearity?',\n",
        " 'What are the cons of using a linear model?\\n',\n",
        " 'What are ridge and lasso regression?',\n",
        " 'How does K-Nearest neighbor work?',\n",
        " 'How to select k for k means?',\n",
        " 'Why is Naive Bayes “naive”?',\n",
        " 'When should I use SVM?',\n",
        "'What is pruning in decision trees?',\n",
        " 'What are random forests? Why is Naive Bayes better?']"
      ],
      "metadata": {
        "id": "V-ttfUuWTWQu"
      },
      "execution_count": 187,
      "outputs": []
    },
    {
      "cell_type": "markdown",
      "source": [
        "## QA Baseline"
      ],
      "metadata": {
        "id": "6wutEbasSeDK"
      }
    },
    {
      "cell_type": "code",
      "source": [
        "def getResults(questions, fn):\n",
        "    def getResult(q):\n",
        "        answer, score, prediction = fn(q)\n",
        "        return [q, prediction, answer, score]\n",
        "    return pd.DataFrame(list(map(getResult, questions)), columns=[\"Q\", \"Prediction\", \"A\", \"Score\"])"
      ],
      "metadata": {
        "id": "fbrYjBrDTesl"
      },
      "execution_count": 188,
      "outputs": []
    },
    {
      "cell_type": "code",
      "source": [
        "def getNaiveAnswer(q):\n",
        "    row = qa_data.loc[qa_data['Questions'].str.contains(re.sub(r\"[^\\w'\\s)]+\", \"\", q),case=False)]\n",
        "    if len(row) > 0:\n",
        "        return row[\"Answers\"].values[0], 1, row[\"Questions\"].values[0]\n",
        "    else: return \"Sorry, I didn't get you\", 0, \"\"\n",
        "print(getNaiveAnswer('How does K-Nearest Neighbor work?'))\n",
        "getResults(test_data, getNaiveAnswer)"
      ],
      "metadata": {
        "id": "SPAO6GZdSbFs",
        "colab": {
          "base_uri": "https://localhost:8080/",
          "height": 512
        },
        "outputId": "959c45bb-3474-402a-bfea-43c7178c9ba6"
      },
      "execution_count": 189,
      "outputs": [
        {
          "output_type": "stream",
          "name": "stdout",
          "text": [
            "(\"Sorry, I didn't get you\", 0, '')\n"
          ]
        },
        {
          "output_type": "execute_result",
          "data": {
            "text/plain": [
              "                                                   Q  \\\n",
              "0            What does linear regression stands for?   \n",
              "1  What is the differencebetween collinearity and...   \n",
              "2       What are the cons of using a linear model?\\n   \n",
              "3               What are ridge and lasso regression?   \n",
              "4                  How does K-Nearest neighbor work?   \n",
              "5                       How to select k for k means?   \n",
              "6                        Why is Naive Bayes “naive”?   \n",
              "7                             When should I use SVM?   \n",
              "8                 What is pruning in decision trees?   \n",
              "9  What are random forests? Why is Naive Bayes be...   \n",
              "\n",
              "                                          Prediction  \\\n",
              "0                                                      \n",
              "1                                                      \n",
              "2                                                      \n",
              "3  What are ridge and lasso regression and what a...   \n",
              "4                                                      \n",
              "5                                                      \n",
              "6                                                      \n",
              "7                                                      \n",
              "8                 What is pruning in decision trees?   \n",
              "9                                                      \n",
              "\n",
              "                                                   A  Score  \n",
              "0                            Sorry, I didn't get you      0  \n",
              "1                            Sorry, I didn't get you      0  \n",
              "2                            Sorry, I didn't get you      0  \n",
              "3  Both L1 and L2 regularization are methods used...      1  \n",
              "4                            Sorry, I didn't get you      0  \n",
              "5                            Sorry, I didn't get you      0  \n",
              "6                            Sorry, I didn't get you      0  \n",
              "7                            Sorry, I didn't get you      0  \n",
              "8  Pruning is a technique in machine learning and...      1  \n",
              "9                            Sorry, I didn't get you      0  "
            ],
            "text/html": [
              "\n",
              "  <div id=\"df-0575f380-ea6e-4336-ae95-bd1fe4e3413f\">\n",
              "    <div class=\"colab-df-container\">\n",
              "      <div>\n",
              "<style scoped>\n",
              "    .dataframe tbody tr th:only-of-type {\n",
              "        vertical-align: middle;\n",
              "    }\n",
              "\n",
              "    .dataframe tbody tr th {\n",
              "        vertical-align: top;\n",
              "    }\n",
              "\n",
              "    .dataframe thead th {\n",
              "        text-align: right;\n",
              "    }\n",
              "</style>\n",
              "<table border=\"1\" class=\"dataframe\">\n",
              "  <thead>\n",
              "    <tr style=\"text-align: right;\">\n",
              "      <th></th>\n",
              "      <th>Q</th>\n",
              "      <th>Prediction</th>\n",
              "      <th>A</th>\n",
              "      <th>Score</th>\n",
              "    </tr>\n",
              "  </thead>\n",
              "  <tbody>\n",
              "    <tr>\n",
              "      <th>0</th>\n",
              "      <td>What does linear regression stands for?</td>\n",
              "      <td></td>\n",
              "      <td>Sorry, I didn't get you</td>\n",
              "      <td>0</td>\n",
              "    </tr>\n",
              "    <tr>\n",
              "      <th>1</th>\n",
              "      <td>What is the differencebetween collinearity and...</td>\n",
              "      <td></td>\n",
              "      <td>Sorry, I didn't get you</td>\n",
              "      <td>0</td>\n",
              "    </tr>\n",
              "    <tr>\n",
              "      <th>2</th>\n",
              "      <td>What are the cons of using a linear model?\\n</td>\n",
              "      <td></td>\n",
              "      <td>Sorry, I didn't get you</td>\n",
              "      <td>0</td>\n",
              "    </tr>\n",
              "    <tr>\n",
              "      <th>3</th>\n",
              "      <td>What are ridge and lasso regression?</td>\n",
              "      <td>What are ridge and lasso regression and what a...</td>\n",
              "      <td>Both L1 and L2 regularization are methods used...</td>\n",
              "      <td>1</td>\n",
              "    </tr>\n",
              "    <tr>\n",
              "      <th>4</th>\n",
              "      <td>How does K-Nearest neighbor work?</td>\n",
              "      <td></td>\n",
              "      <td>Sorry, I didn't get you</td>\n",
              "      <td>0</td>\n",
              "    </tr>\n",
              "    <tr>\n",
              "      <th>5</th>\n",
              "      <td>How to select k for k means?</td>\n",
              "      <td></td>\n",
              "      <td>Sorry, I didn't get you</td>\n",
              "      <td>0</td>\n",
              "    </tr>\n",
              "    <tr>\n",
              "      <th>6</th>\n",
              "      <td>Why is Naive Bayes “naive”?</td>\n",
              "      <td></td>\n",
              "      <td>Sorry, I didn't get you</td>\n",
              "      <td>0</td>\n",
              "    </tr>\n",
              "    <tr>\n",
              "      <th>7</th>\n",
              "      <td>When should I use SVM?</td>\n",
              "      <td></td>\n",
              "      <td>Sorry, I didn't get you</td>\n",
              "      <td>0</td>\n",
              "    </tr>\n",
              "    <tr>\n",
              "      <th>8</th>\n",
              "      <td>What is pruning in decision trees?</td>\n",
              "      <td>What is pruning in decision trees?</td>\n",
              "      <td>Pruning is a technique in machine learning and...</td>\n",
              "      <td>1</td>\n",
              "    </tr>\n",
              "    <tr>\n",
              "      <th>9</th>\n",
              "      <td>What are random forests? Why is Naive Bayes be...</td>\n",
              "      <td></td>\n",
              "      <td>Sorry, I didn't get you</td>\n",
              "      <td>0</td>\n",
              "    </tr>\n",
              "  </tbody>\n",
              "</table>\n",
              "</div>\n",
              "      <button class=\"colab-df-convert\" onclick=\"convertToInteractive('df-0575f380-ea6e-4336-ae95-bd1fe4e3413f')\"\n",
              "              title=\"Convert this dataframe to an interactive table.\"\n",
              "              style=\"display:none;\">\n",
              "        \n",
              "  <svg xmlns=\"http://www.w3.org/2000/svg\" height=\"24px\"viewBox=\"0 0 24 24\"\n",
              "       width=\"24px\">\n",
              "    <path d=\"M0 0h24v24H0V0z\" fill=\"none\"/>\n",
              "    <path d=\"M18.56 5.44l.94 2.06.94-2.06 2.06-.94-2.06-.94-.94-2.06-.94 2.06-2.06.94zm-11 1L8.5 8.5l.94-2.06 2.06-.94-2.06-.94L8.5 2.5l-.94 2.06-2.06.94zm10 10l.94 2.06.94-2.06 2.06-.94-2.06-.94-.94-2.06-.94 2.06-2.06.94z\"/><path d=\"M17.41 7.96l-1.37-1.37c-.4-.4-.92-.59-1.43-.59-.52 0-1.04.2-1.43.59L10.3 9.45l-7.72 7.72c-.78.78-.78 2.05 0 2.83L4 21.41c.39.39.9.59 1.41.59.51 0 1.02-.2 1.41-.59l7.78-7.78 2.81-2.81c.8-.78.8-2.07 0-2.86zM5.41 20L4 18.59l7.72-7.72 1.47 1.35L5.41 20z\"/>\n",
              "  </svg>\n",
              "      </button>\n",
              "      \n",
              "  <style>\n",
              "    .colab-df-container {\n",
              "      display:flex;\n",
              "      flex-wrap:wrap;\n",
              "      gap: 12px;\n",
              "    }\n",
              "\n",
              "    .colab-df-convert {\n",
              "      background-color: #E8F0FE;\n",
              "      border: none;\n",
              "      border-radius: 50%;\n",
              "      cursor: pointer;\n",
              "      display: none;\n",
              "      fill: #1967D2;\n",
              "      height: 32px;\n",
              "      padding: 0 0 0 0;\n",
              "      width: 32px;\n",
              "    }\n",
              "\n",
              "    .colab-df-convert:hover {\n",
              "      background-color: #E2EBFA;\n",
              "      box-shadow: 0px 1px 2px rgba(60, 64, 67, 0.3), 0px 1px 3px 1px rgba(60, 64, 67, 0.15);\n",
              "      fill: #174EA6;\n",
              "    }\n",
              "\n",
              "    [theme=dark] .colab-df-convert {\n",
              "      background-color: #3B4455;\n",
              "      fill: #D2E3FC;\n",
              "    }\n",
              "\n",
              "    [theme=dark] .colab-df-convert:hover {\n",
              "      background-color: #434B5C;\n",
              "      box-shadow: 0px 1px 3px 1px rgba(0, 0, 0, 0.15);\n",
              "      filter: drop-shadow(0px 1px 2px rgba(0, 0, 0, 0.3));\n",
              "      fill: #FFFFFF;\n",
              "    }\n",
              "  </style>\n",
              "\n",
              "      <script>\n",
              "        const buttonEl =\n",
              "          document.querySelector('#df-0575f380-ea6e-4336-ae95-bd1fe4e3413f button.colab-df-convert');\n",
              "        buttonEl.style.display =\n",
              "          google.colab.kernel.accessAllowed ? 'block' : 'none';\n",
              "\n",
              "        async function convertToInteractive(key) {\n",
              "          const element = document.querySelector('#df-0575f380-ea6e-4336-ae95-bd1fe4e3413f');\n",
              "          const dataTable =\n",
              "            await google.colab.kernel.invokeFunction('convertToInteractive',\n",
              "                                                     [key], {});\n",
              "          if (!dataTable) return;\n",
              "\n",
              "          const docLinkHtml = 'Like what you see? Visit the ' +\n",
              "            '<a target=\"_blank\" href=https://colab.research.google.com/notebooks/data_table.ipynb>data table notebook</a>'\n",
              "            + ' to learn more about interactive tables.';\n",
              "          element.innerHTML = '';\n",
              "          dataTable['output_type'] = 'display_data';\n",
              "          await google.colab.output.renderOutput(dataTable, element);\n",
              "          const docLink = document.createElement('div');\n",
              "          docLink.innerHTML = docLinkHtml;\n",
              "          element.appendChild(docLink);\n",
              "        }\n",
              "      </script>\n",
              "    </div>\n",
              "  </div>\n",
              "  "
            ]
          },
          "metadata": {},
          "execution_count": 189
        }
      ]
    },
    {
      "cell_type": "markdown",
      "source": [
        "## Levenstein distance"
      ],
      "metadata": {
        "id": "7pZ7l0yjZ-ko"
      }
    },
    {
      "cell_type": "code",
      "source": [
        "pip install python-Levenshtein"
      ],
      "metadata": {
        "colab": {
          "base_uri": "https://localhost:8080/"
        },
        "id": "pRpe6w6FaBYl",
        "outputId": "e3c0e441-2054-4c77-cceb-73f5ce95cece"
      },
      "execution_count": 190,
      "outputs": [
        {
          "output_type": "stream",
          "name": "stdout",
          "text": [
            "Requirement already satisfied: python-Levenshtein in /usr/local/lib/python3.7/dist-packages (0.12.2)\n",
            "Requirement already satisfied: setuptools in /usr/local/lib/python3.7/dist-packages (from python-Levenshtein) (57.4.0)\n"
          ]
        }
      ]
    },
    {
      "cell_type": "code",
      "source": [
        "from Levenshtein import ratio"
      ],
      "metadata": {
        "id": "Esb0AlxRaCsl"
      },
      "execution_count": 191,
      "outputs": []
    },
    {
      "cell_type": "code",
      "source": [
        "def getApproximateAnswer(q):\n",
        "    max_score = 0\n",
        "    answer = \"\"\n",
        "    prediction = \"\"\n",
        "    for idx, row in qa_data.iterrows():\n",
        "        score = ratio(row[\"Questions\"], q)\n",
        "        if score >= 0.9:  # I'm sure, stop here \n",
        "            return  row[\"Answers\"], score, row[\"Questions\"]\n",
        "        elif score > max_score: # I'm unsure, continue\n",
        "            max_score = score\n",
        "            answer = row[\"Answers\"]\n",
        "            prediction = row[\"Questions\"]\n",
        "\n",
        "    return answer, max_score, prediction"
      ],
      "metadata": {
        "id": "g7_SNAMxaKJe"
      },
      "execution_count": 266,
      "outputs": []
    },
    {
      "cell_type": "code",
      "source": [
        "getResults(test_data, getApproximateAnswer)"
      ],
      "metadata": {
        "colab": {
          "base_uri": "https://localhost:8080/",
          "height": 581
        },
        "id": "TSAnD4RwahQA",
        "outputId": "710f48f0-c993-4b04-be4e-b8f46cc7da96"
      },
      "execution_count": 267,
      "outputs": [
        {
          "output_type": "execute_result",
          "data": {
            "text/plain": [
              "                                                   Q  \\\n",
              "0            What does linear regression stands for?   \n",
              "1  What is the differencebetween collinearity and...   \n",
              "2       What are the cons of using a linear model?\\n   \n",
              "3               What are ridge and lasso regression?   \n",
              "4                  How does K-Nearest neighbor work?   \n",
              "5                       How to select k for k means?   \n",
              "6                        Why is Naive Bayes “naive”?   \n",
              "7                             When should I use SVM?   \n",
              "8                 What is pruning in decision trees?   \n",
              "9  What are random forests? Why is Naive Bayes be...   \n",
              "\n",
              "                                          Prediction  \\\n",
              "0  What methods for solving linear regression do ...   \n",
              "1  What is the difference between online and batc...   \n",
              "2        What are the drawbacks of a linear model?\\n   \n",
              "3  What are the main assumptions of linear regres...   \n",
              "4                  How does K-Nearest Neighbor work?   \n",
              "5                       How to select K for K-means?   \n",
              "6                        Why is Naive Bayes “naive”?   \n",
              "7              When would you use Adam and when SGD?   \n",
              "8                 What is pruning in decision trees?   \n",
              "9  What are random forests? Why is Naive Bayes be...   \n",
              "\n",
              "                                                   A     Score  \n",
              "0  To solve linear regression, you need to find t...  0.659574  \n",
              "1  Batch learning, also known as offline learning...  0.786885  \n",
              "2  There are a couple of drawbacks of a linear mo...  0.823529  \n",
              "3  There are several assumptions of linear regres...  0.689655  \n",
              "4  K-Nearest Neighbors is a classification techni...  0.969697  \n",
              "5  Domain knowledge, i.e. an expert knows the val...  0.892857  \n",
              "6  Naive Bayes is naive because it holds a strong...  1.000000  \n",
              "7  Adam tends to converge faster, while SGD often...  0.576271  \n",
              "8  Pruning is a technique in machine learning and...  1.000000  \n",
              "9  Random forests are an ensemble learning techni...  1.000000  "
            ],
            "text/html": [
              "\n",
              "  <div id=\"df-3fc0c1d8-2df5-42ca-a53a-e815e2e164c1\">\n",
              "    <div class=\"colab-df-container\">\n",
              "      <div>\n",
              "<style scoped>\n",
              "    .dataframe tbody tr th:only-of-type {\n",
              "        vertical-align: middle;\n",
              "    }\n",
              "\n",
              "    .dataframe tbody tr th {\n",
              "        vertical-align: top;\n",
              "    }\n",
              "\n",
              "    .dataframe thead th {\n",
              "        text-align: right;\n",
              "    }\n",
              "</style>\n",
              "<table border=\"1\" class=\"dataframe\">\n",
              "  <thead>\n",
              "    <tr style=\"text-align: right;\">\n",
              "      <th></th>\n",
              "      <th>Q</th>\n",
              "      <th>Prediction</th>\n",
              "      <th>A</th>\n",
              "      <th>Score</th>\n",
              "    </tr>\n",
              "  </thead>\n",
              "  <tbody>\n",
              "    <tr>\n",
              "      <th>0</th>\n",
              "      <td>What does linear regression stands for?</td>\n",
              "      <td>What methods for solving linear regression do ...</td>\n",
              "      <td>To solve linear regression, you need to find t...</td>\n",
              "      <td>0.659574</td>\n",
              "    </tr>\n",
              "    <tr>\n",
              "      <th>1</th>\n",
              "      <td>What is the differencebetween collinearity and...</td>\n",
              "      <td>What is the difference between online and batc...</td>\n",
              "      <td>Batch learning, also known as offline learning...</td>\n",
              "      <td>0.786885</td>\n",
              "    </tr>\n",
              "    <tr>\n",
              "      <th>2</th>\n",
              "      <td>What are the cons of using a linear model?\\n</td>\n",
              "      <td>What are the drawbacks of a linear model?\\n</td>\n",
              "      <td>There are a couple of drawbacks of a linear mo...</td>\n",
              "      <td>0.823529</td>\n",
              "    </tr>\n",
              "    <tr>\n",
              "      <th>3</th>\n",
              "      <td>What are ridge and lasso regression?</td>\n",
              "      <td>What are the main assumptions of linear regres...</td>\n",
              "      <td>There are several assumptions of linear regres...</td>\n",
              "      <td>0.689655</td>\n",
              "    </tr>\n",
              "    <tr>\n",
              "      <th>4</th>\n",
              "      <td>How does K-Nearest neighbor work?</td>\n",
              "      <td>How does K-Nearest Neighbor work?</td>\n",
              "      <td>K-Nearest Neighbors is a classification techni...</td>\n",
              "      <td>0.969697</td>\n",
              "    </tr>\n",
              "    <tr>\n",
              "      <th>5</th>\n",
              "      <td>How to select k for k means?</td>\n",
              "      <td>How to select K for K-means?</td>\n",
              "      <td>Domain knowledge, i.e. an expert knows the val...</td>\n",
              "      <td>0.892857</td>\n",
              "    </tr>\n",
              "    <tr>\n",
              "      <th>6</th>\n",
              "      <td>Why is Naive Bayes “naive”?</td>\n",
              "      <td>Why is Naive Bayes “naive”?</td>\n",
              "      <td>Naive Bayes is naive because it holds a strong...</td>\n",
              "      <td>1.000000</td>\n",
              "    </tr>\n",
              "    <tr>\n",
              "      <th>7</th>\n",
              "      <td>When should I use SVM?</td>\n",
              "      <td>When would you use Adam and when SGD?</td>\n",
              "      <td>Adam tends to converge faster, while SGD often...</td>\n",
              "      <td>0.576271</td>\n",
              "    </tr>\n",
              "    <tr>\n",
              "      <th>8</th>\n",
              "      <td>What is pruning in decision trees?</td>\n",
              "      <td>What is pruning in decision trees?</td>\n",
              "      <td>Pruning is a technique in machine learning and...</td>\n",
              "      <td>1.000000</td>\n",
              "    </tr>\n",
              "    <tr>\n",
              "      <th>9</th>\n",
              "      <td>What are random forests? Why is Naive Bayes be...</td>\n",
              "      <td>What are random forests? Why is Naive Bayes be...</td>\n",
              "      <td>Random forests are an ensemble learning techni...</td>\n",
              "      <td>1.000000</td>\n",
              "    </tr>\n",
              "  </tbody>\n",
              "</table>\n",
              "</div>\n",
              "      <button class=\"colab-df-convert\" onclick=\"convertToInteractive('df-3fc0c1d8-2df5-42ca-a53a-e815e2e164c1')\"\n",
              "              title=\"Convert this dataframe to an interactive table.\"\n",
              "              style=\"display:none;\">\n",
              "        \n",
              "  <svg xmlns=\"http://www.w3.org/2000/svg\" height=\"24px\"viewBox=\"0 0 24 24\"\n",
              "       width=\"24px\">\n",
              "    <path d=\"M0 0h24v24H0V0z\" fill=\"none\"/>\n",
              "    <path d=\"M18.56 5.44l.94 2.06.94-2.06 2.06-.94-2.06-.94-.94-2.06-.94 2.06-2.06.94zm-11 1L8.5 8.5l.94-2.06 2.06-.94-2.06-.94L8.5 2.5l-.94 2.06-2.06.94zm10 10l.94 2.06.94-2.06 2.06-.94-2.06-.94-.94-2.06-.94 2.06-2.06.94z\"/><path d=\"M17.41 7.96l-1.37-1.37c-.4-.4-.92-.59-1.43-.59-.52 0-1.04.2-1.43.59L10.3 9.45l-7.72 7.72c-.78.78-.78 2.05 0 2.83L4 21.41c.39.39.9.59 1.41.59.51 0 1.02-.2 1.41-.59l7.78-7.78 2.81-2.81c.8-.78.8-2.07 0-2.86zM5.41 20L4 18.59l7.72-7.72 1.47 1.35L5.41 20z\"/>\n",
              "  </svg>\n",
              "      </button>\n",
              "      \n",
              "  <style>\n",
              "    .colab-df-container {\n",
              "      display:flex;\n",
              "      flex-wrap:wrap;\n",
              "      gap: 12px;\n",
              "    }\n",
              "\n",
              "    .colab-df-convert {\n",
              "      background-color: #E8F0FE;\n",
              "      border: none;\n",
              "      border-radius: 50%;\n",
              "      cursor: pointer;\n",
              "      display: none;\n",
              "      fill: #1967D2;\n",
              "      height: 32px;\n",
              "      padding: 0 0 0 0;\n",
              "      width: 32px;\n",
              "    }\n",
              "\n",
              "    .colab-df-convert:hover {\n",
              "      background-color: #E2EBFA;\n",
              "      box-shadow: 0px 1px 2px rgba(60, 64, 67, 0.3), 0px 1px 3px 1px rgba(60, 64, 67, 0.15);\n",
              "      fill: #174EA6;\n",
              "    }\n",
              "\n",
              "    [theme=dark] .colab-df-convert {\n",
              "      background-color: #3B4455;\n",
              "      fill: #D2E3FC;\n",
              "    }\n",
              "\n",
              "    [theme=dark] .colab-df-convert:hover {\n",
              "      background-color: #434B5C;\n",
              "      box-shadow: 0px 1px 3px 1px rgba(0, 0, 0, 0.15);\n",
              "      filter: drop-shadow(0px 1px 2px rgba(0, 0, 0, 0.3));\n",
              "      fill: #FFFFFF;\n",
              "    }\n",
              "  </style>\n",
              "\n",
              "      <script>\n",
              "        const buttonEl =\n",
              "          document.querySelector('#df-3fc0c1d8-2df5-42ca-a53a-e815e2e164c1 button.colab-df-convert');\n",
              "        buttonEl.style.display =\n",
              "          google.colab.kernel.accessAllowed ? 'block' : 'none';\n",
              "\n",
              "        async function convertToInteractive(key) {\n",
              "          const element = document.querySelector('#df-3fc0c1d8-2df5-42ca-a53a-e815e2e164c1');\n",
              "          const dataTable =\n",
              "            await google.colab.kernel.invokeFunction('convertToInteractive',\n",
              "                                                     [key], {});\n",
              "          if (!dataTable) return;\n",
              "\n",
              "          const docLinkHtml = 'Like what you see? Visit the ' +\n",
              "            '<a target=\"_blank\" href=https://colab.research.google.com/notebooks/data_table.ipynb>data table notebook</a>'\n",
              "            + ' to learn more about interactive tables.';\n",
              "          element.innerHTML = '';\n",
              "          dataTable['output_type'] = 'display_data';\n",
              "          await google.colab.output.renderOutput(dataTable, element);\n",
              "          const docLink = document.createElement('div');\n",
              "          docLink.innerHTML = docLinkHtml;\n",
              "          element.appendChild(docLink);\n",
              "        }\n",
              "      </script>\n",
              "    </div>\n",
              "  </div>\n",
              "  "
            ]
          },
          "metadata": {},
          "execution_count": 267
        }
      ]
    },
    {
      "cell_type": "markdown",
      "source": [
        "## BERT info retriever"
      ],
      "metadata": {
        "id": "paTRPCRJ-DQs"
      }
    },
    {
      "cell_type": "code",
      "source": [
        "from transformers import BertTokenizer, BertForQuestionAnswering\n",
        "import torch\n",
        "\n",
        "tokenizerQABert = BertTokenizer.from_pretrained(\"deepset/bert-base-cased-squad2\")\n",
        "modelQABert = BertForQuestionAnswering.from_pretrained(\"deepset/bert-base-cased-squad2\")"
      ],
      "metadata": {
        "colab": {
          "base_uri": "https://localhost:8080/",
          "height": 177,
          "referenced_widgets": [
            "c8e9c0d7f84f4c2a9e556c4af2fe7baf",
            "a54b89444ae64e75a8bfceea7a7fe98b",
            "68d76b51db0f48379c1488abf912d945",
            "0361277418cf48c4b0afcda6488c7492",
            "163250f50cf64fccb9c8c7e5b8253ef4",
            "f92c26010b5c404aaf1401832108c720",
            "25591d7aec44492aa5062902b94aeb40",
            "5b2f47e4469d4aafa44d63198bbf5e9f",
            "4ef2d5244a3e4428970f87eb862f6581",
            "384b76a5353b4c049863935babed84a9",
            "4af684f05e4443fcaff6c9de12cc06c9",
            "c6eec94e06b74d989999da63f3c60246",
            "327f11d4dd8648728cb62e0d440040cb",
            "f8a79bde041045f58be15ecf00a2726a",
            "e39b25c99e054916aefa6097410a15d9",
            "179f756a48e9441e8bce760ea08e0553",
            "bfd115bb589c44d093bc55fd7e8b6606",
            "3a428cd711fb41c9b44d7ec9ea122f3f",
            "aab1fe7b44da41b3ac86689b4f922231",
            "61d9e74416db47d9ae6ea0dbb54c552c",
            "ad219ac726574ffb96a600d30d3151ef",
            "de813f5522144bf7aa53b6bed9e8637e",
            "26b0f79cac574400baccf8768c573a7c",
            "9b33276160414b57b4194a18a5f9374c",
            "97d1427652a8426e91e994b880269b55",
            "decaf3174d984edbb7a87e0e23ba112c",
            "67ae6e48555643719db5f57d857e942d",
            "60a2c69953a84a46a829bd9fceba4229",
            "f1b7b6f34e184f57a33a6b7488a11712",
            "6d3588a526cc402bb746d538aac4c8c4",
            "77a6d0a987754fc388d4b67b71a9fb34",
            "04931f1a1bf4414daeeb252ed6d6a555",
            "d40a27a4de1b4ca39b2d033fd9e7edbf",
            "95909835d38a4663aa199bc758229db6",
            "f9b26a2847284f53adc2e7be36f2db62",
            "0a7ae55ad5964356bfec5ddedfc79cdf",
            "e96a10f2070949339b24f4f33b333691",
            "07e24c252fc24ff79ae3fc90266c1a57",
            "af05b5d3905a44d9a887da3f04fe4f0c",
            "e9fff6c6992742e89c1d6dff94cee51d",
            "f54637b72a394402a2b765ef7fbcc4f4",
            "7578d2b397eb4337a8ca18ee77e86d04",
            "c1c5223f74fc47c09266188b927d0f31",
            "b201193b8ce1489fbbb416197fb8b473",
            "fe886acfc0884e7fbcc983a2c387f163",
            "65385f6134c945be894ccfb472a3cce8",
            "9f5b1132e524406ea1f13528e492cf97",
            "f63a0ca672ae4ae5aaaf35d69156df7b",
            "b1325552518c4568b3d0a8493c9ab4d6",
            "c57db8ca51824175a31803d8489049c5",
            "e571e575644344b9aa834aaa5a1223af",
            "fd0fcb31696b42f0a0ac22d620c4bb07",
            "0fac1cdc25064ad4a5595958afcf333f",
            "af65b0bca4614ca6af13f31ca7380236",
            "813408c818f7418e995c2113ab9982b7"
          ]
        },
        "id": "m-r7ggIt-I58",
        "outputId": "a20522be-93cb-4e56-b3cf-47c494445c60"
      },
      "execution_count": 197,
      "outputs": [
        {
          "output_type": "display_data",
          "data": {
            "text/plain": [
              "Downloading:   0%|          | 0.00/208k [00:00<?, ?B/s]"
            ],
            "application/vnd.jupyter.widget-view+json": {
              "version_major": 2,
              "version_minor": 0,
              "model_id": "c8e9c0d7f84f4c2a9e556c4af2fe7baf"
            }
          },
          "metadata": {}
        },
        {
          "output_type": "display_data",
          "data": {
            "text/plain": [
              "Downloading:   0%|          | 0.00/112 [00:00<?, ?B/s]"
            ],
            "application/vnd.jupyter.widget-view+json": {
              "version_major": 2,
              "version_minor": 0,
              "model_id": "c6eec94e06b74d989999da63f3c60246"
            }
          },
          "metadata": {}
        },
        {
          "output_type": "display_data",
          "data": {
            "text/plain": [
              "Downloading:   0%|          | 0.00/152 [00:00<?, ?B/s]"
            ],
            "application/vnd.jupyter.widget-view+json": {
              "version_major": 2,
              "version_minor": 0,
              "model_id": "26b0f79cac574400baccf8768c573a7c"
            }
          },
          "metadata": {}
        },
        {
          "output_type": "display_data",
          "data": {
            "text/plain": [
              "Downloading:   0%|          | 0.00/508 [00:00<?, ?B/s]"
            ],
            "application/vnd.jupyter.widget-view+json": {
              "version_major": 2,
              "version_minor": 0,
              "model_id": "95909835d38a4663aa199bc758229db6"
            }
          },
          "metadata": {}
        },
        {
          "output_type": "display_data",
          "data": {
            "text/plain": [
              "Downloading:   0%|          | 0.00/413M [00:00<?, ?B/s]"
            ],
            "application/vnd.jupyter.widget-view+json": {
              "version_major": 2,
              "version_minor": 0,
              "model_id": "fe886acfc0884e7fbcc983a2c387f163"
            }
          },
          "metadata": {}
        }
      ]
    },
    {
      "cell_type": "code",
      "source": [
        "question, text = \"What is collinearity?\", qa_data.Answers[1]\n",
        "print(qa_data.Answers[1])"
      ],
      "metadata": {
        "id": "yiS07xNP-PLH"
      },
      "execution_count": null,
      "outputs": []
    },
    {
      "cell_type": "code",
      "source": [
        "def answer_with_BERT(question, text):\n",
        "  inputs = tokenizerQABert(question, text, return_tensors=\"pt\")\n",
        "  with torch.no_grad():\n",
        "    outputs = modelQABert(**inputs)\n",
        "  answer_start_index = outputs.start_logits.argmax()\n",
        "  answer_end_index = outputs.end_logits.argmax()\n",
        "  predict_answer_tokens = inputs.input_ids[0, answer_start_index : answer_end_index + 1]\n",
        "  return tokenizerQABert.decode(predict_answer_tokens)"
      ],
      "metadata": {
        "id": "bPmyp-9A-WrV"
      },
      "execution_count": 199,
      "outputs": []
    },
    {
      "cell_type": "code",
      "source": [
        "#[CLS] - no answer\n",
        "print(answer_with_BERT(\"What is collinearity?\", qa_data.Answers[1]))"
      ],
      "metadata": {
        "colab": {
          "base_uri": "https://localhost:8080/"
        },
        "id": "HBwXAco3_HUu",
        "outputId": "8494994d-514c-4027-cdf1-7f994dfd6f23"
      },
      "execution_count": 234,
      "outputs": [
        {
          "output_type": "stream",
          "name": "stdout",
          "text": [
            "a linear association between two predictors\n",
            "[CLS]\n"
          ]
        }
      ]
    },
    {
      "cell_type": "code",
      "source": [
        "def find_answer(similiar_question):\n",
        "  if getApproximateAnswer(similiar_question)[1]<0.6:\n",
        "    return \"Sorry, I didn't get you\"\n",
        "  q = getApproximateAnswer(similiar_question)[2]\n",
        "  answ = qa_data[qa_data['Questions']==q].iloc[0]['Answers']\n",
        "  short_answer = answer_with_BERT(similiar_question, answ)\n",
        "  if short_answer != '[CLS]':\n",
        "    return short_answer\n",
        "  else: return \"Sorry, I didn't get you\""
      ],
      "metadata": {
        "id": "fYFfypOGD19-"
      },
      "execution_count": 262,
      "outputs": []
    },
    {
      "cell_type": "code",
      "source": [
        "print(getApproximateAnswer(\"What is log regression?\"))\n",
        "print(find_answer('What is log regression?'))"
      ],
      "metadata": {
        "colab": {
          "base_uri": "https://localhost:8080/"
        },
        "id": "19x4yZ-SGFmK",
        "outputId": "4129ea6f-5fc9-4458-9457-98314d56b4dd"
      },
      "execution_count": 251,
      "outputs": [
        {
          "output_type": "stream",
          "name": "stdout",
          "text": [
            "('Logistic regression is also known as the logit model. It is a technique used to forecast the binary outcome from a linear combination of predictor variables.', 0.9019607843137255, 'What is logistic regression?')\n",
            "a technique used to forecast the binary outcome from a linear combination of predictor variables\n"
          ]
        }
      ]
    },
    {
      "cell_type": "code",
      "source": [
        "print(getApproximateAnswer(\"What is collinearity?\"))\n",
        "print(find_answer('What is collinearity?'))"
      ],
      "metadata": {
        "id": "QrUIUlIGLaXf",
        "outputId": "e13dd2d6-add5-4d47-e529-fe19c2c9c3d2",
        "colab": {
          "base_uri": "https://localhost:8080/"
        }
      },
      "execution_count": 263,
      "outputs": [
        {
          "output_type": "stream",
          "name": "stdout",
          "text": [
            "('Overfitting is an error where the model ‘fits’ the data too well, resulting in a model with high variance and low bias. As a consequence, an overfit model will inaccurately predict new data points even though it has a high accuracy on the training data.', 0.6829268292682927, 'What is overfitting?')\n",
            "Sorry, I didn't get you\n"
          ]
        }
      ]
    },
    {
      "cell_type": "code",
      "source": [
        "print(getApproximateAnswer(\"When should I use SVM?\"))\n",
        "print(find_answer('When should I use SVM?'))"
      ],
      "metadata": {
        "id": "IDI4RQSjLnJD",
        "outputId": "984459f6-75dc-41a9-ffd1-8c8ff6724dfc",
        "colab": {
          "base_uri": "https://localhost:8080/"
        }
      },
      "execution_count": 265,
      "outputs": [
        {
          "output_type": "stream",
          "name": "stdout",
          "text": [
            "(\"Sorry, I didn't get you.\", 0.576271186440678, 'When would you use Adam and when SGD?')\n",
            "Sorry, I didn't get you\n"
          ]
        }
      ]
    },
    {
      "cell_type": "code",
      "source": [
        "find_answer('What is linear regression?')"
      ],
      "metadata": {
        "id": "Ha-QVFXrJQcC",
        "outputId": "44569cf9-0401-4fe2-a219-ee3d0cf15ab2",
        "colab": {
          "base_uri": "https://localhost:8080/",
          "height": 37
        }
      },
      "execution_count": 253,
      "outputs": [
        {
          "output_type": "execute_result",
          "data": {
            "text/plain": [
              "'a technique used to forecast the binary outcome from a linear combination of predictor variables'"
            ],
            "application/vnd.google.colaboratory.intrinsic+json": {
              "type": "string"
            }
          },
          "metadata": {},
          "execution_count": 253
        }
      ]
    },
    {
      "cell_type": "markdown",
      "source": [
        "# Part III: Natural Language Generation"
      ],
      "metadata": {
        "id": "L3cyjAcBQDdX"
      }
    },
    {
      "cell_type": "code",
      "source": [
        "# checkpoint \n",
        "checkpoint = \"microsoft/DialoGPT-medium\"\n",
        "# download and cache tokenizer\n",
        "tokenizer2 = AutoTokenizer.from_pretrained(checkpoint)\n",
        "# download and cache pre-trained model\n",
        "modelNLG = AutoModelForCausalLM.from_pretrained(checkpoint)"
      ],
      "metadata": {
        "id": "pCDZhsH2QhMd"
      },
      "execution_count": 194,
      "outputs": []
    },
    {
      "cell_type": "markdown",
      "source": [
        "# Part IV: Bot Development"
      ],
      "metadata": {
        "id": "cp9LKdPgP-Io"
      }
    },
    {
      "cell_type": "code",
      "source": [
        "class ChatBot():\n",
        "    def __init__(self):\n",
        "        self.chat_history_ids = None\n",
        "        self.bot_input_ids = None\n",
        "        self.end_chat = False\n",
        "        self.is_greeting = False\n",
        "        self.is_question = False\n",
        "        self.text_input = None\n",
        "        self.welcome()\n",
        "        \n",
        "    def welcome(self):\n",
        "        print(\"Initializing ChatBot ...\")\n",
        "        time.sleep(2)\n",
        "        print('Type any word to start the conversation!\\n')\n",
        "        time.sleep(3)\n",
        "\n",
        "        \n",
        "    def user_input(self):\n",
        "        text = str(input(\"User    >> \"))\n",
        "        if classify_goodbyes(text.lower()) == 1:\n",
        "            self.end_chat=True\n",
        "            print('ChatBot >>  See you soon! Bye!')\n",
        "            time.sleep(1)\n",
        "            print('\\nQuitting ChatBot ...')\n",
        "        else:\n",
        "            if classify_greet(text) == -1:\n",
        "              self.text_input = text\n",
        "              if find_answer(self.text_input) != 'Sorry, I didn\\'t get you':\n",
        "                self.is_question = True\n",
        "            else: \n",
        "              self.is_greeting = True\n",
        "\n",
        "    def bot_greet(self):\n",
        "        greeting = np.random.choice([\n",
        "            \"Welcome, I am ChatBot, here for your kind service\",\n",
        "            \"Hey, Great day! I am your virtual assistant\",\n",
        "            \"Hello, it's my pleasure meeting you\",\n",
        "            \"Hi, I am a ChatBot. Let's chat!\"\n",
        "        ])\n",
        "        print(\"ChatBot >>  \" + greeting)\n",
        "        self.is_greeting = False\n",
        "\n",
        "    def bot_response(self):\n",
        "        self.new_user_input_ids = tokenizer2.encode(self.text_input + tokenizer2.eos_token, \\\n",
        "                                                       return_tensors='pt')\n",
        "        if self.chat_history_ids is not None:\n",
        "            self.bot_input_ids = torch.cat([self.chat_history_ids, self.new_user_input_ids], dim=-1) \n",
        "        else:\n",
        "            self.bot_input_ids = self.new_user_input_ids\n",
        "         \n",
        "        self.chat_history_ids = modelNLG.generate(self.bot_input_ids, max_length=1000, \\\n",
        "                                               pad_token_id=tokenizer2.eos_token_id)\n",
        "            \n",
        "        response = tokenizer2.decode(self.chat_history_ids[:, self.bot_input_ids.shape[-1]:][0], \\\n",
        "                               skip_special_tokens=True)\n",
        "        if response == \"\":\n",
        "            response = self.random_response()\n",
        "        print('ChatBot >>  '+ response)\n",
        "    \n",
        "    def bot_answer(self):\n",
        "      print('ChatBot >>  '+ find_answer(self.text_input))\n",
        "      self.is_question = False\n",
        "        \n",
        "    def random_response(self):\n",
        "        i = -1\n",
        "        response = tokenizer2.decode(self.chat_history_ids[:, self.bot_input_ids.shape[i]:][0], \\\n",
        "                               skip_special_tokens=True)\n",
        "        while response == '':\n",
        "            i = i-1\n",
        "            response = tokenizer2.decode(self.chat_history_ids[:, self.bot_input_ids.shape[i]:][0], \\\n",
        "                               skip_special_tokens=True)\n",
        "        if response.strip() == '?':\n",
        "            reply = np.random.choice([\"I don't know\", \n",
        "                                     \"I am not sure\"])\n",
        "        else:\n",
        "            reply = np.random.choice([\"Great\", \n",
        "                                      \"Fine. What's up?\", \n",
        "                                      \"Okay\"\n",
        "                                     ])\n",
        "        return reply"
      ],
      "metadata": {
        "id": "NG4bFpPiQhVI"
      },
      "execution_count": 259,
      "outputs": []
    },
    {
      "cell_type": "code",
      "source": [
        "bot = ChatBot()\n",
        "while True:\n",
        "    bot.user_input()\n",
        "    if bot.end_chat:\n",
        "        break\n",
        "    if bot.is_greeting == False:\n",
        "      if bot.is_question == True:\n",
        "        bot.bot_answer()\n",
        "      else:\n",
        "        bot.bot_response() \n",
        "    else: bot.bot_greet()  "
      ],
      "metadata": {
        "id": "YjL1zeLuQhip",
        "colab": {
          "base_uri": "https://localhost:8080/"
        },
        "outputId": "4d0332c4-85c5-4efa-dd0c-d71bd00b3b05"
      },
      "execution_count": 261,
      "outputs": [
        {
          "output_type": "stream",
          "name": "stdout",
          "text": [
            "Initializing ChatBot ...\n",
            "Type any word to start the conversation!\n",
            "\n",
            "User    >> When should I use SVM?\n",
            "ChatBot >>  When you have a good enough team.\n",
            "User    >> I get you\n",
            "ChatBot >>  I get you too\n",
            "User    >> bye\n",
            "ChatBot >>  See you soon! Bye!\n",
            "\n",
            "Quitting ChatBot ...\n"
          ]
        }
      ]
    }
  ]
}